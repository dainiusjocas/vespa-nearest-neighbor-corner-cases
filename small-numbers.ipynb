{
 "cells": [
  {
   "metadata": {},
   "cell_type": "code",
   "outputs": [],
   "execution_count": null,
   "source": [
    "# The goal is to show all the complexities of NN search with small integer numbers\n",
    "# - global-phase rank-score-drop-limit\n",
    "# - different result sorts"
   ],
   "id": "2c296d6fdf6e42d1"
  },
  {
   "cell_type": "code",
   "id": "initial_id",
   "metadata": {
    "collapsed": true,
    "ExecuteTime": {
     "end_time": "2025-02-24T11:59:13.049647Z",
     "start_time": "2025-02-24T11:59:12.683004Z"
    }
   },
   "source": [
    "# Start Vespa with all the required functionality present\n",
    "!docker run --detach --rm --name vespa-small-numbers --hostname vespa-small-numbers --publish 0.0.0.0:8080:8080 --publish 0.0.0.0:19050:19050 --publish 0.0.0.0:19071:19071 vespaengine/vespa:8.484.1"
   ],
   "outputs": [
    {
     "name": "stdout",
     "output_type": "stream",
     "text": [
      "403bf8ec04dd30a7fc515f944e5e1e2280f9cd5f173f31a89a036ba51ce5f903\r\n"
     ]
    }
   ],
   "execution_count": 9
  },
  {
   "metadata": {
    "ExecuteTime": {
     "end_time": "2025-02-24T15:25:25.556329Z",
     "start_time": "2025-02-24T15:25:25.552781Z"
    }
   },
   "cell_type": "code",
   "source": [
    "# Utility functions for the demo\n",
    "from typing import MutableMapping\n",
    "import pandas as pd\n",
    "\n",
    "def _flatten_dict_gen(d, parent_key, sep):\n",
    "    for k, v in d.items():\n",
    "        new_key = parent_key + sep + k if parent_key else k\n",
    "        if isinstance(v, MutableMapping):\n",
    "            yield from flatten_dict(v, new_key, sep=sep).items()\n",
    "        else:\n",
    "            yield new_key, v\n",
    "\n",
    "\n",
    "def flatten_dict(d: MutableMapping, parent_key: str = '', sep: str = '.'):\n",
    "    return dict(_flatten_dict_gen(d, parent_key, sep))\n",
    "\n",
    "\n",
    "def asdf(vespa_response):\n",
    "    \"\"\"Convert Vespa response to the DataFrame for presentation\"\"\"\n",
    "    hits = vespa_response.hits\n",
    "    r_hits = [{\n",
    "        'position': index,\n",
    "        'relevance': item['relevance'],\n",
    "        **flatten_dict(item['fields'])\n",
    "    } for index, item in enumerate(hits)]\n",
    "    return pd.DataFrame.from_records(data=r_hits).drop(columns='sddocname')"
   ],
   "id": "e340fb43d055501c",
   "outputs": [],
   "execution_count": 101
  },
  {
   "metadata": {
    "ExecuteTime": {
     "end_time": "2025-02-25T09:11:23.257095Z",
     "start_time": "2025-02-25T09:11:23.249010Z"
    }
   },
   "cell_type": "code",
   "source": [
    "# Setup a simple Vespa application package\n",
    "from vespa.package import (ApplicationPackage, Field, Schema, Document, RankProfile, HNSW, GlobalPhaseRanking, Function,\n",
    "                           QueryProfile, QueryField, QueryProfileType, QueryTypeField)\n",
    "from vespa.io import VespaResponse\n",
    "\n",
    "embedding_tensor_type = \"tensor<float>(d0[1])\"\n",
    "\n",
    "vap = ApplicationPackage(\n",
    "    name=\"annsmallnumbers\",\n",
    "    query_profile_type=QueryProfileType(\n",
    "        fields=[\n",
    "            QueryTypeField(\n",
    "                name=\"ranking.features.query(q)\",\n",
    "                type= embedding_tensor_type\n",
    "            )\n",
    "        ]\n",
    "    ),\n",
    "    query_profile=QueryProfile(\n",
    "        fields=[\n",
    "            QueryField(name='ranking.matching.approximateThreshold', value='0.99'),\n",
    "            QueryField(name='hits', value=5),\n",
    "            QueryField(name='ranking.globalPhase.rankScoreDropLimit', value=0.0),\n",
    "        ]\n",
    "    ),\n",
    "    schema=[\n",
    "        Schema(\n",
    "            name=\"ann\",\n",
    "            document=Document(\n",
    "                fields=[\n",
    "                    Field(\n",
    "                        name=\"filter\",\n",
    "                        type=\"int\",\n",
    "                        indexing=[\"attribute\", \"summary\"],\n",
    "                        attribute=[\"fast-search\"],\n",
    "                    ),\n",
    "                    Field(\n",
    "                        name=\"embedding\",\n",
    "                        type=embedding_tensor_type,\n",
    "                        indexing=[\"attribute\", \"index\"],\n",
    "                        ann=HNSW(\n",
    "                            distance_metric=\"euclidean\",\n",
    "                            max_links_per_node=16,\n",
    "                            neighbors_to_explore_at_insert=200,\n",
    "                        ))\n",
    "                ]\n",
    "            ),\n",
    "            rank_profiles=[\n",
    "                RankProfile(\n",
    "                    name=\"ann\",\n",
    "                    functions=[\n",
    "                        Function(\n",
    "                            name='nearest_neighbor_closeness',\n",
    "                            # rawScore = 1 / (1 + sqrt((q - d)^2))\n",
    "                            expression='rawScore(embedding)',\n",
    "                        ),\n",
    "                    ],\n",
    "                    first_phase=\"nearest_neighbor_closeness + 1\",\n",
    "                    match_features=['nearest_neighbor_closeness', 'firstPhase'],\n",
    "                ),\n",
    "                RankProfile(\n",
    "                    name=\"ann_global_cut\",\n",
    "                    inherits='ann',\n",
    "                    inputs=[\n",
    "                        (\"query(ann_hits)\", \"double\", \"1\"),\n",
    "                    ],\n",
    "                    first_phase=\"nearest_neighbor_closeness + 1\",\n",
    "                    global_phase=GlobalPhaseRanking(\n",
    "                        rerank_count=5,\n",
    "                        # reciprocal_rank=1.0 / (k + rank), where I set k=0\n",
    "                        expression=\"if(reciprocal_rank(nearest_neighbor_closeness, 0) >= 1.0/query(ann_hits) || nearest_neighbor_closeness == 0, firstPhase, 0.0)\",\n",
    "                        # This is not rendered properly in the schema file, but it is covered with the default query profile\n",
    "                        rank_score_drop_limit=0.0,\n",
    "                    )\n",
    "                ),\n",
    "                RankProfile(\n",
    "                    name='ann_global_cut_sorted',\n",
    "                    inherits='ann_global_cut',\n",
    "                    first_phase=\"attribute(filter) + 1\",\n",
    "                    global_phase=GlobalPhaseRanking(\n",
    "                        rerank_count=5,\n",
    "                        expression=\"if(reciprocal_rank(nearest_neighbor_closeness, 0) >= 1.0/query(ann_hits) || nearest_neighbor_closeness == 0, firstPhase, 0.0)\",\n",
    "                        rank_score_drop_limit=0.0,\n",
    "                    )\n",
    "                ),\n",
    "                RankProfile(\n",
    "                    name='ann_global_cut_sorted_asc',\n",
    "                    inherits='ann_global_cut',\n",
    "                    first_phase=\"2147483647 - attribute(filter)\", # Some very large number so, that the difference is going to be positive\n",
    "                    global_phase=GlobalPhaseRanking(\n",
    "                        rerank_count=5,\n",
    "                        expression=\"if(reciprocal_rank(nearest_neighbor_closeness, 0) >= 1.0/query(ann_hits) || nearest_neighbor_closeness == 0, firstPhase, 0.0)\",\n",
    "                        rank_score_drop_limit=0.0,\n",
    "                    )\n",
    "                )\n",
    "            ]\n",
    "        )\n",
    "    ]\n",
    ")"
   ],
   "id": "7c4175ae7f7e16ee",
   "outputs": [],
   "execution_count": 174
  },
  {
   "metadata": {
    "ExecuteTime": {
     "end_time": "2025-02-25T09:11:24.713592Z",
     "start_time": "2025-02-25T09:11:23.974856Z"
    }
   },
   "cell_type": "code",
   "source": [
    "# Deploy VAP zip file\n",
    "vap_file_name = \"global-small-numbers.zip\"\n",
    "vap.to_zipfile(vap_file_name)\n",
    "! vespa deploy {vap_file_name} -t http://localhost:19071"
   ],
   "id": "7b2621c047905c8b",
   "outputs": [
    {
     "name": "stdout",
     "output_type": "stream",
     "text": [
      "Uploading application package... done;1m⡿\u001B[0;22m\r\n",
      "\u001B[32mSuccess:\u001B[0m Deployed \u001B[36m'global-small-numbers.zip'\u001B[0m with session ID \u001B[36m22\u001B[0m\r\n"
     ]
    }
   ],
   "execution_count": 175
  },
  {
   "metadata": {
    "ExecuteTime": {
     "end_time": "2025-02-24T11:59:57.616349Z",
     "start_time": "2025-02-24T11:59:57.613342Z"
    }
   },
   "cell_type": "code",
   "source": [
    "from vespa.application import Vespa\n",
    "\n",
    "prod_vespa_host = \"http://localhost\"\n",
    "app = Vespa(url=prod_vespa_host, port=8080)"
   ],
   "id": "c7ba40f1173f545a",
   "outputs": [],
   "execution_count": 11
  },
  {
   "metadata": {
    "ExecuteTime": {
     "end_time": "2025-02-24T12:23:02.885153Z",
     "start_time": "2025-02-24T12:23:02.858367Z"
    }
   },
   "cell_type": "code",
   "source": [
    "# Create and feed 5 dummy docs\n",
    "docs = [\n",
    "    {\n",
    "        'id': f'{i}',\n",
    "        'fields': {\n",
    "            'filter': i,\n",
    "            'embedding': [i]\n",
    "        }\n",
    "    } for i in range(5)]\n",
    "\n",
    "\n",
    "def callback(response: VespaResponse, document_id: str):\n",
    "    if not response.is_successful():\n",
    "        print(f\"Error when feeding document {document_id}: {response.get_json()}\")\n",
    "\n",
    "\n",
    "app.feed_iterable(docs, schema=\"ann\", namespace=\"ann\", callback=callback)"
   ],
   "id": "e47a1c2ae2f82865",
   "outputs": [],
   "execution_count": 32
  },
  {
   "metadata": {
    "ExecuteTime": {
     "end_time": "2025-02-25T09:12:59.388310Z",
     "start_time": "2025-02-25T09:12:59.386199Z"
    }
   },
   "cell_type": "code",
   "source": [
    "# simple query that we would expect fetches 2 hits: 1 lexical and 1 from NN\n",
    "request_body = {\n",
    "    'yql': \"\"\"\n",
    "        select *\n",
    "        from ann\n",
    "        where (\n",
    "            filter = 0\n",
    "            OR\n",
    "            (\n",
    "                ({targetHits:1}nearestNeighbor(embedding, q))\n",
    "                AND\n",
    "                filter >= 3\n",
    "            )\n",
    "        )\n",
    "        \"\"\",\n",
    "    'ranking.profile': 'ann',\n",
    "    \"input.query(q)\": [4]\n",
    "}"
   ],
   "id": "44bdb0cf27d1f01e",
   "outputs": [],
   "execution_count": 177
  },
  {
   "metadata": {
    "ExecuteTime": {
     "end_time": "2025-02-25T09:13:01.795715Z",
     "start_time": "2025-02-25T09:13:01.764610Z"
    }
   },
   "cell_type": "code",
   "source": [
    "# First, let's see what matched when no ranking is involved, so let's try the 'unranked' ranking profile\n",
    "asdf(app.query(body={\n",
    "    **request_body,\n",
    "    'ranking.profile': 'unranked',\n",
    "}))"
   ],
   "id": "77ad4333cd2041a4",
   "outputs": [
    {
     "data": {
      "text/plain": [
       "   position  relevance     documentid  filter\n",
       "0         0        0.0  id:ann:ann::0       0\n",
       "1         1        0.0  id:ann:ann::3       3\n",
       "2         2        0.0  id:ann:ann::4       4"
      ],
      "text/html": [
       "<div>\n",
       "<style scoped>\n",
       "    .dataframe tbody tr th:only-of-type {\n",
       "        vertical-align: middle;\n",
       "    }\n",
       "\n",
       "    .dataframe tbody tr th {\n",
       "        vertical-align: top;\n",
       "    }\n",
       "\n",
       "    .dataframe thead th {\n",
       "        text-align: right;\n",
       "    }\n",
       "</style>\n",
       "<table border=\"1\" class=\"dataframe\">\n",
       "  <thead>\n",
       "    <tr style=\"text-align: right;\">\n",
       "      <th></th>\n",
       "      <th>position</th>\n",
       "      <th>relevance</th>\n",
       "      <th>documentid</th>\n",
       "      <th>filter</th>\n",
       "    </tr>\n",
       "  </thead>\n",
       "  <tbody>\n",
       "    <tr>\n",
       "      <th>0</th>\n",
       "      <td>0</td>\n",
       "      <td>0.0</td>\n",
       "      <td>id:ann:ann::0</td>\n",
       "      <td>0</td>\n",
       "    </tr>\n",
       "    <tr>\n",
       "      <th>1</th>\n",
       "      <td>1</td>\n",
       "      <td>0.0</td>\n",
       "      <td>id:ann:ann::3</td>\n",
       "      <td>3</td>\n",
       "    </tr>\n",
       "    <tr>\n",
       "      <th>2</th>\n",
       "      <td>2</td>\n",
       "      <td>0.0</td>\n",
       "      <td>id:ann:ann::4</td>\n",
       "      <td>4</td>\n",
       "    </tr>\n",
       "  </tbody>\n",
       "</table>\n",
       "</div>"
      ]
     },
     "execution_count": 178,
     "metadata": {},
     "output_type": "execute_result"
    }
   ],
   "execution_count": 178
  },
  {
   "metadata": {
    "ExecuteTime": {
     "end_time": "2025-02-25T09:15:16.730100Z",
     "start_time": "2025-02-25T09:15:16.703204Z"
    }
   },
   "cell_type": "code",
   "source": [
    "# but it returns 3 hits! 1 lexical, 2 from NN, yeah and why 5 is not in the results?\n",
    "# Now what happens when our naive ranking is done\n",
    "asdf(app.query(body=request_body))"
   ],
   "id": "d2f9d294d6e3737f",
   "outputs": [
    {
     "data": {
      "text/plain": [
       "   position  relevance  matchfeatures.firstPhase  \\\n",
       "0         0        2.0                       2.0   \n",
       "1         1        1.5                       1.5   \n",
       "2         2        1.0                       1.0   \n",
       "\n",
       "   matchfeatures.nearest_neighbor_closeness     documentid  filter  \n",
       "0                                       1.0  id:ann:ann::4       4  \n",
       "1                                       0.5  id:ann:ann::3       3  \n",
       "2                                       0.0  id:ann:ann::0       0  "
      ],
      "text/html": [
       "<div>\n",
       "<style scoped>\n",
       "    .dataframe tbody tr th:only-of-type {\n",
       "        vertical-align: middle;\n",
       "    }\n",
       "\n",
       "    .dataframe tbody tr th {\n",
       "        vertical-align: top;\n",
       "    }\n",
       "\n",
       "    .dataframe thead th {\n",
       "        text-align: right;\n",
       "    }\n",
       "</style>\n",
       "<table border=\"1\" class=\"dataframe\">\n",
       "  <thead>\n",
       "    <tr style=\"text-align: right;\">\n",
       "      <th></th>\n",
       "      <th>position</th>\n",
       "      <th>relevance</th>\n",
       "      <th>matchfeatures.firstPhase</th>\n",
       "      <th>matchfeatures.nearest_neighbor_closeness</th>\n",
       "      <th>documentid</th>\n",
       "      <th>filter</th>\n",
       "    </tr>\n",
       "  </thead>\n",
       "  <tbody>\n",
       "    <tr>\n",
       "      <th>0</th>\n",
       "      <td>0</td>\n",
       "      <td>2.0</td>\n",
       "      <td>2.0</td>\n",
       "      <td>1.0</td>\n",
       "      <td>id:ann:ann::4</td>\n",
       "      <td>4</td>\n",
       "    </tr>\n",
       "    <tr>\n",
       "      <th>1</th>\n",
       "      <td>1</td>\n",
       "      <td>1.5</td>\n",
       "      <td>1.5</td>\n",
       "      <td>0.5</td>\n",
       "      <td>id:ann:ann::3</td>\n",
       "      <td>3</td>\n",
       "    </tr>\n",
       "    <tr>\n",
       "      <th>2</th>\n",
       "      <td>2</td>\n",
       "      <td>1.0</td>\n",
       "      <td>1.0</td>\n",
       "      <td>0.0</td>\n",
       "      <td>id:ann:ann::0</td>\n",
       "      <td>0</td>\n",
       "    </tr>\n",
       "  </tbody>\n",
       "</table>\n",
       "</div>"
      ]
     },
     "execution_count": 179,
     "metadata": {},
     "output_type": "execute_result"
    }
   ],
   "execution_count": 179
  },
  {
   "metadata": {
    "ExecuteTime": {
     "end_time": "2025-02-25T09:06:34.977442Z",
     "start_time": "2025-02-25T09:06:34.975406Z"
    }
   },
   "cell_type": "code",
   "source": "# The same 3 matches, just ranked in a way we want.",
   "id": "cc8e570b8d8a53ea",
   "outputs": [],
   "execution_count": 168
  },
  {
   "metadata": {
    "ExecuteTime": {
     "end_time": "2025-02-25T10:14:54.305778Z",
     "start_time": "2025-02-25T10:14:54.221593Z"
    }
   },
   "cell_type": "code",
   "source": [
    "# However, when doing ANN we have two hits\n",
    "asdf(app.query(body={\n",
    "    **request_body,\n",
    "    'ranking.matching.approximateThreshold': 0.0,\n",
    "}))"
   ],
   "id": "23cec0b6a1b938e6",
   "outputs": [
    {
     "data": {
      "text/plain": [
       "   position  relevance  matchfeatures.firstPhase  \\\n",
       "0         0        2.0                       2.0   \n",
       "1         1        1.0                       1.0   \n",
       "\n",
       "   matchfeatures.nearest_neighbor_closeness     documentid  filter  \n",
       "0                                       1.0  id:ann:ann::4       4  \n",
       "1                                       0.0  id:ann:ann::0       0  "
      ],
      "text/html": [
       "<div>\n",
       "<style scoped>\n",
       "    .dataframe tbody tr th:only-of-type {\n",
       "        vertical-align: middle;\n",
       "    }\n",
       "\n",
       "    .dataframe tbody tr th {\n",
       "        vertical-align: top;\n",
       "    }\n",
       "\n",
       "    .dataframe thead th {\n",
       "        text-align: right;\n",
       "    }\n",
       "</style>\n",
       "<table border=\"1\" class=\"dataframe\">\n",
       "  <thead>\n",
       "    <tr style=\"text-align: right;\">\n",
       "      <th></th>\n",
       "      <th>position</th>\n",
       "      <th>relevance</th>\n",
       "      <th>matchfeatures.firstPhase</th>\n",
       "      <th>matchfeatures.nearest_neighbor_closeness</th>\n",
       "      <th>documentid</th>\n",
       "      <th>filter</th>\n",
       "    </tr>\n",
       "  </thead>\n",
       "  <tbody>\n",
       "    <tr>\n",
       "      <th>0</th>\n",
       "      <td>0</td>\n",
       "      <td>2.0</td>\n",
       "      <td>2.0</td>\n",
       "      <td>1.0</td>\n",
       "      <td>id:ann:ann::4</td>\n",
       "      <td>4</td>\n",
       "    </tr>\n",
       "    <tr>\n",
       "      <th>1</th>\n",
       "      <td>1</td>\n",
       "      <td>1.0</td>\n",
       "      <td>1.0</td>\n",
       "      <td>0.0</td>\n",
       "      <td>id:ann:ann::0</td>\n",
       "      <td>0</td>\n",
       "    </tr>\n",
       "  </tbody>\n",
       "</table>\n",
       "</div>"
      ]
     },
     "execution_count": 186,
     "metadata": {},
     "output_type": "execute_result"
    }
   ],
   "execution_count": 186
  },
  {
   "metadata": {
    "ExecuteTime": {
     "end_time": "2025-02-25T10:15:33.730318Z",
     "start_time": "2025-02-25T10:15:33.703235Z"
    }
   },
   "cell_type": "code",
   "source": [
    "# We're kind of lucky that the best NN came back but that is the nature of such index\n",
    "# Now let's try with the global phase re-score trick\n",
    "asdf(app.query(body={\n",
    "    **request_body,\n",
    "    'ranking.profile': 'ann_global_cut',\n",
    "}))"
   ],
   "id": "e6942befc82b1e69",
   "outputs": [
    {
     "data": {
      "text/plain": [
       "   position  relevance  matchfeatures.firstPhase  \\\n",
       "0         0        2.0                       2.0   \n",
       "1         1        1.0                       1.0   \n",
       "\n",
       "   matchfeatures.nearest_neighbor_closeness     documentid  filter  \n",
       "0                                       1.0  id:ann:ann::4       4  \n",
       "1                                       0.0  id:ann:ann::0       0  "
      ],
      "text/html": [
       "<div>\n",
       "<style scoped>\n",
       "    .dataframe tbody tr th:only-of-type {\n",
       "        vertical-align: middle;\n",
       "    }\n",
       "\n",
       "    .dataframe tbody tr th {\n",
       "        vertical-align: top;\n",
       "    }\n",
       "\n",
       "    .dataframe thead th {\n",
       "        text-align: right;\n",
       "    }\n",
       "</style>\n",
       "<table border=\"1\" class=\"dataframe\">\n",
       "  <thead>\n",
       "    <tr style=\"text-align: right;\">\n",
       "      <th></th>\n",
       "      <th>position</th>\n",
       "      <th>relevance</th>\n",
       "      <th>matchfeatures.firstPhase</th>\n",
       "      <th>matchfeatures.nearest_neighbor_closeness</th>\n",
       "      <th>documentid</th>\n",
       "      <th>filter</th>\n",
       "    </tr>\n",
       "  </thead>\n",
       "  <tbody>\n",
       "    <tr>\n",
       "      <th>0</th>\n",
       "      <td>0</td>\n",
       "      <td>2.0</td>\n",
       "      <td>2.0</td>\n",
       "      <td>1.0</td>\n",
       "      <td>id:ann:ann::4</td>\n",
       "      <td>4</td>\n",
       "    </tr>\n",
       "    <tr>\n",
       "      <th>1</th>\n",
       "      <td>1</td>\n",
       "      <td>1.0</td>\n",
       "      <td>1.0</td>\n",
       "      <td>0.0</td>\n",
       "      <td>id:ann:ann::0</td>\n",
       "      <td>0</td>\n",
       "    </tr>\n",
       "  </tbody>\n",
       "</table>\n",
       "</div>"
      ]
     },
     "execution_count": 187,
     "metadata": {},
     "output_type": "execute_result"
    }
   ],
   "execution_count": 187
  },
  {
   "metadata": {
    "ExecuteTime": {
     "end_time": "2025-02-25T09:17:39.298973Z",
     "start_time": "2025-02-25T09:17:39.260064Z"
    }
   },
   "cell_type": "code",
   "source": [
    "# but what happens when you add order by\n",
    "request_body_order_by = {\n",
    "    'yql': \"\"\"\n",
    "        select *\n",
    "        from ann\n",
    "        where (\n",
    "            filter = 0\n",
    "            OR\n",
    "            (\n",
    "                ({targetHits:1}nearestNeighbor(embedding, q))\n",
    "                AND\n",
    "                filter >= 3\n",
    "            )\n",
    "        )\n",
    "        order by filter desc\n",
    "        \"\"\",\n",
    "    'ranking.profile': 'ann_global_cut',\n",
    "    \"input.query(q)\": [4]\n",
    "}\n",
    "asdf(app.query(body=request_body_order_by))"
   ],
   "id": "90dcbea5228f9708",
   "outputs": [
    {
     "ename": "VespaError",
     "evalue": "[{'code': 3, 'summary': 'Illegal query', 'source': 'annsmallnumbers_content', 'message': 'Sorting is not supported with global phase'}]",
     "output_type": "error",
     "traceback": [
      "\u001B[0;31m---------------------------------------------------------------------------\u001B[0m",
      "\u001B[0;31mHTTPError\u001B[0m                                 Traceback (most recent call last)",
      "File \u001B[0;32m~/p/vespa-nearest-neighbor-corner-cases/.venv/lib/python3.13/site-packages/vespa/application.py:62\u001B[0m, in \u001B[0;36mraise_for_status\u001B[0;34m(response, raise_on_not_found)\u001B[0m\n\u001B[1;32m     61\u001B[0m \u001B[38;5;28;01mtry\u001B[39;00m:\n\u001B[0;32m---> 62\u001B[0m     \u001B[43mresponse\u001B[49m\u001B[38;5;241;43m.\u001B[39;49m\u001B[43mraise_for_status\u001B[49m\u001B[43m(\u001B[49m\u001B[43m)\u001B[49m\n\u001B[1;32m     63\u001B[0m \u001B[38;5;28;01mexcept\u001B[39;00m HTTPError \u001B[38;5;28;01mas\u001B[39;00m http_error:\n",
      "File \u001B[0;32m~/p/vespa-nearest-neighbor-corner-cases/.venv/lib/python3.13/site-packages/requests/models.py:1024\u001B[0m, in \u001B[0;36mResponse.raise_for_status\u001B[0;34m(self)\u001B[0m\n\u001B[1;32m   1023\u001B[0m \u001B[38;5;28;01mif\u001B[39;00m http_error_msg:\n\u001B[0;32m-> 1024\u001B[0m     \u001B[38;5;28;01mraise\u001B[39;00m HTTPError(http_error_msg, response\u001B[38;5;241m=\u001B[39m\u001B[38;5;28mself\u001B[39m)\n",
      "\u001B[0;31mHTTPError\u001B[0m: 400 Client Error: Bad Request for url: http://localhost:8080/search/",
      "\nThe above exception was the direct cause of the following exception:\n",
      "\u001B[0;31mVespaError\u001B[0m                                Traceback (most recent call last)",
      "Cell \u001B[0;32mIn[181], line 20\u001B[0m\n\u001B[1;32m      1\u001B[0m \u001B[38;5;66;03m# but what happens when you add order by\u001B[39;00m\n\u001B[1;32m      2\u001B[0m request_body_order_by \u001B[38;5;241m=\u001B[39m {\n\u001B[1;32m      3\u001B[0m     \u001B[38;5;124m'\u001B[39m\u001B[38;5;124myql\u001B[39m\u001B[38;5;124m'\u001B[39m: \u001B[38;5;124m\"\"\"\u001B[39m\n\u001B[1;32m      4\u001B[0m \u001B[38;5;124m        select *\u001B[39m\n\u001B[0;32m   (...)\u001B[0m\n\u001B[1;32m     18\u001B[0m     \u001B[38;5;124m\"\u001B[39m\u001B[38;5;124minput.query(q)\u001B[39m\u001B[38;5;124m\"\u001B[39m: [\u001B[38;5;241m4\u001B[39m]\n\u001B[1;32m     19\u001B[0m }\n\u001B[0;32m---> 20\u001B[0m asdf(\u001B[43mapp\u001B[49m\u001B[38;5;241;43m.\u001B[39;49m\u001B[43mquery\u001B[49m\u001B[43m(\u001B[49m\u001B[43mbody\u001B[49m\u001B[38;5;241;43m=\u001B[39;49m\u001B[43mrequest_body_order_by\u001B[49m\u001B[43m)\u001B[49m)\n",
      "File \u001B[0;32m~/p/vespa-nearest-neighbor-corner-cases/.venv/lib/python3.13/site-packages/vespa/application.py:316\u001B[0m, in \u001B[0;36mVespa.query\u001B[0;34m(self, body, groupname, **kwargs)\u001B[0m\n\u001B[1;32m    314\u001B[0m \u001B[38;5;66;03m# Use one connection as this is a single query\u001B[39;00m\n\u001B[1;32m    315\u001B[0m \u001B[38;5;28;01mwith\u001B[39;00m VespaSync(\u001B[38;5;28mself\u001B[39m, pool_maxsize\u001B[38;5;241m=\u001B[39m\u001B[38;5;241m1\u001B[39m, pool_connections\u001B[38;5;241m=\u001B[39m\u001B[38;5;241m1\u001B[39m) \u001B[38;5;28;01mas\u001B[39;00m sync_app:\n\u001B[0;32m--> 316\u001B[0m     \u001B[38;5;28;01mreturn\u001B[39;00m \u001B[43msync_app\u001B[49m\u001B[38;5;241;43m.\u001B[39;49m\u001B[43mquery\u001B[49m\u001B[43m(\u001B[49m\u001B[43mbody\u001B[49m\u001B[38;5;241;43m=\u001B[39;49m\u001B[43mbody\u001B[49m\u001B[43m,\u001B[49m\u001B[43m \u001B[49m\u001B[43mgroupname\u001B[49m\u001B[38;5;241;43m=\u001B[39;49m\u001B[43mgroupname\u001B[49m\u001B[43m,\u001B[49m\u001B[43m \u001B[49m\u001B[38;5;241;43m*\u001B[39;49m\u001B[38;5;241;43m*\u001B[39;49m\u001B[43mkwargs\u001B[49m\u001B[43m)\u001B[49m\n",
      "File \u001B[0;32m~/p/vespa-nearest-neighbor-corner-cases/.venv/lib/python3.13/site-packages/vespa/application.py:1309\u001B[0m, in \u001B[0;36mVespaSync.query\u001B[0;34m(self, body, groupname, **kwargs)\u001B[0m\n\u001B[1;32m   1305\u001B[0m     kwargs[\u001B[38;5;124m\"\u001B[39m\u001B[38;5;124mstreaming.groupname\u001B[39m\u001B[38;5;124m\"\u001B[39m] \u001B[38;5;241m=\u001B[39m groupname\n\u001B[1;32m   1306\u001B[0m response \u001B[38;5;241m=\u001B[39m \u001B[38;5;28mself\u001B[39m\u001B[38;5;241m.\u001B[39mhttp_session\u001B[38;5;241m.\u001B[39mpost(\n\u001B[1;32m   1307\u001B[0m     \u001B[38;5;28mself\u001B[39m\u001B[38;5;241m.\u001B[39mapp\u001B[38;5;241m.\u001B[39msearch_end_point, json\u001B[38;5;241m=\u001B[39mbody, params\u001B[38;5;241m=\u001B[39mkwargs\n\u001B[1;32m   1308\u001B[0m )\n\u001B[0;32m-> 1309\u001B[0m \u001B[43mraise_for_status\u001B[49m\u001B[43m(\u001B[49m\u001B[43mresponse\u001B[49m\u001B[43m)\u001B[49m\n\u001B[1;32m   1310\u001B[0m \u001B[38;5;28;01mreturn\u001B[39;00m VespaQueryResponse(\n\u001B[1;32m   1311\u001B[0m     json\u001B[38;5;241m=\u001B[39mresponse\u001B[38;5;241m.\u001B[39mjson(),\n\u001B[1;32m   1312\u001B[0m     status_code\u001B[38;5;241m=\u001B[39mresponse\u001B[38;5;241m.\u001B[39mstatus_code,\n\u001B[1;32m   1313\u001B[0m     url\u001B[38;5;241m=\u001B[39m\u001B[38;5;28mstr\u001B[39m(response\u001B[38;5;241m.\u001B[39murl),\n\u001B[1;32m   1314\u001B[0m )\n",
      "File \u001B[0;32m~/p/vespa-nearest-neighbor-corner-cases/.venv/lib/python3.13/site-packages/vespa/application.py:73\u001B[0m, in \u001B[0;36mraise_for_status\u001B[0;34m(response, raise_on_not_found)\u001B[0m\n\u001B[1;32m     71\u001B[0m error_message \u001B[38;5;241m=\u001B[39m response_json\u001B[38;5;241m.\u001B[39mget(\u001B[38;5;124m\"\u001B[39m\u001B[38;5;124mmessage\u001B[39m\u001B[38;5;124m\"\u001B[39m, \u001B[38;5;28;01mNone\u001B[39;00m)\n\u001B[1;32m     72\u001B[0m \u001B[38;5;28;01mif\u001B[39;00m errors:\n\u001B[0;32m---> 73\u001B[0m     \u001B[38;5;28;01mraise\u001B[39;00m VespaError(errors) \u001B[38;5;28;01mfrom\u001B[39;00m \u001B[38;5;21;01mhttp_error\u001B[39;00m\n\u001B[1;32m     74\u001B[0m \u001B[38;5;28;01mif\u001B[39;00m error_message:\n\u001B[1;32m     75\u001B[0m     \u001B[38;5;28;01mraise\u001B[39;00m VespaError(error_message) \u001B[38;5;28;01mfrom\u001B[39;00m \u001B[38;5;21;01mhttp_error\u001B[39;00m\n",
      "\u001B[0;31mVespaError\u001B[0m: [{'code': 3, 'summary': 'Illegal query', 'source': 'annsmallnumbers_content', 'message': 'Sorting is not supported with global phase'}]"
     ]
    }
   ],
   "execution_count": 181
  },
  {
   "metadata": {
    "ExecuteTime": {
     "end_time": "2025-02-25T09:19:17.619743Z",
     "start_time": "2025-02-25T09:19:17.593257Z"
    }
   },
   "cell_type": "code",
   "source": [
    "# Which means that sorting has to be done with ranking\n",
    "asdf(app.query(body={\n",
    "    **request_body,\n",
    "    'ranking.profile': 'ann_global_cut_sorted',\n",
    "}))"
   ],
   "id": "bc478ed8077b5950",
   "outputs": [
    {
     "data": {
      "text/plain": [
       "   position  relevance  matchfeatures.firstPhase  \\\n",
       "0         0        5.0                       5.0   \n",
       "1         1        1.0                       1.0   \n",
       "\n",
       "   matchfeatures.nearest_neighbor_closeness     documentid  filter  \n",
       "0                                       1.0  id:ann:ann::4       4  \n",
       "1                                       0.0  id:ann:ann::0       0  "
      ],
      "text/html": [
       "<div>\n",
       "<style scoped>\n",
       "    .dataframe tbody tr th:only-of-type {\n",
       "        vertical-align: middle;\n",
       "    }\n",
       "\n",
       "    .dataframe tbody tr th {\n",
       "        vertical-align: top;\n",
       "    }\n",
       "\n",
       "    .dataframe thead th {\n",
       "        text-align: right;\n",
       "    }\n",
       "</style>\n",
       "<table border=\"1\" class=\"dataframe\">\n",
       "  <thead>\n",
       "    <tr style=\"text-align: right;\">\n",
       "      <th></th>\n",
       "      <th>position</th>\n",
       "      <th>relevance</th>\n",
       "      <th>matchfeatures.firstPhase</th>\n",
       "      <th>matchfeatures.nearest_neighbor_closeness</th>\n",
       "      <th>documentid</th>\n",
       "      <th>filter</th>\n",
       "    </tr>\n",
       "  </thead>\n",
       "  <tbody>\n",
       "    <tr>\n",
       "      <th>0</th>\n",
       "      <td>0</td>\n",
       "      <td>5.0</td>\n",
       "      <td>5.0</td>\n",
       "      <td>1.0</td>\n",
       "      <td>id:ann:ann::4</td>\n",
       "      <td>4</td>\n",
       "    </tr>\n",
       "    <tr>\n",
       "      <th>1</th>\n",
       "      <td>1</td>\n",
       "      <td>1.0</td>\n",
       "      <td>1.0</td>\n",
       "      <td>0.0</td>\n",
       "      <td>id:ann:ann::0</td>\n",
       "      <td>0</td>\n",
       "    </tr>\n",
       "  </tbody>\n",
       "</table>\n",
       "</div>"
      ]
     },
     "execution_count": 182,
     "metadata": {},
     "output_type": "execute_result"
    }
   ],
   "execution_count": 182
  },
  {
   "metadata": {
    "ExecuteTime": {
     "end_time": "2025-02-25T09:07:05.531686Z",
     "start_time": "2025-02-25T09:07:05.529762Z"
    }
   },
   "cell_type": "code",
   "source": "# Above we get 1 match from NN one from lexical, and one hit removed  with the `rankScoreDropLimit` while maintaining order on the",
   "id": "7f4b3adb655ce137",
   "outputs": [],
   "execution_count": 172
  },
  {
   "metadata": {
    "ExecuteTime": {
     "end_time": "2025-02-25T09:19:37.948269Z",
     "start_time": "2025-02-25T09:19:37.926995Z"
    }
   },
   "cell_type": "code",
   "source": [
    "# And now let's sort ascending\n",
    "asdf(app.query(body={\n",
    "    **request_body,\n",
    "    'ranking.profile': 'ann_global_cut_sorted_asc',\n",
    "}))"
   ],
   "id": "ad735c184b55800a",
   "outputs": [
    {
     "data": {
      "text/plain": [
       "   position     relevance  matchfeatures.firstPhase  \\\n",
       "0         0  2.147484e+09              2.147484e+09   \n",
       "1         1  2.147484e+09              2.147484e+09   \n",
       "\n",
       "   matchfeatures.nearest_neighbor_closeness     documentid  filter  \n",
       "0                                       0.0  id:ann:ann::0       0  \n",
       "1                                       1.0  id:ann:ann::4       4  "
      ],
      "text/html": [
       "<div>\n",
       "<style scoped>\n",
       "    .dataframe tbody tr th:only-of-type {\n",
       "        vertical-align: middle;\n",
       "    }\n",
       "\n",
       "    .dataframe tbody tr th {\n",
       "        vertical-align: top;\n",
       "    }\n",
       "\n",
       "    .dataframe thead th {\n",
       "        text-align: right;\n",
       "    }\n",
       "</style>\n",
       "<table border=\"1\" class=\"dataframe\">\n",
       "  <thead>\n",
       "    <tr style=\"text-align: right;\">\n",
       "      <th></th>\n",
       "      <th>position</th>\n",
       "      <th>relevance</th>\n",
       "      <th>matchfeatures.firstPhase</th>\n",
       "      <th>matchfeatures.nearest_neighbor_closeness</th>\n",
       "      <th>documentid</th>\n",
       "      <th>filter</th>\n",
       "    </tr>\n",
       "  </thead>\n",
       "  <tbody>\n",
       "    <tr>\n",
       "      <th>0</th>\n",
       "      <td>0</td>\n",
       "      <td>2.147484e+09</td>\n",
       "      <td>2.147484e+09</td>\n",
       "      <td>0.0</td>\n",
       "      <td>id:ann:ann::0</td>\n",
       "      <td>0</td>\n",
       "    </tr>\n",
       "    <tr>\n",
       "      <th>1</th>\n",
       "      <td>1</td>\n",
       "      <td>2.147484e+09</td>\n",
       "      <td>2.147484e+09</td>\n",
       "      <td>1.0</td>\n",
       "      <td>id:ann:ann::4</td>\n",
       "      <td>4</td>\n",
       "    </tr>\n",
       "  </tbody>\n",
       "</table>\n",
       "</div>"
      ]
     },
     "execution_count": 183,
     "metadata": {},
     "output_type": "execute_result"
    }
   ],
   "execution_count": 183
  },
  {
   "metadata": {
    "ExecuteTime": {
     "end_time": "2025-02-25T09:19:59.371209Z",
     "start_time": "2025-02-25T09:19:59.358617Z"
    }
   },
   "cell_type": "code",
   "source": [
    "# And if we don't cut, all the hits are still there\n",
    "# And now let's sort ascending\n",
    "asdf(app.query(body={\n",
    "    **request_body,\n",
    "    'ranking.profile': 'ann_global_cut_sorted_asc',\n",
    "    'ranking.globalPhase.rankScoreDropLimit': -10,\n",
    "}))"
   ],
   "id": "92c8beafc9be4dcc",
   "outputs": [
    {
     "data": {
      "text/plain": [
       "   position     relevance  matchfeatures.firstPhase  \\\n",
       "0         0  2.147484e+09              2.147484e+09   \n",
       "1         1  2.147484e+09              2.147484e+09   \n",
       "2         2  0.000000e+00              2.147484e+09   \n",
       "\n",
       "   matchfeatures.nearest_neighbor_closeness     documentid  filter  \n",
       "0                                       0.0  id:ann:ann::0       0  \n",
       "1                                       1.0  id:ann:ann::4       4  \n",
       "2                                       0.5  id:ann:ann::3       3  "
      ],
      "text/html": [
       "<div>\n",
       "<style scoped>\n",
       "    .dataframe tbody tr th:only-of-type {\n",
       "        vertical-align: middle;\n",
       "    }\n",
       "\n",
       "    .dataframe tbody tr th {\n",
       "        vertical-align: top;\n",
       "    }\n",
       "\n",
       "    .dataframe thead th {\n",
       "        text-align: right;\n",
       "    }\n",
       "</style>\n",
       "<table border=\"1\" class=\"dataframe\">\n",
       "  <thead>\n",
       "    <tr style=\"text-align: right;\">\n",
       "      <th></th>\n",
       "      <th>position</th>\n",
       "      <th>relevance</th>\n",
       "      <th>matchfeatures.firstPhase</th>\n",
       "      <th>matchfeatures.nearest_neighbor_closeness</th>\n",
       "      <th>documentid</th>\n",
       "      <th>filter</th>\n",
       "    </tr>\n",
       "  </thead>\n",
       "  <tbody>\n",
       "    <tr>\n",
       "      <th>0</th>\n",
       "      <td>0</td>\n",
       "      <td>2.147484e+09</td>\n",
       "      <td>2.147484e+09</td>\n",
       "      <td>0.0</td>\n",
       "      <td>id:ann:ann::0</td>\n",
       "      <td>0</td>\n",
       "    </tr>\n",
       "    <tr>\n",
       "      <th>1</th>\n",
       "      <td>1</td>\n",
       "      <td>2.147484e+09</td>\n",
       "      <td>2.147484e+09</td>\n",
       "      <td>1.0</td>\n",
       "      <td>id:ann:ann::4</td>\n",
       "      <td>4</td>\n",
       "    </tr>\n",
       "    <tr>\n",
       "      <th>2</th>\n",
       "      <td>2</td>\n",
       "      <td>0.000000e+00</td>\n",
       "      <td>2.147484e+09</td>\n",
       "      <td>0.5</td>\n",
       "      <td>id:ann:ann::3</td>\n",
       "      <td>3</td>\n",
       "    </tr>\n",
       "  </tbody>\n",
       "</table>\n",
       "</div>"
      ]
     },
     "execution_count": 184,
     "metadata": {},
     "output_type": "execute_result"
    }
   ],
   "execution_count": 184
  },
  {
   "metadata": {
    "ExecuteTime": {
     "end_time": "2025-02-25T10:19:15.414354Z",
     "start_time": "2025-02-25T10:19:15.392748Z"
    }
   },
   "cell_type": "code",
   "source": [
    "# Yeah, this brings back hits in the wrong order, but it is solvable by reranking more NN matches\n",
    "asdf(app.query(body={\n",
    "    **request_body,\n",
    "    'ranking.profile': 'ann_global_cut_sorted_asc',\n",
    "    'ranking.globalPhase.rankScoreDropLimit': -10,\n",
    "    \"input.query(ann_hits)\": 2,\n",
    "}))"
   ],
   "id": "828f2fdddd11e68",
   "outputs": [
    {
     "data": {
      "text/plain": [
       "   position     relevance  matchfeatures.firstPhase  \\\n",
       "0         0  2.147484e+09              2.147484e+09   \n",
       "1         1  2.147484e+09              2.147484e+09   \n",
       "2         2  2.147484e+09              2.147484e+09   \n",
       "\n",
       "   matchfeatures.nearest_neighbor_closeness     documentid  filter  \n",
       "0                                       0.0  id:ann:ann::0       0  \n",
       "1                                       0.5  id:ann:ann::3       3  \n",
       "2                                       1.0  id:ann:ann::4       4  "
      ],
      "text/html": [
       "<div>\n",
       "<style scoped>\n",
       "    .dataframe tbody tr th:only-of-type {\n",
       "        vertical-align: middle;\n",
       "    }\n",
       "\n",
       "    .dataframe tbody tr th {\n",
       "        vertical-align: top;\n",
       "    }\n",
       "\n",
       "    .dataframe thead th {\n",
       "        text-align: right;\n",
       "    }\n",
       "</style>\n",
       "<table border=\"1\" class=\"dataframe\">\n",
       "  <thead>\n",
       "    <tr style=\"text-align: right;\">\n",
       "      <th></th>\n",
       "      <th>position</th>\n",
       "      <th>relevance</th>\n",
       "      <th>matchfeatures.firstPhase</th>\n",
       "      <th>matchfeatures.nearest_neighbor_closeness</th>\n",
       "      <th>documentid</th>\n",
       "      <th>filter</th>\n",
       "    </tr>\n",
       "  </thead>\n",
       "  <tbody>\n",
       "    <tr>\n",
       "      <th>0</th>\n",
       "      <td>0</td>\n",
       "      <td>2.147484e+09</td>\n",
       "      <td>2.147484e+09</td>\n",
       "      <td>0.0</td>\n",
       "      <td>id:ann:ann::0</td>\n",
       "      <td>0</td>\n",
       "    </tr>\n",
       "    <tr>\n",
       "      <th>1</th>\n",
       "      <td>1</td>\n",
       "      <td>2.147484e+09</td>\n",
       "      <td>2.147484e+09</td>\n",
       "      <td>0.5</td>\n",
       "      <td>id:ann:ann::3</td>\n",
       "      <td>3</td>\n",
       "    </tr>\n",
       "    <tr>\n",
       "      <th>2</th>\n",
       "      <td>2</td>\n",
       "      <td>2.147484e+09</td>\n",
       "      <td>2.147484e+09</td>\n",
       "      <td>1.0</td>\n",
       "      <td>id:ann:ann::4</td>\n",
       "      <td>4</td>\n",
       "    </tr>\n",
       "  </tbody>\n",
       "</table>\n",
       "</div>"
      ]
     },
     "execution_count": 189,
     "metadata": {},
     "output_type": "execute_result"
    }
   ],
   "execution_count": 189
  },
  {
   "metadata": {},
   "cell_type": "code",
   "outputs": [],
   "execution_count": null,
   "source": [
    "# stop the docker container\n",
    "! docker stop vespa-small-numbers"
   ],
   "id": "b2e8b5066c7efdd7"
  },
  {
   "metadata": {},
   "cell_type": "code",
   "outputs": [],
   "execution_count": null,
   "source": [
    "# Params to copy paste\n",
    "# \"input.query(ann_hits)\": 1,\n",
    "# 'ranking.globalPhase.rerankCount': 100,\n",
    "# 'ranking.globalPhase.rankScoreDropLimit': 1.0,"
   ],
   "id": "afaa54ac1d55d43a"
  }
 ],
 "metadata": {
  "kernelspec": {
   "display_name": "Python 3",
   "language": "python",
   "name": "python3"
  },
  "language_info": {
   "codemirror_mode": {
    "name": "ipython",
    "version": 2
   },
   "file_extension": ".py",
   "mimetype": "text/x-python",
   "name": "python",
   "nbconvert_exporter": "python",
   "pygments_lexer": "ipython2",
   "version": "2.7.6"
  }
 },
 "nbformat": 4,
 "nbformat_minor": 5
}
