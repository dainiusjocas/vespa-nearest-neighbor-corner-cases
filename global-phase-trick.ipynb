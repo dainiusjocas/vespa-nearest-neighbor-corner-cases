{
 "cells": [
  {
   "metadata": {},
   "cell_type": "markdown",
   "source": [
    "Here we want to investigate if the limiting of NN matches via the `global-phase` ranking is viable.\n",
    "Main questions are:\n",
    "- does the re-scoring trick work at all? Yes, with an exception to passing RRF score to a function.\n",
    "- What happens with items that dont have the NN score at all? They get 0 score, so it must be worked out when adding a condition.\n",
    "- How many items can be reranked this way (content nodes)? Depends on the latency budget\n",
    "- what is the cheapest way to get features for global phase? TO BE DONE\n",
    "\n",
    "Start Vespa Docker container:\n",
    "```shell\n",
    "docker run \\\n",
    "  --detach --rm \\\n",
    "  --name vespa-global-phase \\\n",
    "  --hostname vespa-global-phase \\\n",
    "  --publish 0.0.0.0:8080:8080 \\\n",
    "  --publish 0.0.0.0:19050:19050 \\\n",
    "  --publish 0.0.0.0:19071:19071 \\\n",
    "  vespaengine/vespa:8.484.1\n",
    "```"
   ],
   "id": "9205f97bfccec440"
  },
  {
   "metadata": {
    "ExecuteTime": {
     "end_time": "2025-02-24T11:46:36.961362Z",
     "start_time": "2025-02-24T11:46:36.755696Z"
    }
   },
   "cell_type": "code",
   "source": [
    "# Start Vespa with all the required functionality present\n",
    "!docker run --detach --rm --name vespa-global-phase --hostname vespa-global-phase --publish 0.0.0.0:8080:8080 --publish 0.0.0.0:19050:19050 --publish 0.0.0.0:19071:19071 vespaengine/vespa:8.484.1"
   ],
   "id": "5e2f9d14e2b8074a",
   "outputs": [
    {
     "name": "stdout",
     "output_type": "stream",
     "text": [
      "docker: Error response from daemon: Conflict. The container name \"/vespa-global-phase\" is already in use by container \"ed7ed5314f6946c7af468aa48c24bd245ffe1e1363540a1b927f3f7d5796f036\". You have to remove (or rename) that container to be able to reuse that name.\r\n",
      "See 'docker run --help'.\r\n"
     ]
    }
   ],
   "execution_count": 1
  },
  {
   "metadata": {
    "ExecuteTime": {
     "end_time": "2025-02-21T16:41:26.821234Z",
     "start_time": "2025-02-21T16:41:26.817419Z"
    }
   },
   "cell_type": "code",
   "source": [
    "from vespa.package import (ApplicationPackage, Field, Schema, Document, RankProfile, HNSW, GlobalPhaseRanking, Function)\n",
    "from vespa.deployment import VespaDocker\n",
    "from vespa.io import VespaResponse\n",
    "\n",
    "vap = ApplicationPackage(\n",
    "    name=\"anncornercase\",\n",
    "    schema=[\n",
    "        Schema(\n",
    "            name=\"ann\",\n",
    "            document=Document(\n",
    "                fields=[\n",
    "                    Field(\n",
    "                        name=\"filter\",\n",
    "                        type=\"int\",\n",
    "                        indexing=[\"attribute\", \"summary\"],\n",
    "                        attribute=[\"fast-search\"],\n",
    "                    ),\n",
    "                    Field(\n",
    "                        name=\"embedding\",\n",
    "                        type=\"tensor<float>(d0[1])\",\n",
    "                        indexing=[\"attribute\", \"index\"],\n",
    "                        ann=HNSW(\n",
    "                            distance_metric=\"euclidean\",\n",
    "                            max_links_per_node=16,\n",
    "                            neighbors_to_explore_at_insert=200,\n",
    "                        ))\n",
    "                ]\n",
    "            ),\n",
    "            rank_profiles=[\n",
    "                RankProfile(\n",
    "                    name=\"ann\",\n",
    "                    inputs=[\n",
    "                        (\"query(q)\", \"tensor<float>(d0[1])\"),\n",
    "                        (\"query(ann_hits)\", \"double\", \"1\"),\n",
    "                    ],\n",
    "                    functions=[\n",
    "                        Function(\n",
    "                            name='nearest_neighbor_closeness',\n",
    "                            expression='rawScore(embedding)',\n",
    "                        ),\n",
    "                    ],\n",
    "                    first_phase=\"nearest_neighbor_closeness\"\n",
    "                ),\n",
    "                RankProfile(\n",
    "                    inherits='ann',\n",
    "                    name=\"ann_global_cut\",\n",
    "                    functions=[\n",
    "                        #It seems that a function in the global phase can't take in reciprocal_rank output\n",
    "                        # Function(\n",
    "                        #     name=\"function_on_reciprocal_rank\",\n",
    "                        #     args=[\"rr_score\"],\n",
    "                        #     expression=\"if(rr_score >= 1/2.0, 1.0, 0.0)\"\n",
    "                        # ),\n",
    "                        Function(\n",
    "                            name='rrf_inside_function',\n",
    "                            args=[],\n",
    "                            expression='if(reciprocal_rank(nearest_neighbor_closeness, 0) >= 1.0/1.0, 1.0, 0.0)',\n",
    "                        ),\n",
    "                    ],\n",
    "                    first_phase=\"nearest_neighbor_closeness + 1\",\n",
    "                    global_phase=GlobalPhaseRanking(\n",
    "                        rerank_count=2,\n",
    "                        # expression=\"firstPhase * function_on_reciprocal_rank(reciprocal_rank(nearest_neighbor_distance, 0))\"\n",
    "                        expression=\"firstPhase * if(reciprocal_rank(nearest_neighbor_closeness, 0) >= 1.0/query(ann_hits) || nearest_neighbor_closeness == 0, firstPhase, 0.0)\",\n",
    "\n",
    "                        # expression=\"firstPhase * rrf_inside_function()\",\n",
    "                        # TODO: I'll have to implement it, to have a complete control.\n",
    "                        rank_score_drop_limit=0.0,\n",
    "                    ),\n",
    "                    match_features=['nearest_neighbor_closeness', 'firstPhase'],\n",
    "                )\n",
    "            ]\n",
    "        )\n",
    "    ]\n",
    ")"
   ],
   "id": "c35d1257d5951be4",
   "outputs": [],
   "execution_count": 19
  },
  {
   "metadata": {
    "ExecuteTime": {
     "end_time": "2025-02-21T16:42:19.335608Z",
     "start_time": "2025-02-21T16:42:17.822530Z"
    }
   },
   "cell_type": "code",
   "source": [
    "vap_file_name = \"global-phase-trick.zip\"\n",
    "vap.to_zipfile(vap_file_name)\n",
    "# Deploy VAP zip file\n",
    "! vespa deploy global-phase-trick.zip -t http://localhost:19071"
   ],
   "id": "896effcbe4842b49",
   "outputs": [
    {
     "name": "stdout",
     "output_type": "stream",
     "text": [
      "Uploading application package... done;1m⢿\u001B[0;22m\r\n",
      "\u001B[32mSuccess:\u001B[0m Deployed \u001B[36m'global-phase-trick.zip'\u001B[0m with session ID \u001B[36m2\u001B[0m\r\n"
     ]
    }
   ],
   "execution_count": 20
  },
  {
   "metadata": {
    "ExecuteTime": {
     "end_time": "2025-02-20T20:45:27.402591Z",
     "start_time": "2025-02-20T20:45:27.400528Z"
    }
   },
   "cell_type": "code",
   "source": [
    "from vespa.application import Vespa\n",
    "prod_vespa_host = \"http://localhost\"\n",
    "app = Vespa(url=prod_vespa_host, port=8080)"
   ],
   "id": "4ab67b7601ed5b",
   "outputs": [],
   "execution_count": 7
  },
  {
   "metadata": {
    "ExecuteTime": {
     "end_time": "2025-02-20T20:46:41.532768Z",
     "start_time": "2025-02-20T20:46:41.170560Z"
    }
   },
   "cell_type": "code",
   "source": [
    "# Create and feed 100 dummy docs\n",
    "docs = [\n",
    "    {\n",
    "        'id': f'{i}',\n",
    "        'fields': {\n",
    "            'filter': i,\n",
    "            'embedding': [i]\n",
    "        }\n",
    "    } for i in range(100)]\n",
    "def callback(response: VespaResponse, document_id: str):\n",
    "    if not response.is_successful():\n",
    "        print(f\"Error when feeding document {document_id}: {response.get_json()}\")\n",
    "\n",
    "app.feed_iterable(docs, schema=\"ann\", namespace=\"ann\", callback=callback)"
   ],
   "id": "794c906ee9cebcfa",
   "outputs": [],
   "execution_count": 14
  },
  {
   "metadata": {
    "ExecuteTime": {
     "end_time": "2025-02-20T20:47:01.531821Z",
     "start_time": "2025-02-20T20:47:01.502065Z"
    }
   },
   "cell_type": "code",
   "source": [
    "resp = app.query(body={\n",
    "    'yql': \"\"\"\n",
    "        select *\n",
    "        from ann\n",
    "        where (filter = 99 OR (({targetHits:1, approximate: true}nearestNeighbor(embedding, q)) AND filter < 50))\n",
    "        \"\"\",\n",
    "    'hits': 10,\n",
    "    # 'ranking': 'ann',\n",
    "    \"input.query(q)\": [10],\n",
    "    \"input.query(ann_hits)\": 1,\n",
    "    'ranking.globalPhase.rerankCount': 100,\n",
    "    'ranking.globalPhase.rankScoreDropLimit': 1.0,\n",
    "    \"ranking.matching.approximateThreshold\": 0.99,\n",
    "    'ranking.profile': 'ann_global_cut',\n",
    "    'presentation.summary': 'default',\n",
    "    'trace.level': 2,\n",
    "})\n",
    "resp.json"
   ],
   "id": "3813e7f6654672d6",
   "outputs": [
    {
     "data": {
      "text/plain": [
       "{'trace': {'children': [{'message': \"Using query profile 'default' of type 'root'\"},\n",
       "   {'message': \"Invoking chain 'vespa' [com.yahoo.prelude.statistics.StatisticsSearcher@native -> com.yahoo.prelude.querytransform.PhrasingSearcher@vespa -> ... -> federation@native]\"},\n",
       "   {'children': [{'message': 'YQL query parsed: [select * from ann where (filter = 99 OR ({targetNumHits: 1}nearestNeighbor(embedding, q) AND filter < 50))]'},\n",
       "     {'message': 'Federating to [anncornercase_content]'},\n",
       "     {'children': [{'message': 'Stemming: [select * from ann where (filter = 99 OR ({targetNumHits: 1}nearestNeighbor(embedding, q) AND filter < 50)) timeout 493]'},\n",
       "       {'message': 'Lowercasing: [select * from ann where (filter = 99 OR ({targetNumHits: 1}nearestNeighbor(embedding, q) AND filter < 50)) timeout 493]'},\n",
       "       {'message': 'anncornercase_content.num0 search to dispatch: query=[OR filter:99 (AND NEAREST_NEIGHBOR {field=embedding,queryTensorName=q,hnsw.exploreAdditionalHits=0,distanceThreshold=Infinity,approximate=true,targetHits=1} filter:[;50>)] timeout=493ms offset=0 hits=100 rankprofile[ann_global_cut] groupingSessionCache=true sessionId=4b1ce4d8-199f-470f-9dba-5c5c5d5d67f5.1740084421493.7.ann_global_cut rankproperties={\"ann_hits\":[1.0],\"q\":[tensor<float>(d0[1]):[10.0]],\"vespa.matching.global_filter.lower_limit\":[0.99]} restrict=[ann]'},\n",
       "       {'message': 'Current state of query tree: OR{\\n  INT[index=\"filter\" origin=null uniqueID=1]{\\n    \"99\"\\n  }\\n  AND{\\n    NEAREST_NEIGHBOR[approximate=true distanceThreshold=Infinity field=\"embedding\" hnsw.exploreAdditionalHits=0 queryTensorName=\"q\" targetHits=1 uniqueID=2]\\n    INT[index=\"filter\" origin=null uniqueID=3]{\\n      \"[;50>\"\\n    }\\n  }\\n}\\n'},\n",
       "       {'message': 'Dispatching to search node in cluster = dispatcher.anncornercase_content key = 0 hostname = vespa-global-phase path = 0 in group 0 statusIsKnown = true working = true activeDocs = 100 targetActiveDocs = 100'},\n",
       "       {'message': 'anncornercase_content.num0 dispatch response: Result (6 of total 6 hits)'},\n",
       "       {'message': 'GroupingExecutor.fill(default) = {[default]}'},\n",
       "       {'message': 'anncornercase_content.num0 fill to dispatch: query=[OR filter:99 (AND NEAREST_NEIGHBOR {field=embedding,queryTensorName=q,hnsw.exploreAdditionalHits=0,distanceThreshold=Infinity,approximate=true,targetHits=1} filter:[;50>)] timeout=493ms offset=0 hits=10 rankprofile[ann_global_cut] groupingSessionCache=true sessionId=4b1ce4d8-199f-470f-9dba-5c5c5d5d67f5.1740084421493.7.ann_global_cut rankproperties={\"ann_hits\":[1.0],\"q\":[tensor<float>(d0[1]):[10.0]],\"vespa.matching.global_filter.lower_limit\":[0.99]} restrict=[ann] summary=\\'default\\''},\n",
       "       {'message': 'Current state of query tree: OR{\\n  INT[index=\"filter\" origin=null uniqueID=1]{\\n    \"99\"\\n  }\\n  AND{\\n    NEAREST_NEIGHBOR[approximate=true distanceThreshold=Infinity field=\"embedding\" hnsw.exploreAdditionalHits=0 queryTensorName=\"q\" targetHits=1 uniqueID=2]\\n    INT[index=\"filter\" origin=null uniqueID=3]{\\n      \"[;50>\"\\n    }\\n  }\\n}\\n'}]}]}]},\n",
       " 'root': {'id': 'toplevel',\n",
       "  'relevance': 1.0,\n",
       "  'fields': {'totalCount': 1},\n",
       "  'coverage': {'coverage': 100,\n",
       "   'documents': 100,\n",
       "   'full': True,\n",
       "   'nodes': 1,\n",
       "   'results': 1,\n",
       "   'resultsFull': 1},\n",
       "  'children': [{'id': 'id:ann:ann::10',\n",
       "    'relevance': 4.0,\n",
       "    'source': 'anncornercase_content',\n",
       "    'fields': {'matchfeatures': {'firstPhase': 2.0,\n",
       "      'nearest_neighbor_closeness': 1.0},\n",
       "     'sddocname': 'ann',\n",
       "     'documentid': 'id:ann:ann::10',\n",
       "     'filter': 10}}]}}"
      ]
     },
     "execution_count": 16,
     "metadata": {},
     "output_type": "execute_result"
    }
   ],
   "execution_count": 16
  },
  {
   "metadata": {},
   "cell_type": "markdown",
   "source": [
    "The ranking above explained:\n",
    "- the first hit has relevance = 1 because its `rawScore = 1` and during the global phase reranking the score was not modified as it matches the positive positional adjustment condition.\n",
    "- the second hit has relevance = 0, because in global-phase reranking it didn't match the positive positional adjustment condition.\n",
    "- The third hit has relevance = 0, and it is a good question why exactly.\n",
    "- The fourth hit `relevance=-0.25` (yes, negative), I guess it is because the scores are scaled to be strictly lower than those after re-scoring.\n",
    "- The 5th hit `relevance=-0.5` because scaled, and t firstPhase was 0."
   ],
   "id": "6f6a17bc60f8e60d"
  },
  {
   "metadata": {
    "ExecuteTime": {
     "end_time": "2025-02-07T12:54:41.412657Z",
     "start_time": "2025-02-07T12:54:41.411039Z"
    }
   },
   "cell_type": "code",
   "source": [
    "# the `rawScore` is equal to the `closeness` which for HNSW with distance `prenormalized-angular` is calculated as:\n",
    "# rawScore = 1 / (1 + sqrt((q - d)^2))"
   ],
   "id": "f3937257846dc4b5",
   "outputs": [],
   "execution_count": 52
  },
  {
   "metadata": {
    "ExecuteTime": {
     "end_time": "2025-02-20T20:45:45.523515Z",
     "start_time": "2025-02-20T20:45:45.466286Z"
    }
   },
   "cell_type": "code",
   "source": [
    "# Exact nearest neighbor search (i.e. with `approximate: false`) takes into account the target hits in some interesting way.\n",
    "resp = app.query(body={\n",
    "    'yql': \"\"\"\n",
    "        select *\n",
    "        from ann\n",
    "        where (filter = 99 OR (({targetHits:1, approximate: false}nearestNeighbor(embedding, q)) AND filter < 50))\n",
    "        \"\"\",\n",
    "    'hits': 10,\n",
    "    # 'ranking': 'ann',\n",
    "    \"input.query(q)\": [10],\n",
    "    \"ranking.matching.approximateThreshold\": 0.99,\n",
    "    'ranking.profile': 'ann_global_cut',\n",
    "    'presentation.summary': 'default',\n",
    "})\n",
    "print(f'Hit count with targetHits=1 is {resp.json['root']['fields']['totalCount']}')\n",
    "\n",
    "resp = app.query(body={\n",
    "    'yql': \"\"\"\n",
    "        select *\n",
    "        from ann\n",
    "        where (filter = 99 OR (({targetHits:10, approximate: false}nearestNeighbor(embedding, q)) AND filter < 50))\n",
    "        \"\"\",\n",
    "    'hits': 10,\n",
    "    # 'ranking': 'ann',\n",
    "    \"input.query(q)\": [10],\n",
    "    \"ranking.matching.approximateThreshold\": 0.99,\n",
    "    'ranking.profile': 'ann_global_cut',\n",
    "    'presentation.summary': 'default',\n",
    "})\n",
    "print(f'Hit count with targetHits=10 is {resp.json['root']['fields']['totalCount']}')\n",
    "\n",
    "resp = app.query(body={\n",
    "    'yql': \"\"\"\n",
    "        select *\n",
    "        from ann\n",
    "        where (filter = 99 OR (({targetHits:50, approximate: false}nearestNeighbor(embedding, q)) AND filter < 50))\n",
    "        \"\"\",\n",
    "    'hits': 10,\n",
    "    # 'ranking': 'ann',\n",
    "    \"input.query(q)\": [10],\n",
    "    \"ranking.matching.approximateThreshold\": 0.99,\n",
    "    'ranking.profile': 'ann_global_cut',\n",
    "    'presentation.summary': 'default',\n",
    "})\n",
    "print(f'Hit count with targetHits=50 is {resp.json['root']['fields']['totalCount']}')"
   ],
   "id": "1ba2f7b21760d240",
   "outputs": [
    {
     "name": "stdout",
     "output_type": "stream",
     "text": [
      "Hit count with targetHits=1 is 0\n",
      "Hit count with targetHits=10 is 0\n",
      "Hit count with targetHits=50 is 0\n"
     ]
    }
   ],
   "execution_count": 11
  },
  {
   "metadata": {
    "ExecuteTime": {
     "end_time": "2025-02-10T13:51:07.912730Z",
     "start_time": "2025-02-10T13:51:07.893453Z"
    }
   },
   "cell_type": "code",
   "source": [
    "# it somewhat matches the `approximate: true` where hit estimate falls under the `ranking.matching.approximateThreshold` value.\n",
    "resp = app.query(body={\n",
    "    'yql': \"\"\"\n",
    "        select *\n",
    "        from ann\n",
    "        where (filter = 99 OR (({targetHits:10, approximate: true}nearestNeighbor(embedding, q)) AND filter < 50))\n",
    "        \"\"\",\n",
    "    'hits': 10,\n",
    "    # 'ranking': 'ann',\n",
    "    \"input.query(q)\": [10],\n",
    "    \"ranking.matching.approximateThreshold\": 0.99,\n",
    "    'ranking.profile': 'ann_global_cut',\n",
    "    'presentation.summary': 'default',\n",
    "})\n",
    "print(f'Hit count with targetHits=10 is {resp.json['root']['fields']['totalCount']}')"
   ],
   "id": "b68a56a587065ba",
   "outputs": [
    {
     "name": "stdout",
     "output_type": "stream",
     "text": [
      "Hit count with targetHits=10 is 17\n"
     ]
    }
   ],
   "execution_count": 107
  },
  {
   "metadata": {
    "ExecuteTime": {
     "end_time": "2025-02-10T13:51:10.276488Z",
     "start_time": "2025-02-10T13:51:10.274682Z"
    }
   },
   "cell_type": "code",
   "source": "# Fin",
   "id": "958cdfde037e9753",
   "outputs": [],
   "execution_count": 108
  }
 ],
 "metadata": {
  "kernelspec": {
   "name": "python3",
   "language": "python",
   "display_name": "Python 3 (ipykernel)"
  }
 },
 "nbformat": 5,
 "nbformat_minor": 9
}
