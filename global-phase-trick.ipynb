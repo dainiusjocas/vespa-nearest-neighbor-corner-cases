{
 "cells": [
  {
   "metadata": {},
   "cell_type": "markdown",
   "source": [
    "Here we want to investigate if the limiting of NN matches via the `global-phase` ranking is viable.\n",
    "Main questions are:\n",
    "- does the re-scoring trick work at all? Yes, with an exception of passing RRF score to a function.\n",
    "- What happens with items that dont have the NN score at all?\n",
    "- How many items can be reranked this way (content nodes)\n",
    "- what is the cheapest way to get features for global phase?"
   ],
   "id": "9205f97bfccec440"
  },
  {
   "metadata": {
    "ExecuteTime": {
     "end_time": "2025-02-10T11:56:45.926669Z",
     "start_time": "2025-02-10T11:56:45.918501Z"
    }
   },
   "cell_type": "code",
   "source": [
    "from vespa.package import (ApplicationPackage, Field, Schema, Document, RankProfile, HNSW, GlobalPhaseRanking, Function)\n",
    "from vespa.deployment import VespaDocker\n",
    "from vespa.io import VespaResponse\n",
    "\n",
    "vap = ApplicationPackage(\n",
    "    name=\"anncornercase\",\n",
    "    schema=[\n",
    "        Schema(\n",
    "            name=\"ann\",\n",
    "            document=Document(\n",
    "                fields=[\n",
    "                    Field(\n",
    "                        name=\"filter\",\n",
    "                        type=\"int\",\n",
    "                        indexing=[\"attribute\", \"summary\"],\n",
    "                        attribute=[\"fast-search\"],\n",
    "                    ),\n",
    "                    Field(\n",
    "                        name=\"embedding\",\n",
    "                        type=\"tensor<float>(d0[1])\",\n",
    "                        indexing=[\"attribute\", \"index\"],\n",
    "                        ann=HNSW(\n",
    "                            distance_metric=\"euclidean\",\n",
    "                            max_links_per_node=16,\n",
    "                            neighbors_to_explore_at_insert=200,\n",
    "                        ))\n",
    "                ]\n",
    "            ),\n",
    "            rank_profiles=[\n",
    "                RankProfile(\n",
    "                    name=\"ann\",\n",
    "                    inputs=[\n",
    "                        (\"query(q)\", \"tensor<float>(d0[1])\"),\n",
    "                    ],\n",
    "                    functions=[\n",
    "                        Function(\n",
    "                            name='nearest_neighbor_distance',\n",
    "                            expression='rawScore(embedding)',\n",
    "                        ),\n",
    "                    ],\n",
    "                    first_phase=\"nearest_neighbor_distance\"\n",
    "                ),\n",
    "                RankProfile(\n",
    "                    inherits='ann',\n",
    "                    name=\"ann_global_cut\",\n",
    "                    functions=[\n",
    "                        #It seems that a function in the global phase can't take in reciprocal_rank output\n",
    "                        # Function(\n",
    "                        #     name=\"function_on_reciprocal_rank\",\n",
    "                        #     args=[\"rr_score\"],\n",
    "                        #     expression=\"if(rr_score >= 1/2.0, 1.0, 0.0)\"\n",
    "                        # ),\n",
    "                        Function(\n",
    "                            name='rrf_inside_function',\n",
    "                            args=[],\n",
    "                            expression='if(reciprocal_rank(nearest_neighbor_distance, 0) >= 1.0/1.0, 1.0, 0.0)',\n",
    "                        )\n",
    "                    ],\n",
    "                    first_phase=\"nearest_neighbor_distance\",\n",
    "                    global_phase=GlobalPhaseRanking(\n",
    "                        rerank_count=2,\n",
    "                        # expression=\"firstPhase * function_on_reciprocal_rank(reciprocal_rank(nearest_neighbor_distance, 0))\"\n",
    "                        expression=\"firstPhase * if(reciprocal_rank(nearest_neighbor_distance, 0) >= 1.0/1.0, 1.0, 0.0)\",\n",
    "\n",
    "                        # expression=\"firstPhase * rrf_inside_function()\",\n",
    "                        # TODO: I'll have to implement it, to have a complete control.\n",
    "                        # rank_score_drop_limit=0.0,\n",
    "                    ),\n",
    "                    match_features=['nearest_neighbor_distance'],\n",
    "                )\n",
    "            ]\n",
    "        )\n",
    "    ]\n",
    ")"
   ],
   "id": "c35d1257d5951be4",
   "outputs": [],
   "execution_count": 84
  },
  {
   "metadata": {
    "ExecuteTime": {
     "end_time": "2025-02-10T11:56:48.454729Z",
     "start_time": "2025-02-10T11:56:47.868358Z"
    }
   },
   "cell_type": "code",
   "source": [
    "vap_file_name = \"global-phase-trick.zip\"\n",
    "vap.to_zipfile(vap_file_name)\n",
    "# Deploy VAP zip file\n",
    "! vespa deploy global-phase-trick.zip -t http://localhost:19071"
   ],
   "id": "896effcbe4842b49",
   "outputs": [
    {
     "name": "stdout",
     "output_type": "stream",
     "text": [
      "Uploading application package... failedm⣻\u001B[0;22m\r\n",
      "\u001B[31mError:\u001B[0m invalid application package (status 400)\r\n",
      "Invalid application:\r\n",
      "Error in rank setup in schema 'ann' for content cluster 'anncornercase_content'. Details:\r\n",
      "INFO:\r\n",
      "rank profile 'default':\r\n",
      "pass\r\n",
      "INFO:\r\n",
      "rank profile 'unranked':\r\n",
      "pass\r\n",
      "INFO:\r\n",
      "rank profile 'ann':\r\n",
      "pass\r\n",
      "WARNING:\r\n",
      "invalid rank feature normalize@2348715378@rrank:\r\n",
      "unknown basename:\r\n",
      "'normalize@2348715378@rrank'\r\n",
      "\t  ... needed by function function_on_reciprocal_rank\r\n",
      "ERROR:\r\n",
      "verification failed:\r\n",
      "function function_on_reciprocal_rank (match features)\r\n",
      "ERROR:\r\n",
      "rank profile 'ann_global_cut':\r\n",
      "FAIL\r\n",
      "\r\n"
     ]
    }
   ],
   "execution_count": 85
  },
  {
   "metadata": {
    "ExecuteTime": {
     "end_time": "2025-02-07T12:45:23.722715Z",
     "start_time": "2025-02-07T12:45:23.718279Z"
    }
   },
   "cell_type": "code",
   "source": [
    "from vespa.application import Vespa\n",
    "prod_vespa_host = \"http://localhost\"\n",
    "app = Vespa(url=prod_vespa_host, port=8080)"
   ],
   "id": "4ab67b7601ed5b",
   "outputs": [],
   "execution_count": 35
  },
  {
   "metadata": {
    "ExecuteTime": {
     "end_time": "2025-02-07T12:45:33.606267Z",
     "start_time": "2025-02-07T12:45:33.124787Z"
    }
   },
   "cell_type": "code",
   "source": [
    "# Create and feed 100 dummy docs\n",
    "docs = [\n",
    "    {\n",
    "        'id': f'{i}',\n",
    "        'fields': {\n",
    "            'filter': i,\n",
    "            'embedding': [i]\n",
    "        }\n",
    "    } for i in range(100)]\n",
    "def callback(response: VespaResponse, document_id: str):\n",
    "    if not response.is_successful():\n",
    "        print(f\"Error when feeding document {document_id}: {response.get_json()}\")\n",
    "\n",
    "app.feed_iterable(docs, schema=\"ann\", namespace=\"ann\", callback=callback)"
   ],
   "id": "794c906ee9cebcfa",
   "outputs": [],
   "execution_count": 36
  },
  {
   "metadata": {
    "ExecuteTime": {
     "end_time": "2025-02-10T12:26:03.484391Z",
     "start_time": "2025-02-10T12:26:03.461482Z"
    }
   },
   "cell_type": "code",
   "source": [
    "resp = app.query(body={\n",
    "    'yql': \"\"\"\n",
    "        select *\n",
    "        from ann\n",
    "        where (filter = 99 OR (({targetHits:1, approximate: false}nearestNeighbor(embedding, q)) AND filter < 50))\n",
    "        \"\"\",\n",
    "    'hits': 10,\n",
    "    # 'ranking': 'ann',\n",
    "    \"input.query(q)\": [10],\n",
    "    \"ranking.matching.approximateThreshold\": 0.99,\n",
    "    'ranking.profile': 'ann_global_cut',\n",
    "    'presentation.summary': 'default',\n",
    "    'trace.level': 2\n",
    "})\n",
    "resp.json"
   ],
   "id": "3813e7f6654672d6",
   "outputs": [
    {
     "data": {
      "text/plain": [
       "{'trace': {'children': [{'message': \"Using query profile 'default' of type 'root'\"},\n",
       "   {'message': \"Invoking chain 'vespa' [com.yahoo.prelude.statistics.StatisticsSearcher@native -> com.yahoo.prelude.querytransform.PhrasingSearcher@vespa -> ... -> federation@native]\"},\n",
       "   {'children': [{'message': 'YQL query parsed: [select * from ann where (filter = 99 OR ({targetNumHits: 1, approximate: false}nearestNeighbor(embedding, q) AND filter < 50))]'},\n",
       "     {'message': 'Federating to [anncornercase_content]'},\n",
       "     {'children': [{'message': 'Stemming: [select * from ann where (filter = 99 OR ({targetNumHits: 1, approximate: false}nearestNeighbor(embedding, q) AND filter < 50)) timeout 495]'},\n",
       "       {'message': 'Lowercasing: [select * from ann where (filter = 99 OR ({targetNumHits: 1, approximate: false}nearestNeighbor(embedding, q) AND filter < 50)) timeout 495]'},\n",
       "       {'message': 'anncornercase_content.num0 search to dispatch: query=[OR filter:99 (AND NEAREST_NEIGHBOR {field=embedding,queryTensorName=q,hnsw.exploreAdditionalHits=0,distanceThreshold=Infinity,approximate=false,targetHits=1} filter:[;50>)] timeout=495ms offset=0 hits=10 rankprofile[ann_global_cut] groupingSessionCache=true sessionId=afcd3276-82f8-44d6-977c-c0e765063d42.1739190363477.47.ann_global_cut rankproperties={\"q\":[tensor<float>(d0[1]):[10.0]],\"vespa.matching.global_filter.lower_limit\":[0.99]} restrict=[ann]'},\n",
       "       {'message': 'Current state of query tree: OR{\\n  INT[index=\"filter\" origin=null uniqueID=1]{\\n    \"99\"\\n  }\\n  AND{\\n    NEAREST_NEIGHBOR[approximate=false distanceThreshold=Infinity field=\"embedding\" hnsw.exploreAdditionalHits=0 queryTensorName=\"q\" targetHits=1 uniqueID=2]\\n    INT[index=\"filter\" origin=null uniqueID=3]{\\n      \"[;50>\"\\n    }\\n  }\\n}\\n'},\n",
       "       {'message': 'Dispatching to search node in cluster = dispatcher.anncornercase_content key = 0 hostname = vespa-global-phase path = 0 in group 0 statusIsKnown = true working = true activeDocs = 100 targetActiveDocs = 100'},\n",
       "       {'message': 'anncornercase_content.num0 dispatch response: Result (5 of total 5 hits)'},\n",
       "       {'message': 'GroupingExecutor.fill(default) = {[default]}'},\n",
       "       {'message': 'anncornercase_content.num0 fill to dispatch: query=[OR filter:99 (AND NEAREST_NEIGHBOR {field=embedding,queryTensorName=q,hnsw.exploreAdditionalHits=0,distanceThreshold=Infinity,approximate=false,targetHits=1} filter:[;50>)] timeout=495ms offset=0 hits=10 rankprofile[ann_global_cut] groupingSessionCache=true sessionId=afcd3276-82f8-44d6-977c-c0e765063d42.1739190363477.47.ann_global_cut rankproperties={\"q\":[tensor<float>(d0[1]):[10.0]],\"vespa.matching.global_filter.lower_limit\":[0.99]} restrict=[ann] summary=\\'default\\''},\n",
       "       {'message': 'Current state of query tree: OR{\\n  INT[index=\"filter\" origin=null uniqueID=1]{\\n    \"99\"\\n  }\\n  AND{\\n    NEAREST_NEIGHBOR[approximate=false distanceThreshold=Infinity field=\"embedding\" hnsw.exploreAdditionalHits=0 queryTensorName=\"q\" targetHits=1 uniqueID=2]\\n    INT[index=\"filter\" origin=null uniqueID=3]{\\n      \"[;50>\"\\n    }\\n  }\\n}\\n'}]}]}]},\n",
       " 'root': {'id': 'toplevel',\n",
       "  'relevance': 1.0,\n",
       "  'fields': {'totalCount': 5},\n",
       "  'coverage': {'coverage': 100,\n",
       "   'documents': 100,\n",
       "   'full': True,\n",
       "   'nodes': 1,\n",
       "   'results': 1,\n",
       "   'resultsFull': 1},\n",
       "  'children': [{'id': 'id:ann:ann::10',\n",
       "    'relevance': 1.0,\n",
       "    'source': 'anncornercase_content',\n",
       "    'fields': {'matchfeatures': {'nearest_neighbor_distance': 1.0},\n",
       "     'sddocname': 'ann',\n",
       "     'documentid': 'id:ann:ann::10',\n",
       "     'filter': 10}},\n",
       "   {'id': 'id:ann:ann::11',\n",
       "    'relevance': 0.0,\n",
       "    'source': 'anncornercase_content',\n",
       "    'fields': {'matchfeatures': {'nearest_neighbor_distance': 0.5},\n",
       "     'sddocname': 'ann',\n",
       "     'documentid': 'id:ann:ann::11',\n",
       "     'filter': 11}},\n",
       "   {'id': 'id:ann:ann::9',\n",
       "    'relevance': 0.0,\n",
       "    'source': 'anncornercase_content',\n",
       "    'fields': {'matchfeatures': {'nearest_neighbor_distance': 0.5},\n",
       "     'sddocname': 'ann',\n",
       "     'documentid': 'id:ann:ann::9',\n",
       "     'filter': 9}},\n",
       "   {'id': 'id:ann:ann::7',\n",
       "    'relevance': -0.25,\n",
       "    'source': 'anncornercase_content',\n",
       "    'fields': {'matchfeatures': {'nearest_neighbor_distance': 0.25},\n",
       "     'sddocname': 'ann',\n",
       "     'documentid': 'id:ann:ann::7',\n",
       "     'filter': 7}},\n",
       "   {'id': 'id:ann:ann::99',\n",
       "    'relevance': -0.5,\n",
       "    'source': 'anncornercase_content',\n",
       "    'fields': {'matchfeatures': {'nearest_neighbor_distance': 0.0},\n",
       "     'sddocname': 'ann',\n",
       "     'documentid': 'id:ann:ann::99',\n",
       "     'filter': 99}}]}}"
      ]
     },
     "execution_count": 100,
     "metadata": {},
     "output_type": "execute_result"
    }
   ],
   "execution_count": 100
  },
  {
   "metadata": {},
   "cell_type": "markdown",
   "source": [
    "The ranking above explained:\n",
    "- the first hit has relevance = 1 because its `rawScore = 1` and during the global phase reranking the score was not modified as it matches the positive positional adjustment condition.\n",
    "- the second hit has relevance = 0, because in global-phase reranking it didn't match the positive positional adjustment condition.\n",
    "- The third hit has relevance = 0, and it is a good question why exactly.\n",
    "- The fourth hit `relevance=-0.25` (yes, negative), I guess it is because the scores are scaled to be strictly lower than those after re-scoring.\n",
    "- The 5th hit `relevance=-0.5` because scaled, and t firstPhase was 0."
   ],
   "id": "6f6a17bc60f8e60d"
  },
  {
   "metadata": {
    "ExecuteTime": {
     "end_time": "2025-02-07T12:54:41.412657Z",
     "start_time": "2025-02-07T12:54:41.411039Z"
    }
   },
   "cell_type": "code",
   "source": [
    "# the `rawScore` is equal to the `closeness` which for HNSW with distance `prenormalized-angular` is calculated as:\n",
    "# rawScore = 1 / (1 + sqrt((q - d)^2))"
   ],
   "id": "f3937257846dc4b5",
   "outputs": [],
   "execution_count": 52
  },
  {
   "metadata": {
    "ExecuteTime": {
     "end_time": "2025-02-10T12:15:12.560412Z",
     "start_time": "2025-02-10T12:15:12.516086Z"
    }
   },
   "cell_type": "code",
   "source": [
    "# Exact nearest neighbor search (i.e. with `approximate: false`) takes into account the target hits in some interesting way.\n",
    "resp = app.query(body={\n",
    "    'yql': \"\"\"\n",
    "        select *\n",
    "        from ann\n",
    "        where (filter = 99 OR (({targetHits:1, approximate: false}nearestNeighbor(embedding, q)) AND filter < 50))\n",
    "        \"\"\",\n",
    "    'hits': 10,\n",
    "    # 'ranking': 'ann',\n",
    "    \"input.query(q)\": [10],\n",
    "    \"ranking.matching.approximateThreshold\": 0.99,\n",
    "    'ranking.profile': 'ann_global_cut',\n",
    "    'presentation.summary': 'default',\n",
    "})\n",
    "print(f'Hit count with targetHits=1 is {resp.json['root']['fields']['totalCount']}')\n",
    "\n",
    "resp = app.query(body={\n",
    "    'yql': \"\"\"\n",
    "        select *\n",
    "        from ann\n",
    "        where (filter = 99 OR (({targetHits:10, approximate: false}nearestNeighbor(embedding, q)) AND filter < 50))\n",
    "        \"\"\",\n",
    "    'hits': 10,\n",
    "    # 'ranking': 'ann',\n",
    "    \"input.query(q)\": [10],\n",
    "    \"ranking.matching.approximateThreshold\": 0.99,\n",
    "    'ranking.profile': 'ann_global_cut',\n",
    "    'presentation.summary': 'default',\n",
    "})\n",
    "print(f'Hit count with targetHits=10 is {resp.json['root']['fields']['totalCount']}')\n",
    "\n",
    "resp = app.query(body={\n",
    "    'yql': \"\"\"\n",
    "        select *\n",
    "        from ann\n",
    "        where (filter = 99 OR (({targetHits:50, approximate: false}nearestNeighbor(embedding, q)) AND filter < 50))\n",
    "        \"\"\",\n",
    "    'hits': 10,\n",
    "    # 'ranking': 'ann',\n",
    "    \"input.query(q)\": [10],\n",
    "    \"ranking.matching.approximateThreshold\": 0.99,\n",
    "    'ranking.profile': 'ann_global_cut',\n",
    "    'presentation.summary': 'default',\n",
    "})\n",
    "print(f'Hit count with targetHits=50 is {resp.json['root']['fields']['totalCount']}')"
   ],
   "id": "1ba2f7b21760d240",
   "outputs": [
    {
     "name": "stdout",
     "output_type": "stream",
     "text": [
      "Hit count with targetHits=1 is 5\n",
      "Hit count with targetHits=10 is 17\n",
      "Hit count with targetHits=50 is 51\n"
     ]
    }
   ],
   "execution_count": 95
  },
  {
   "metadata": {
    "ExecuteTime": {
     "end_time": "2025-02-10T12:24:28.536099Z",
     "start_time": "2025-02-10T12:24:28.518805Z"
    }
   },
   "cell_type": "code",
   "source": [
    "# it somewhat matches the `approximate: true` where hit estimate falls under the `ranking.matching.approximateThreshold` value.\n",
    "resp = app.query(body={\n",
    "    'yql': \"\"\"\n",
    "        select *\n",
    "        from ann\n",
    "        where (filter = 99 OR (({targetHits:10, approximate: true}nearestNeighbor(embedding, q)) AND filter < 50))\n",
    "        \"\"\",\n",
    "    'hits': 10,\n",
    "    # 'ranking': 'ann',\n",
    "    \"input.query(q)\": [10],\n",
    "    \"ranking.matching.approximateThreshold\": 0.99,\n",
    "    'ranking.profile': 'ann_global_cut',\n",
    "    'presentation.summary': 'default',\n",
    "})\n",
    "print(f'Hit count with targetHits=50 is {resp.json['root']['fields']['totalCount']}')"
   ],
   "id": "b68a56a587065ba",
   "outputs": [
    {
     "name": "stdout",
     "output_type": "stream",
     "text": [
      "Hit count with targetHits=50 is 17\n"
     ]
    }
   ],
   "execution_count": 99
  },
  {
   "metadata": {},
   "cell_type": "code",
   "outputs": [],
   "execution_count": null,
   "source": "# Fin",
   "id": "958cdfde037e9753"
  },
  {
   "metadata": {},
   "cell_type": "code",
   "outputs": [],
   "execution_count": null,
   "source": "",
   "id": "a3867c2374ed8f3c"
  },
  {
   "metadata": {},
   "cell_type": "code",
   "outputs": [],
   "execution_count": null,
   "source": "",
   "id": "d0d1c6b4cbea7b8c"
  },
  {
   "metadata": {},
   "cell_type": "code",
   "outputs": [],
   "execution_count": null,
   "source": "",
   "id": "31004753d1bfc5a7"
  },
  {
   "metadata": {
    "ExecuteTime": {
     "end_time": "2025-02-07T10:48:32.816129Z",
     "start_time": "2025-02-07T10:48:32.784359Z"
    }
   },
   "cell_type": "code",
   "source": [
    "# Running this cell recreates the Docker container With Vespa\n",
    "# which takes about 1 minute\n",
    "#vespa_docker = VespaDocker(container_image=\"vespaengine/vespa:8.472.109\")"
   ],
   "id": "58e6fce793a95de9",
   "outputs": [],
   "execution_count": 19
  },
  {
   "metadata": {
    "ExecuteTime": {
     "end_time": "2025-02-07T10:41:34.968585Z",
     "start_time": "2025-02-07T10:41:34.828140Z"
    }
   },
   "cell_type": "code",
   "source": [
    "app = vespa_docker.deploy(application_package=vap)  # doesn't work on macbook with colima\n",
    "# Alternative\n",
    "# docker run \\\n",
    "# --detach \\\n",
    "# --name vespa-global-phase \\\n",
    "# --hostname vespa-global-phase \\\n",
    "# --publish 0.0.0.0:8080:8080 \\\n",
    "# --publish 0.0.0.0:19050:19050 \\\n",
    "# --publish 0.0.0.0:19071:19071 \\\n",
    "# vespaengine/vespa:8.472.109\n"
   ],
   "id": "e53f5c312beeee00",
   "outputs": [
    {
     "ename": "DockerException",
     "evalue": "Error while fetching server API version: ('Connection aborted.', FileNotFoundError(2, 'No such file or directory'))",
     "output_type": "error",
     "traceback": [
      "\u001B[0;31m---------------------------------------------------------------------------\u001B[0m",
      "\u001B[0;31mFileNotFoundError\u001B[0m                         Traceback (most recent call last)",
      "File \u001B[0;32m~/p/vespa-nearest-neighbor-corner-cases/.venv/lib/python3.13/site-packages/urllib3/connectionpool.py:789\u001B[0m, in \u001B[0;36mHTTPConnectionPool.urlopen\u001B[0;34m(self, method, url, body, headers, retries, redirect, assert_same_host, timeout, pool_timeout, release_conn, chunked, body_pos, preload_content, decode_content, **response_kw)\u001B[0m\n\u001B[1;32m    788\u001B[0m \u001B[38;5;66;03m# Make the request on the HTTPConnection object\u001B[39;00m\n\u001B[0;32m--> 789\u001B[0m response \u001B[38;5;241m=\u001B[39m \u001B[38;5;28;43mself\u001B[39;49m\u001B[38;5;241;43m.\u001B[39;49m\u001B[43m_make_request\u001B[49m\u001B[43m(\u001B[49m\n\u001B[1;32m    790\u001B[0m \u001B[43m    \u001B[49m\u001B[43mconn\u001B[49m\u001B[43m,\u001B[49m\n\u001B[1;32m    791\u001B[0m \u001B[43m    \u001B[49m\u001B[43mmethod\u001B[49m\u001B[43m,\u001B[49m\n\u001B[1;32m    792\u001B[0m \u001B[43m    \u001B[49m\u001B[43murl\u001B[49m\u001B[43m,\u001B[49m\n\u001B[1;32m    793\u001B[0m \u001B[43m    \u001B[49m\u001B[43mtimeout\u001B[49m\u001B[38;5;241;43m=\u001B[39;49m\u001B[43mtimeout_obj\u001B[49m\u001B[43m,\u001B[49m\n\u001B[1;32m    794\u001B[0m \u001B[43m    \u001B[49m\u001B[43mbody\u001B[49m\u001B[38;5;241;43m=\u001B[39;49m\u001B[43mbody\u001B[49m\u001B[43m,\u001B[49m\n\u001B[1;32m    795\u001B[0m \u001B[43m    \u001B[49m\u001B[43mheaders\u001B[49m\u001B[38;5;241;43m=\u001B[39;49m\u001B[43mheaders\u001B[49m\u001B[43m,\u001B[49m\n\u001B[1;32m    796\u001B[0m \u001B[43m    \u001B[49m\u001B[43mchunked\u001B[49m\u001B[38;5;241;43m=\u001B[39;49m\u001B[43mchunked\u001B[49m\u001B[43m,\u001B[49m\n\u001B[1;32m    797\u001B[0m \u001B[43m    \u001B[49m\u001B[43mretries\u001B[49m\u001B[38;5;241;43m=\u001B[39;49m\u001B[43mretries\u001B[49m\u001B[43m,\u001B[49m\n\u001B[1;32m    798\u001B[0m \u001B[43m    \u001B[49m\u001B[43mresponse_conn\u001B[49m\u001B[38;5;241;43m=\u001B[39;49m\u001B[43mresponse_conn\u001B[49m\u001B[43m,\u001B[49m\n\u001B[1;32m    799\u001B[0m \u001B[43m    \u001B[49m\u001B[43mpreload_content\u001B[49m\u001B[38;5;241;43m=\u001B[39;49m\u001B[43mpreload_content\u001B[49m\u001B[43m,\u001B[49m\n\u001B[1;32m    800\u001B[0m \u001B[43m    \u001B[49m\u001B[43mdecode_content\u001B[49m\u001B[38;5;241;43m=\u001B[39;49m\u001B[43mdecode_content\u001B[49m\u001B[43m,\u001B[49m\n\u001B[1;32m    801\u001B[0m \u001B[43m    \u001B[49m\u001B[38;5;241;43m*\u001B[39;49m\u001B[38;5;241;43m*\u001B[39;49m\u001B[43mresponse_kw\u001B[49m\u001B[43m,\u001B[49m\n\u001B[1;32m    802\u001B[0m \u001B[43m\u001B[49m\u001B[43m)\u001B[49m\n\u001B[1;32m    804\u001B[0m \u001B[38;5;66;03m# Everything went great!\u001B[39;00m\n",
      "File \u001B[0;32m~/p/vespa-nearest-neighbor-corner-cases/.venv/lib/python3.13/site-packages/urllib3/connectionpool.py:495\u001B[0m, in \u001B[0;36mHTTPConnectionPool._make_request\u001B[0;34m(self, conn, method, url, body, headers, retries, timeout, chunked, response_conn, preload_content, decode_content, enforce_content_length)\u001B[0m\n\u001B[1;32m    494\u001B[0m \u001B[38;5;28;01mtry\u001B[39;00m:\n\u001B[0;32m--> 495\u001B[0m     \u001B[43mconn\u001B[49m\u001B[38;5;241;43m.\u001B[39;49m\u001B[43mrequest\u001B[49m\u001B[43m(\u001B[49m\n\u001B[1;32m    496\u001B[0m \u001B[43m        \u001B[49m\u001B[43mmethod\u001B[49m\u001B[43m,\u001B[49m\n\u001B[1;32m    497\u001B[0m \u001B[43m        \u001B[49m\u001B[43murl\u001B[49m\u001B[43m,\u001B[49m\n\u001B[1;32m    498\u001B[0m \u001B[43m        \u001B[49m\u001B[43mbody\u001B[49m\u001B[38;5;241;43m=\u001B[39;49m\u001B[43mbody\u001B[49m\u001B[43m,\u001B[49m\n\u001B[1;32m    499\u001B[0m \u001B[43m        \u001B[49m\u001B[43mheaders\u001B[49m\u001B[38;5;241;43m=\u001B[39;49m\u001B[43mheaders\u001B[49m\u001B[43m,\u001B[49m\n\u001B[1;32m    500\u001B[0m \u001B[43m        \u001B[49m\u001B[43mchunked\u001B[49m\u001B[38;5;241;43m=\u001B[39;49m\u001B[43mchunked\u001B[49m\u001B[43m,\u001B[49m\n\u001B[1;32m    501\u001B[0m \u001B[43m        \u001B[49m\u001B[43mpreload_content\u001B[49m\u001B[38;5;241;43m=\u001B[39;49m\u001B[43mpreload_content\u001B[49m\u001B[43m,\u001B[49m\n\u001B[1;32m    502\u001B[0m \u001B[43m        \u001B[49m\u001B[43mdecode_content\u001B[49m\u001B[38;5;241;43m=\u001B[39;49m\u001B[43mdecode_content\u001B[49m\u001B[43m,\u001B[49m\n\u001B[1;32m    503\u001B[0m \u001B[43m        \u001B[49m\u001B[43menforce_content_length\u001B[49m\u001B[38;5;241;43m=\u001B[39;49m\u001B[43menforce_content_length\u001B[49m\u001B[43m,\u001B[49m\n\u001B[1;32m    504\u001B[0m \u001B[43m    \u001B[49m\u001B[43m)\u001B[49m\n\u001B[1;32m    506\u001B[0m \u001B[38;5;66;03m# We are swallowing BrokenPipeError (errno.EPIPE) since the server is\u001B[39;00m\n\u001B[1;32m    507\u001B[0m \u001B[38;5;66;03m# legitimately able to close the connection after sending a valid response.\u001B[39;00m\n\u001B[1;32m    508\u001B[0m \u001B[38;5;66;03m# With this behaviour, the received response is still readable.\u001B[39;00m\n",
      "File \u001B[0;32m~/p/vespa-nearest-neighbor-corner-cases/.venv/lib/python3.13/site-packages/urllib3/connection.py:441\u001B[0m, in \u001B[0;36mHTTPConnection.request\u001B[0;34m(self, method, url, body, headers, chunked, preload_content, decode_content, enforce_content_length)\u001B[0m\n\u001B[1;32m    440\u001B[0m     \u001B[38;5;28mself\u001B[39m\u001B[38;5;241m.\u001B[39mputheader(header, value)\n\u001B[0;32m--> 441\u001B[0m \u001B[38;5;28;43mself\u001B[39;49m\u001B[38;5;241;43m.\u001B[39;49m\u001B[43mendheaders\u001B[49m\u001B[43m(\u001B[49m\u001B[43m)\u001B[49m\n\u001B[1;32m    443\u001B[0m \u001B[38;5;66;03m# If we're given a body we start sending that in chunks.\u001B[39;00m\n",
      "File \u001B[0;32m/opt/homebrew/Cellar/python@3.13/3.13.1/Frameworks/Python.framework/Versions/3.13/lib/python3.13/http/client.py:1331\u001B[0m, in \u001B[0;36mHTTPConnection.endheaders\u001B[0;34m(self, message_body, encode_chunked)\u001B[0m\n\u001B[1;32m   1330\u001B[0m     \u001B[38;5;28;01mraise\u001B[39;00m CannotSendHeader()\n\u001B[0;32m-> 1331\u001B[0m \u001B[38;5;28;43mself\u001B[39;49m\u001B[38;5;241;43m.\u001B[39;49m\u001B[43m_send_output\u001B[49m\u001B[43m(\u001B[49m\u001B[43mmessage_body\u001B[49m\u001B[43m,\u001B[49m\u001B[43m \u001B[49m\u001B[43mencode_chunked\u001B[49m\u001B[38;5;241;43m=\u001B[39;49m\u001B[43mencode_chunked\u001B[49m\u001B[43m)\u001B[49m\n",
      "File \u001B[0;32m/opt/homebrew/Cellar/python@3.13/3.13.1/Frameworks/Python.framework/Versions/3.13/lib/python3.13/http/client.py:1091\u001B[0m, in \u001B[0;36mHTTPConnection._send_output\u001B[0;34m(self, message_body, encode_chunked)\u001B[0m\n\u001B[1;32m   1090\u001B[0m \u001B[38;5;28;01mdel\u001B[39;00m \u001B[38;5;28mself\u001B[39m\u001B[38;5;241m.\u001B[39m_buffer[:]\n\u001B[0;32m-> 1091\u001B[0m \u001B[38;5;28;43mself\u001B[39;49m\u001B[38;5;241;43m.\u001B[39;49m\u001B[43msend\u001B[49m\u001B[43m(\u001B[49m\u001B[43mmsg\u001B[49m\u001B[43m)\u001B[49m\n\u001B[1;32m   1093\u001B[0m \u001B[38;5;28;01mif\u001B[39;00m message_body \u001B[38;5;129;01mis\u001B[39;00m \u001B[38;5;129;01mnot\u001B[39;00m \u001B[38;5;28;01mNone\u001B[39;00m:\n\u001B[1;32m   1094\u001B[0m \n\u001B[1;32m   1095\u001B[0m     \u001B[38;5;66;03m# create a consistent interface to message_body\u001B[39;00m\n",
      "File \u001B[0;32m/opt/homebrew/Cellar/python@3.13/3.13.1/Frameworks/Python.framework/Versions/3.13/lib/python3.13/http/client.py:1035\u001B[0m, in \u001B[0;36mHTTPConnection.send\u001B[0;34m(self, data)\u001B[0m\n\u001B[1;32m   1034\u001B[0m \u001B[38;5;28;01mif\u001B[39;00m \u001B[38;5;28mself\u001B[39m\u001B[38;5;241m.\u001B[39mauto_open:\n\u001B[0;32m-> 1035\u001B[0m     \u001B[38;5;28;43mself\u001B[39;49m\u001B[38;5;241;43m.\u001B[39;49m\u001B[43mconnect\u001B[49m\u001B[43m(\u001B[49m\u001B[43m)\u001B[49m\n\u001B[1;32m   1036\u001B[0m \u001B[38;5;28;01melse\u001B[39;00m:\n",
      "File \u001B[0;32m~/p/vespa-nearest-neighbor-corner-cases/.venv/lib/python3.13/site-packages/docker/transport/unixconn.py:26\u001B[0m, in \u001B[0;36mUnixHTTPConnection.connect\u001B[0;34m(self)\u001B[0m\n\u001B[1;32m     25\u001B[0m sock\u001B[38;5;241m.\u001B[39msettimeout(\u001B[38;5;28mself\u001B[39m\u001B[38;5;241m.\u001B[39mtimeout)\n\u001B[0;32m---> 26\u001B[0m \u001B[43msock\u001B[49m\u001B[38;5;241;43m.\u001B[39;49m\u001B[43mconnect\u001B[49m\u001B[43m(\u001B[49m\u001B[38;5;28;43mself\u001B[39;49m\u001B[38;5;241;43m.\u001B[39;49m\u001B[43munix_socket\u001B[49m\u001B[43m)\u001B[49m\n\u001B[1;32m     27\u001B[0m \u001B[38;5;28mself\u001B[39m\u001B[38;5;241m.\u001B[39msock \u001B[38;5;241m=\u001B[39m sock\n",
      "\u001B[0;31mFileNotFoundError\u001B[0m: [Errno 2] No such file or directory",
      "\nDuring handling of the above exception, another exception occurred:\n",
      "\u001B[0;31mProtocolError\u001B[0m                             Traceback (most recent call last)",
      "File \u001B[0;32m~/p/vespa-nearest-neighbor-corner-cases/.venv/lib/python3.13/site-packages/requests/adapters.py:667\u001B[0m, in \u001B[0;36mHTTPAdapter.send\u001B[0;34m(self, request, stream, timeout, verify, cert, proxies)\u001B[0m\n\u001B[1;32m    666\u001B[0m \u001B[38;5;28;01mtry\u001B[39;00m:\n\u001B[0;32m--> 667\u001B[0m     resp \u001B[38;5;241m=\u001B[39m \u001B[43mconn\u001B[49m\u001B[38;5;241;43m.\u001B[39;49m\u001B[43murlopen\u001B[49m\u001B[43m(\u001B[49m\n\u001B[1;32m    668\u001B[0m \u001B[43m        \u001B[49m\u001B[43mmethod\u001B[49m\u001B[38;5;241;43m=\u001B[39;49m\u001B[43mrequest\u001B[49m\u001B[38;5;241;43m.\u001B[39;49m\u001B[43mmethod\u001B[49m\u001B[43m,\u001B[49m\n\u001B[1;32m    669\u001B[0m \u001B[43m        \u001B[49m\u001B[43murl\u001B[49m\u001B[38;5;241;43m=\u001B[39;49m\u001B[43murl\u001B[49m\u001B[43m,\u001B[49m\n\u001B[1;32m    670\u001B[0m \u001B[43m        \u001B[49m\u001B[43mbody\u001B[49m\u001B[38;5;241;43m=\u001B[39;49m\u001B[43mrequest\u001B[49m\u001B[38;5;241;43m.\u001B[39;49m\u001B[43mbody\u001B[49m\u001B[43m,\u001B[49m\n\u001B[1;32m    671\u001B[0m \u001B[43m        \u001B[49m\u001B[43mheaders\u001B[49m\u001B[38;5;241;43m=\u001B[39;49m\u001B[43mrequest\u001B[49m\u001B[38;5;241;43m.\u001B[39;49m\u001B[43mheaders\u001B[49m\u001B[43m,\u001B[49m\n\u001B[1;32m    672\u001B[0m \u001B[43m        \u001B[49m\u001B[43mredirect\u001B[49m\u001B[38;5;241;43m=\u001B[39;49m\u001B[38;5;28;43;01mFalse\u001B[39;49;00m\u001B[43m,\u001B[49m\n\u001B[1;32m    673\u001B[0m \u001B[43m        \u001B[49m\u001B[43massert_same_host\u001B[49m\u001B[38;5;241;43m=\u001B[39;49m\u001B[38;5;28;43;01mFalse\u001B[39;49;00m\u001B[43m,\u001B[49m\n\u001B[1;32m    674\u001B[0m \u001B[43m        \u001B[49m\u001B[43mpreload_content\u001B[49m\u001B[38;5;241;43m=\u001B[39;49m\u001B[38;5;28;43;01mFalse\u001B[39;49;00m\u001B[43m,\u001B[49m\n\u001B[1;32m    675\u001B[0m \u001B[43m        \u001B[49m\u001B[43mdecode_content\u001B[49m\u001B[38;5;241;43m=\u001B[39;49m\u001B[38;5;28;43;01mFalse\u001B[39;49;00m\u001B[43m,\u001B[49m\n\u001B[1;32m    676\u001B[0m \u001B[43m        \u001B[49m\u001B[43mretries\u001B[49m\u001B[38;5;241;43m=\u001B[39;49m\u001B[38;5;28;43mself\u001B[39;49m\u001B[38;5;241;43m.\u001B[39;49m\u001B[43mmax_retries\u001B[49m\u001B[43m,\u001B[49m\n\u001B[1;32m    677\u001B[0m \u001B[43m        \u001B[49m\u001B[43mtimeout\u001B[49m\u001B[38;5;241;43m=\u001B[39;49m\u001B[43mtimeout\u001B[49m\u001B[43m,\u001B[49m\n\u001B[1;32m    678\u001B[0m \u001B[43m        \u001B[49m\u001B[43mchunked\u001B[49m\u001B[38;5;241;43m=\u001B[39;49m\u001B[43mchunked\u001B[49m\u001B[43m,\u001B[49m\n\u001B[1;32m    679\u001B[0m \u001B[43m    \u001B[49m\u001B[43m)\u001B[49m\n\u001B[1;32m    681\u001B[0m \u001B[38;5;28;01mexcept\u001B[39;00m (ProtocolError, \u001B[38;5;167;01mOSError\u001B[39;00m) \u001B[38;5;28;01mas\u001B[39;00m err:\n",
      "File \u001B[0;32m~/p/vespa-nearest-neighbor-corner-cases/.venv/lib/python3.13/site-packages/urllib3/connectionpool.py:843\u001B[0m, in \u001B[0;36mHTTPConnectionPool.urlopen\u001B[0;34m(self, method, url, body, headers, retries, redirect, assert_same_host, timeout, pool_timeout, release_conn, chunked, body_pos, preload_content, decode_content, **response_kw)\u001B[0m\n\u001B[1;32m    841\u001B[0m     new_e \u001B[38;5;241m=\u001B[39m ProtocolError(\u001B[38;5;124m\"\u001B[39m\u001B[38;5;124mConnection aborted.\u001B[39m\u001B[38;5;124m\"\u001B[39m, new_e)\n\u001B[0;32m--> 843\u001B[0m retries \u001B[38;5;241m=\u001B[39m \u001B[43mretries\u001B[49m\u001B[38;5;241;43m.\u001B[39;49m\u001B[43mincrement\u001B[49m\u001B[43m(\u001B[49m\n\u001B[1;32m    844\u001B[0m \u001B[43m    \u001B[49m\u001B[43mmethod\u001B[49m\u001B[43m,\u001B[49m\u001B[43m \u001B[49m\u001B[43murl\u001B[49m\u001B[43m,\u001B[49m\u001B[43m \u001B[49m\u001B[43merror\u001B[49m\u001B[38;5;241;43m=\u001B[39;49m\u001B[43mnew_e\u001B[49m\u001B[43m,\u001B[49m\u001B[43m \u001B[49m\u001B[43m_pool\u001B[49m\u001B[38;5;241;43m=\u001B[39;49m\u001B[38;5;28;43mself\u001B[39;49m\u001B[43m,\u001B[49m\u001B[43m \u001B[49m\u001B[43m_stacktrace\u001B[49m\u001B[38;5;241;43m=\u001B[39;49m\u001B[43msys\u001B[49m\u001B[38;5;241;43m.\u001B[39;49m\u001B[43mexc_info\u001B[49m\u001B[43m(\u001B[49m\u001B[43m)\u001B[49m\u001B[43m[\u001B[49m\u001B[38;5;241;43m2\u001B[39;49m\u001B[43m]\u001B[49m\n\u001B[1;32m    845\u001B[0m \u001B[43m\u001B[49m\u001B[43m)\u001B[49m\n\u001B[1;32m    846\u001B[0m retries\u001B[38;5;241m.\u001B[39msleep()\n",
      "File \u001B[0;32m~/p/vespa-nearest-neighbor-corner-cases/.venv/lib/python3.13/site-packages/urllib3/util/retry.py:474\u001B[0m, in \u001B[0;36mRetry.increment\u001B[0;34m(self, method, url, response, error, _pool, _stacktrace)\u001B[0m\n\u001B[1;32m    473\u001B[0m \u001B[38;5;28;01mif\u001B[39;00m read \u001B[38;5;129;01mis\u001B[39;00m \u001B[38;5;28;01mFalse\u001B[39;00m \u001B[38;5;129;01mor\u001B[39;00m method \u001B[38;5;129;01mis\u001B[39;00m \u001B[38;5;28;01mNone\u001B[39;00m \u001B[38;5;129;01mor\u001B[39;00m \u001B[38;5;129;01mnot\u001B[39;00m \u001B[38;5;28mself\u001B[39m\u001B[38;5;241m.\u001B[39m_is_method_retryable(method):\n\u001B[0;32m--> 474\u001B[0m     \u001B[38;5;28;01mraise\u001B[39;00m \u001B[43mreraise\u001B[49m\u001B[43m(\u001B[49m\u001B[38;5;28;43mtype\u001B[39;49m\u001B[43m(\u001B[49m\u001B[43merror\u001B[49m\u001B[43m)\u001B[49m\u001B[43m,\u001B[49m\u001B[43m \u001B[49m\u001B[43merror\u001B[49m\u001B[43m,\u001B[49m\u001B[43m \u001B[49m\u001B[43m_stacktrace\u001B[49m\u001B[43m)\u001B[49m\n\u001B[1;32m    475\u001B[0m \u001B[38;5;28;01melif\u001B[39;00m read \u001B[38;5;129;01mis\u001B[39;00m \u001B[38;5;129;01mnot\u001B[39;00m \u001B[38;5;28;01mNone\u001B[39;00m:\n",
      "File \u001B[0;32m~/p/vespa-nearest-neighbor-corner-cases/.venv/lib/python3.13/site-packages/urllib3/util/util.py:38\u001B[0m, in \u001B[0;36mreraise\u001B[0;34m(tp, value, tb)\u001B[0m\n\u001B[1;32m     37\u001B[0m \u001B[38;5;28;01mif\u001B[39;00m value\u001B[38;5;241m.\u001B[39m__traceback__ \u001B[38;5;129;01mis\u001B[39;00m \u001B[38;5;129;01mnot\u001B[39;00m tb:\n\u001B[0;32m---> 38\u001B[0m     \u001B[38;5;28;01mraise\u001B[39;00m value\u001B[38;5;241m.\u001B[39mwith_traceback(tb)\n\u001B[1;32m     39\u001B[0m \u001B[38;5;28;01mraise\u001B[39;00m value\n",
      "File \u001B[0;32m~/p/vespa-nearest-neighbor-corner-cases/.venv/lib/python3.13/site-packages/urllib3/connectionpool.py:789\u001B[0m, in \u001B[0;36mHTTPConnectionPool.urlopen\u001B[0;34m(self, method, url, body, headers, retries, redirect, assert_same_host, timeout, pool_timeout, release_conn, chunked, body_pos, preload_content, decode_content, **response_kw)\u001B[0m\n\u001B[1;32m    788\u001B[0m \u001B[38;5;66;03m# Make the request on the HTTPConnection object\u001B[39;00m\n\u001B[0;32m--> 789\u001B[0m response \u001B[38;5;241m=\u001B[39m \u001B[38;5;28;43mself\u001B[39;49m\u001B[38;5;241;43m.\u001B[39;49m\u001B[43m_make_request\u001B[49m\u001B[43m(\u001B[49m\n\u001B[1;32m    790\u001B[0m \u001B[43m    \u001B[49m\u001B[43mconn\u001B[49m\u001B[43m,\u001B[49m\n\u001B[1;32m    791\u001B[0m \u001B[43m    \u001B[49m\u001B[43mmethod\u001B[49m\u001B[43m,\u001B[49m\n\u001B[1;32m    792\u001B[0m \u001B[43m    \u001B[49m\u001B[43murl\u001B[49m\u001B[43m,\u001B[49m\n\u001B[1;32m    793\u001B[0m \u001B[43m    \u001B[49m\u001B[43mtimeout\u001B[49m\u001B[38;5;241;43m=\u001B[39;49m\u001B[43mtimeout_obj\u001B[49m\u001B[43m,\u001B[49m\n\u001B[1;32m    794\u001B[0m \u001B[43m    \u001B[49m\u001B[43mbody\u001B[49m\u001B[38;5;241;43m=\u001B[39;49m\u001B[43mbody\u001B[49m\u001B[43m,\u001B[49m\n\u001B[1;32m    795\u001B[0m \u001B[43m    \u001B[49m\u001B[43mheaders\u001B[49m\u001B[38;5;241;43m=\u001B[39;49m\u001B[43mheaders\u001B[49m\u001B[43m,\u001B[49m\n\u001B[1;32m    796\u001B[0m \u001B[43m    \u001B[49m\u001B[43mchunked\u001B[49m\u001B[38;5;241;43m=\u001B[39;49m\u001B[43mchunked\u001B[49m\u001B[43m,\u001B[49m\n\u001B[1;32m    797\u001B[0m \u001B[43m    \u001B[49m\u001B[43mretries\u001B[49m\u001B[38;5;241;43m=\u001B[39;49m\u001B[43mretries\u001B[49m\u001B[43m,\u001B[49m\n\u001B[1;32m    798\u001B[0m \u001B[43m    \u001B[49m\u001B[43mresponse_conn\u001B[49m\u001B[38;5;241;43m=\u001B[39;49m\u001B[43mresponse_conn\u001B[49m\u001B[43m,\u001B[49m\n\u001B[1;32m    799\u001B[0m \u001B[43m    \u001B[49m\u001B[43mpreload_content\u001B[49m\u001B[38;5;241;43m=\u001B[39;49m\u001B[43mpreload_content\u001B[49m\u001B[43m,\u001B[49m\n\u001B[1;32m    800\u001B[0m \u001B[43m    \u001B[49m\u001B[43mdecode_content\u001B[49m\u001B[38;5;241;43m=\u001B[39;49m\u001B[43mdecode_content\u001B[49m\u001B[43m,\u001B[49m\n\u001B[1;32m    801\u001B[0m \u001B[43m    \u001B[49m\u001B[38;5;241;43m*\u001B[39;49m\u001B[38;5;241;43m*\u001B[39;49m\u001B[43mresponse_kw\u001B[49m\u001B[43m,\u001B[49m\n\u001B[1;32m    802\u001B[0m \u001B[43m\u001B[49m\u001B[43m)\u001B[49m\n\u001B[1;32m    804\u001B[0m \u001B[38;5;66;03m# Everything went great!\u001B[39;00m\n",
      "File \u001B[0;32m~/p/vespa-nearest-neighbor-corner-cases/.venv/lib/python3.13/site-packages/urllib3/connectionpool.py:495\u001B[0m, in \u001B[0;36mHTTPConnectionPool._make_request\u001B[0;34m(self, conn, method, url, body, headers, retries, timeout, chunked, response_conn, preload_content, decode_content, enforce_content_length)\u001B[0m\n\u001B[1;32m    494\u001B[0m \u001B[38;5;28;01mtry\u001B[39;00m:\n\u001B[0;32m--> 495\u001B[0m     \u001B[43mconn\u001B[49m\u001B[38;5;241;43m.\u001B[39;49m\u001B[43mrequest\u001B[49m\u001B[43m(\u001B[49m\n\u001B[1;32m    496\u001B[0m \u001B[43m        \u001B[49m\u001B[43mmethod\u001B[49m\u001B[43m,\u001B[49m\n\u001B[1;32m    497\u001B[0m \u001B[43m        \u001B[49m\u001B[43murl\u001B[49m\u001B[43m,\u001B[49m\n\u001B[1;32m    498\u001B[0m \u001B[43m        \u001B[49m\u001B[43mbody\u001B[49m\u001B[38;5;241;43m=\u001B[39;49m\u001B[43mbody\u001B[49m\u001B[43m,\u001B[49m\n\u001B[1;32m    499\u001B[0m \u001B[43m        \u001B[49m\u001B[43mheaders\u001B[49m\u001B[38;5;241;43m=\u001B[39;49m\u001B[43mheaders\u001B[49m\u001B[43m,\u001B[49m\n\u001B[1;32m    500\u001B[0m \u001B[43m        \u001B[49m\u001B[43mchunked\u001B[49m\u001B[38;5;241;43m=\u001B[39;49m\u001B[43mchunked\u001B[49m\u001B[43m,\u001B[49m\n\u001B[1;32m    501\u001B[0m \u001B[43m        \u001B[49m\u001B[43mpreload_content\u001B[49m\u001B[38;5;241;43m=\u001B[39;49m\u001B[43mpreload_content\u001B[49m\u001B[43m,\u001B[49m\n\u001B[1;32m    502\u001B[0m \u001B[43m        \u001B[49m\u001B[43mdecode_content\u001B[49m\u001B[38;5;241;43m=\u001B[39;49m\u001B[43mdecode_content\u001B[49m\u001B[43m,\u001B[49m\n\u001B[1;32m    503\u001B[0m \u001B[43m        \u001B[49m\u001B[43menforce_content_length\u001B[49m\u001B[38;5;241;43m=\u001B[39;49m\u001B[43menforce_content_length\u001B[49m\u001B[43m,\u001B[49m\n\u001B[1;32m    504\u001B[0m \u001B[43m    \u001B[49m\u001B[43m)\u001B[49m\n\u001B[1;32m    506\u001B[0m \u001B[38;5;66;03m# We are swallowing BrokenPipeError (errno.EPIPE) since the server is\u001B[39;00m\n\u001B[1;32m    507\u001B[0m \u001B[38;5;66;03m# legitimately able to close the connection after sending a valid response.\u001B[39;00m\n\u001B[1;32m    508\u001B[0m \u001B[38;5;66;03m# With this behaviour, the received response is still readable.\u001B[39;00m\n",
      "File \u001B[0;32m~/p/vespa-nearest-neighbor-corner-cases/.venv/lib/python3.13/site-packages/urllib3/connection.py:441\u001B[0m, in \u001B[0;36mHTTPConnection.request\u001B[0;34m(self, method, url, body, headers, chunked, preload_content, decode_content, enforce_content_length)\u001B[0m\n\u001B[1;32m    440\u001B[0m     \u001B[38;5;28mself\u001B[39m\u001B[38;5;241m.\u001B[39mputheader(header, value)\n\u001B[0;32m--> 441\u001B[0m \u001B[38;5;28;43mself\u001B[39;49m\u001B[38;5;241;43m.\u001B[39;49m\u001B[43mendheaders\u001B[49m\u001B[43m(\u001B[49m\u001B[43m)\u001B[49m\n\u001B[1;32m    443\u001B[0m \u001B[38;5;66;03m# If we're given a body we start sending that in chunks.\u001B[39;00m\n",
      "File \u001B[0;32m/opt/homebrew/Cellar/python@3.13/3.13.1/Frameworks/Python.framework/Versions/3.13/lib/python3.13/http/client.py:1331\u001B[0m, in \u001B[0;36mHTTPConnection.endheaders\u001B[0;34m(self, message_body, encode_chunked)\u001B[0m\n\u001B[1;32m   1330\u001B[0m     \u001B[38;5;28;01mraise\u001B[39;00m CannotSendHeader()\n\u001B[0;32m-> 1331\u001B[0m \u001B[38;5;28;43mself\u001B[39;49m\u001B[38;5;241;43m.\u001B[39;49m\u001B[43m_send_output\u001B[49m\u001B[43m(\u001B[49m\u001B[43mmessage_body\u001B[49m\u001B[43m,\u001B[49m\u001B[43m \u001B[49m\u001B[43mencode_chunked\u001B[49m\u001B[38;5;241;43m=\u001B[39;49m\u001B[43mencode_chunked\u001B[49m\u001B[43m)\u001B[49m\n",
      "File \u001B[0;32m/opt/homebrew/Cellar/python@3.13/3.13.1/Frameworks/Python.framework/Versions/3.13/lib/python3.13/http/client.py:1091\u001B[0m, in \u001B[0;36mHTTPConnection._send_output\u001B[0;34m(self, message_body, encode_chunked)\u001B[0m\n\u001B[1;32m   1090\u001B[0m \u001B[38;5;28;01mdel\u001B[39;00m \u001B[38;5;28mself\u001B[39m\u001B[38;5;241m.\u001B[39m_buffer[:]\n\u001B[0;32m-> 1091\u001B[0m \u001B[38;5;28;43mself\u001B[39;49m\u001B[38;5;241;43m.\u001B[39;49m\u001B[43msend\u001B[49m\u001B[43m(\u001B[49m\u001B[43mmsg\u001B[49m\u001B[43m)\u001B[49m\n\u001B[1;32m   1093\u001B[0m \u001B[38;5;28;01mif\u001B[39;00m message_body \u001B[38;5;129;01mis\u001B[39;00m \u001B[38;5;129;01mnot\u001B[39;00m \u001B[38;5;28;01mNone\u001B[39;00m:\n\u001B[1;32m   1094\u001B[0m \n\u001B[1;32m   1095\u001B[0m     \u001B[38;5;66;03m# create a consistent interface to message_body\u001B[39;00m\n",
      "File \u001B[0;32m/opt/homebrew/Cellar/python@3.13/3.13.1/Frameworks/Python.framework/Versions/3.13/lib/python3.13/http/client.py:1035\u001B[0m, in \u001B[0;36mHTTPConnection.send\u001B[0;34m(self, data)\u001B[0m\n\u001B[1;32m   1034\u001B[0m \u001B[38;5;28;01mif\u001B[39;00m \u001B[38;5;28mself\u001B[39m\u001B[38;5;241m.\u001B[39mauto_open:\n\u001B[0;32m-> 1035\u001B[0m     \u001B[38;5;28;43mself\u001B[39;49m\u001B[38;5;241;43m.\u001B[39;49m\u001B[43mconnect\u001B[49m\u001B[43m(\u001B[49m\u001B[43m)\u001B[49m\n\u001B[1;32m   1036\u001B[0m \u001B[38;5;28;01melse\u001B[39;00m:\n",
      "File \u001B[0;32m~/p/vespa-nearest-neighbor-corner-cases/.venv/lib/python3.13/site-packages/docker/transport/unixconn.py:26\u001B[0m, in \u001B[0;36mUnixHTTPConnection.connect\u001B[0;34m(self)\u001B[0m\n\u001B[1;32m     25\u001B[0m sock\u001B[38;5;241m.\u001B[39msettimeout(\u001B[38;5;28mself\u001B[39m\u001B[38;5;241m.\u001B[39mtimeout)\n\u001B[0;32m---> 26\u001B[0m \u001B[43msock\u001B[49m\u001B[38;5;241;43m.\u001B[39;49m\u001B[43mconnect\u001B[49m\u001B[43m(\u001B[49m\u001B[38;5;28;43mself\u001B[39;49m\u001B[38;5;241;43m.\u001B[39;49m\u001B[43munix_socket\u001B[49m\u001B[43m)\u001B[49m\n\u001B[1;32m     27\u001B[0m \u001B[38;5;28mself\u001B[39m\u001B[38;5;241m.\u001B[39msock \u001B[38;5;241m=\u001B[39m sock\n",
      "\u001B[0;31mProtocolError\u001B[0m: ('Connection aborted.', FileNotFoundError(2, 'No such file or directory'))",
      "\nDuring handling of the above exception, another exception occurred:\n",
      "\u001B[0;31mConnectionError\u001B[0m                           Traceback (most recent call last)",
      "File \u001B[0;32m~/p/vespa-nearest-neighbor-corner-cases/.venv/lib/python3.13/site-packages/docker/api/client.py:223\u001B[0m, in \u001B[0;36mAPIClient._retrieve_server_version\u001B[0;34m(self)\u001B[0m\n\u001B[1;32m    222\u001B[0m \u001B[38;5;28;01mtry\u001B[39;00m:\n\u001B[0;32m--> 223\u001B[0m     \u001B[38;5;28;01mreturn\u001B[39;00m \u001B[38;5;28;43mself\u001B[39;49m\u001B[38;5;241;43m.\u001B[39;49m\u001B[43mversion\u001B[49m\u001B[43m(\u001B[49m\u001B[43mapi_version\u001B[49m\u001B[38;5;241;43m=\u001B[39;49m\u001B[38;5;28;43;01mFalse\u001B[39;49;00m\u001B[43m)\u001B[49m[\u001B[38;5;124m\"\u001B[39m\u001B[38;5;124mApiVersion\u001B[39m\u001B[38;5;124m\"\u001B[39m]\n\u001B[1;32m    224\u001B[0m \u001B[38;5;28;01mexcept\u001B[39;00m \u001B[38;5;167;01mKeyError\u001B[39;00m \u001B[38;5;28;01mas\u001B[39;00m ke:\n",
      "File \u001B[0;32m~/p/vespa-nearest-neighbor-corner-cases/.venv/lib/python3.13/site-packages/docker/api/daemon.py:181\u001B[0m, in \u001B[0;36mDaemonApiMixin.version\u001B[0;34m(self, api_version)\u001B[0m\n\u001B[1;32m    180\u001B[0m url \u001B[38;5;241m=\u001B[39m \u001B[38;5;28mself\u001B[39m\u001B[38;5;241m.\u001B[39m_url(\u001B[38;5;124m\"\u001B[39m\u001B[38;5;124m/version\u001B[39m\u001B[38;5;124m\"\u001B[39m, versioned_api\u001B[38;5;241m=\u001B[39mapi_version)\n\u001B[0;32m--> 181\u001B[0m \u001B[38;5;28;01mreturn\u001B[39;00m \u001B[38;5;28mself\u001B[39m\u001B[38;5;241m.\u001B[39m_result(\u001B[38;5;28;43mself\u001B[39;49m\u001B[38;5;241;43m.\u001B[39;49m\u001B[43m_get\u001B[49m\u001B[43m(\u001B[49m\u001B[43murl\u001B[49m\u001B[43m)\u001B[49m, json\u001B[38;5;241m=\u001B[39m\u001B[38;5;28;01mTrue\u001B[39;00m)\n",
      "File \u001B[0;32m~/p/vespa-nearest-neighbor-corner-cases/.venv/lib/python3.13/site-packages/docker/utils/decorators.py:44\u001B[0m, in \u001B[0;36mupdate_headers.<locals>.inner\u001B[0;34m(self, *args, **kwargs)\u001B[0m\n\u001B[1;32m     43\u001B[0m         kwargs[\u001B[38;5;124m'\u001B[39m\u001B[38;5;124mheaders\u001B[39m\u001B[38;5;124m'\u001B[39m]\u001B[38;5;241m.\u001B[39mupdate(\u001B[38;5;28mself\u001B[39m\u001B[38;5;241m.\u001B[39m_general_configs[\u001B[38;5;124m'\u001B[39m\u001B[38;5;124mHttpHeaders\u001B[39m\u001B[38;5;124m'\u001B[39m])\n\u001B[0;32m---> 44\u001B[0m \u001B[38;5;28;01mreturn\u001B[39;00m \u001B[43mf\u001B[49m\u001B[43m(\u001B[49m\u001B[38;5;28;43mself\u001B[39;49m\u001B[43m,\u001B[49m\u001B[43m \u001B[49m\u001B[38;5;241;43m*\u001B[39;49m\u001B[43margs\u001B[49m\u001B[43m,\u001B[49m\u001B[43m \u001B[49m\u001B[38;5;241;43m*\u001B[39;49m\u001B[38;5;241;43m*\u001B[39;49m\u001B[43mkwargs\u001B[49m\u001B[43m)\u001B[49m\n",
      "File \u001B[0;32m~/p/vespa-nearest-neighbor-corner-cases/.venv/lib/python3.13/site-packages/docker/api/client.py:246\u001B[0m, in \u001B[0;36mAPIClient._get\u001B[0;34m(self, url, **kwargs)\u001B[0m\n\u001B[1;32m    244\u001B[0m \u001B[38;5;129m@update_headers\u001B[39m\n\u001B[1;32m    245\u001B[0m \u001B[38;5;28;01mdef\u001B[39;00m \u001B[38;5;21m_get\u001B[39m(\u001B[38;5;28mself\u001B[39m, url, \u001B[38;5;241m*\u001B[39m\u001B[38;5;241m*\u001B[39mkwargs):\n\u001B[0;32m--> 246\u001B[0m     \u001B[38;5;28;01mreturn\u001B[39;00m \u001B[38;5;28;43mself\u001B[39;49m\u001B[38;5;241;43m.\u001B[39;49m\u001B[43mget\u001B[49m\u001B[43m(\u001B[49m\u001B[43murl\u001B[49m\u001B[43m,\u001B[49m\u001B[43m \u001B[49m\u001B[38;5;241;43m*\u001B[39;49m\u001B[38;5;241;43m*\u001B[39;49m\u001B[38;5;28;43mself\u001B[39;49m\u001B[38;5;241;43m.\u001B[39;49m\u001B[43m_set_request_timeout\u001B[49m\u001B[43m(\u001B[49m\u001B[43mkwargs\u001B[49m\u001B[43m)\u001B[49m\u001B[43m)\u001B[49m\n",
      "File \u001B[0;32m~/p/vespa-nearest-neighbor-corner-cases/.venv/lib/python3.13/site-packages/requests/sessions.py:602\u001B[0m, in \u001B[0;36mSession.get\u001B[0;34m(self, url, **kwargs)\u001B[0m\n\u001B[1;32m    601\u001B[0m kwargs\u001B[38;5;241m.\u001B[39msetdefault(\u001B[38;5;124m\"\u001B[39m\u001B[38;5;124mallow_redirects\u001B[39m\u001B[38;5;124m\"\u001B[39m, \u001B[38;5;28;01mTrue\u001B[39;00m)\n\u001B[0;32m--> 602\u001B[0m \u001B[38;5;28;01mreturn\u001B[39;00m \u001B[38;5;28;43mself\u001B[39;49m\u001B[38;5;241;43m.\u001B[39;49m\u001B[43mrequest\u001B[49m\u001B[43m(\u001B[49m\u001B[38;5;124;43m\"\u001B[39;49m\u001B[38;5;124;43mGET\u001B[39;49m\u001B[38;5;124;43m\"\u001B[39;49m\u001B[43m,\u001B[49m\u001B[43m \u001B[49m\u001B[43murl\u001B[49m\u001B[43m,\u001B[49m\u001B[43m \u001B[49m\u001B[38;5;241;43m*\u001B[39;49m\u001B[38;5;241;43m*\u001B[39;49m\u001B[43mkwargs\u001B[49m\u001B[43m)\u001B[49m\n",
      "File \u001B[0;32m~/p/vespa-nearest-neighbor-corner-cases/.venv/lib/python3.13/site-packages/requests/sessions.py:589\u001B[0m, in \u001B[0;36mSession.request\u001B[0;34m(self, method, url, params, data, headers, cookies, files, auth, timeout, allow_redirects, proxies, hooks, stream, verify, cert, json)\u001B[0m\n\u001B[1;32m    588\u001B[0m send_kwargs\u001B[38;5;241m.\u001B[39mupdate(settings)\n\u001B[0;32m--> 589\u001B[0m resp \u001B[38;5;241m=\u001B[39m \u001B[38;5;28;43mself\u001B[39;49m\u001B[38;5;241;43m.\u001B[39;49m\u001B[43msend\u001B[49m\u001B[43m(\u001B[49m\u001B[43mprep\u001B[49m\u001B[43m,\u001B[49m\u001B[43m \u001B[49m\u001B[38;5;241;43m*\u001B[39;49m\u001B[38;5;241;43m*\u001B[39;49m\u001B[43msend_kwargs\u001B[49m\u001B[43m)\u001B[49m\n\u001B[1;32m    591\u001B[0m \u001B[38;5;28;01mreturn\u001B[39;00m resp\n",
      "File \u001B[0;32m~/p/vespa-nearest-neighbor-corner-cases/.venv/lib/python3.13/site-packages/requests/sessions.py:703\u001B[0m, in \u001B[0;36mSession.send\u001B[0;34m(self, request, **kwargs)\u001B[0m\n\u001B[1;32m    702\u001B[0m \u001B[38;5;66;03m# Send the request\u001B[39;00m\n\u001B[0;32m--> 703\u001B[0m r \u001B[38;5;241m=\u001B[39m \u001B[43madapter\u001B[49m\u001B[38;5;241;43m.\u001B[39;49m\u001B[43msend\u001B[49m\u001B[43m(\u001B[49m\u001B[43mrequest\u001B[49m\u001B[43m,\u001B[49m\u001B[43m \u001B[49m\u001B[38;5;241;43m*\u001B[39;49m\u001B[38;5;241;43m*\u001B[39;49m\u001B[43mkwargs\u001B[49m\u001B[43m)\u001B[49m\n\u001B[1;32m    705\u001B[0m \u001B[38;5;66;03m# Total elapsed time of the request (approximately)\u001B[39;00m\n",
      "File \u001B[0;32m~/p/vespa-nearest-neighbor-corner-cases/.venv/lib/python3.13/site-packages/requests/adapters.py:682\u001B[0m, in \u001B[0;36mHTTPAdapter.send\u001B[0;34m(self, request, stream, timeout, verify, cert, proxies)\u001B[0m\n\u001B[1;32m    681\u001B[0m \u001B[38;5;28;01mexcept\u001B[39;00m (ProtocolError, \u001B[38;5;167;01mOSError\u001B[39;00m) \u001B[38;5;28;01mas\u001B[39;00m err:\n\u001B[0;32m--> 682\u001B[0m     \u001B[38;5;28;01mraise\u001B[39;00m \u001B[38;5;167;01mConnectionError\u001B[39;00m(err, request\u001B[38;5;241m=\u001B[39mrequest)\n\u001B[1;32m    684\u001B[0m \u001B[38;5;28;01mexcept\u001B[39;00m MaxRetryError \u001B[38;5;28;01mas\u001B[39;00m e:\n",
      "\u001B[0;31mConnectionError\u001B[0m: ('Connection aborted.', FileNotFoundError(2, 'No such file or directory'))",
      "\nThe above exception was the direct cause of the following exception:\n",
      "\u001B[0;31mDockerException\u001B[0m                           Traceback (most recent call last)",
      "Cell \u001B[0;32mIn[12], line 1\u001B[0m\n\u001B[0;32m----> 1\u001B[0m app \u001B[38;5;241m=\u001B[39m \u001B[43mvespa_docker\u001B[49m\u001B[38;5;241;43m.\u001B[39;49m\u001B[43mdeploy\u001B[49m\u001B[43m(\u001B[49m\u001B[43mapplication_package\u001B[49m\u001B[38;5;241;43m=\u001B[39;49m\u001B[43mvap\u001B[49m\u001B[43m)\u001B[49m\n",
      "File \u001B[0;32m~/p/vespa-nearest-neighbor-corner-cases/.venv/lib/python3.13/site-packages/vespa/deployment.py:203\u001B[0m, in \u001B[0;36mVespaDocker.deploy\u001B[0;34m(self, application_package, max_wait_configserver, max_wait_deployment, max_wait_docker, debug)\u001B[0m\n\u001B[1;32m    185\u001B[0m \u001B[38;5;28;01mdef\u001B[39;00m \u001B[38;5;21mdeploy\u001B[39m(\n\u001B[1;32m    186\u001B[0m     \u001B[38;5;28mself\u001B[39m,\n\u001B[1;32m    187\u001B[0m     application_package: ApplicationPackage,\n\u001B[0;32m   (...)\u001B[0m\n\u001B[1;32m    191\u001B[0m     debug: \u001B[38;5;28mbool\u001B[39m \u001B[38;5;241m=\u001B[39m \u001B[38;5;28;01mFalse\u001B[39;00m,\n\u001B[1;32m    192\u001B[0m ) \u001B[38;5;241m-\u001B[39m\u001B[38;5;241m>\u001B[39m Vespa:\n\u001B[1;32m    193\u001B[0m \u001B[38;5;250m    \u001B[39m\u001B[38;5;124;03m\"\"\"\u001B[39;00m\n\u001B[1;32m    194\u001B[0m \u001B[38;5;124;03m    Deploy the application package into a Vespa container.\u001B[39;00m\n\u001B[1;32m    195\u001B[0m \n\u001B[0;32m   (...)\u001B[0m\n\u001B[1;32m    201\u001B[0m \u001B[38;5;124;03m    :return: a Vespa connection instance.\u001B[39;00m\n\u001B[1;32m    202\u001B[0m \u001B[38;5;124;03m    \"\"\"\u001B[39;00m\n\u001B[0;32m--> 203\u001B[0m     \u001B[38;5;28;01mreturn\u001B[39;00m \u001B[38;5;28;43mself\u001B[39;49m\u001B[38;5;241;43m.\u001B[39;49m\u001B[43m_deploy_data\u001B[49m\u001B[43m(\u001B[49m\n\u001B[1;32m    204\u001B[0m \u001B[43m        \u001B[49m\u001B[43mapplication_package\u001B[49m\u001B[43m,\u001B[49m\n\u001B[1;32m    205\u001B[0m \u001B[43m        \u001B[49m\u001B[43mapplication_package\u001B[49m\u001B[38;5;241;43m.\u001B[39;49m\u001B[43mto_zip\u001B[49m\u001B[43m(\u001B[49m\u001B[43m)\u001B[49m\u001B[43m,\u001B[49m\n\u001B[1;32m    206\u001B[0m \u001B[43m        \u001B[49m\u001B[43mmax_wait_configserver\u001B[49m\u001B[38;5;241;43m=\u001B[39;49m\u001B[43mmax_wait_configserver\u001B[49m\u001B[43m,\u001B[49m\n\u001B[1;32m    207\u001B[0m \u001B[43m        \u001B[49m\u001B[43mmax_wait_application\u001B[49m\u001B[38;5;241;43m=\u001B[39;49m\u001B[43mmax_wait_deployment\u001B[49m\u001B[43m,\u001B[49m\n\u001B[1;32m    208\u001B[0m \u001B[43m        \u001B[49m\u001B[43mdocker_timeout\u001B[49m\u001B[38;5;241;43m=\u001B[39;49m\u001B[43mmax_wait_docker\u001B[49m\u001B[43m,\u001B[49m\n\u001B[1;32m    209\u001B[0m \u001B[43m        \u001B[49m\u001B[43mdebug\u001B[49m\u001B[38;5;241;43m=\u001B[39;49m\u001B[43mdebug\u001B[49m\u001B[43m,\u001B[49m\n\u001B[1;32m    210\u001B[0m \u001B[43m    \u001B[49m\u001B[43m)\u001B[49m\n",
      "File \u001B[0;32m~/p/vespa-nearest-neighbor-corner-cases/.venv/lib/python3.13/site-packages/vespa/deployment.py:354\u001B[0m, in \u001B[0;36mVespaDocker._deploy_data\u001B[0;34m(self, application, data, debug, max_wait_configserver, max_wait_application, docker_timeout)\u001B[0m\n\u001B[1;32m    335\u001B[0m \u001B[38;5;28;01mdef\u001B[39;00m \u001B[38;5;21m_deploy_data\u001B[39m(\n\u001B[1;32m    336\u001B[0m     \u001B[38;5;28mself\u001B[39m,\n\u001B[1;32m    337\u001B[0m     application: ApplicationPackage,\n\u001B[0;32m   (...)\u001B[0m\n\u001B[1;32m    342\u001B[0m     docker_timeout: \u001B[38;5;28mint\u001B[39m,\n\u001B[1;32m    343\u001B[0m ) \u001B[38;5;241m-\u001B[39m\u001B[38;5;241m>\u001B[39m Vespa:\n\u001B[1;32m    344\u001B[0m \u001B[38;5;250m    \u001B[39m\u001B[38;5;124;03m\"\"\"\u001B[39;00m\n\u001B[1;32m    345\u001B[0m \u001B[38;5;124;03m    Deploys an Application Package as zipped data\u001B[39;00m\n\u001B[1;32m    346\u001B[0m \n\u001B[0;32m   (...)\u001B[0m\n\u001B[1;32m    352\u001B[0m \u001B[38;5;124;03m    :return: A Vespa connection instance\u001B[39;00m\n\u001B[1;32m    353\u001B[0m \u001B[38;5;124;03m    \"\"\"\u001B[39;00m\n\u001B[0;32m--> 354\u001B[0m     \u001B[38;5;28;43mself\u001B[39;49m\u001B[38;5;241;43m.\u001B[39;49m\u001B[43m_run_vespa_engine_container\u001B[49m\u001B[43m(\u001B[49m\n\u001B[1;32m    355\u001B[0m \u001B[43m        \u001B[49m\u001B[43mapplication_name\u001B[49m\u001B[38;5;241;43m=\u001B[39;49m\u001B[43mapplication\u001B[49m\u001B[38;5;241;43m.\u001B[39;49m\u001B[43mname\u001B[49m\u001B[43m,\u001B[49m\n\u001B[1;32m    356\u001B[0m \u001B[43m        \u001B[49m\u001B[43mcontainer_memory\u001B[49m\u001B[38;5;241;43m=\u001B[39;49m\u001B[38;5;28;43mself\u001B[39;49m\u001B[38;5;241;43m.\u001B[39;49m\u001B[43mcontainer_memory\u001B[49m\u001B[43m,\u001B[49m\n\u001B[1;32m    357\u001B[0m \u001B[43m        \u001B[49m\u001B[43mvolumes\u001B[49m\u001B[38;5;241;43m=\u001B[39;49m\u001B[38;5;28;43mself\u001B[39;49m\u001B[38;5;241;43m.\u001B[39;49m\u001B[43mvolumes\u001B[49m\u001B[43m,\u001B[49m\n\u001B[1;32m    358\u001B[0m \u001B[43m        \u001B[49m\u001B[43mdebug\u001B[49m\u001B[38;5;241;43m=\u001B[39;49m\u001B[43mdebug\u001B[49m\u001B[43m,\u001B[49m\n\u001B[1;32m    359\u001B[0m \u001B[43m        \u001B[49m\u001B[43mdocker_timeout\u001B[49m\u001B[38;5;241;43m=\u001B[39;49m\u001B[43mdocker_timeout\u001B[49m\u001B[43m,\u001B[49m\n\u001B[1;32m    360\u001B[0m \u001B[43m    \u001B[49m\u001B[43m)\u001B[49m\n\u001B[1;32m    361\u001B[0m     \u001B[38;5;28mself\u001B[39m\u001B[38;5;241m.\u001B[39mwait_for_config_server_start(max_wait\u001B[38;5;241m=\u001B[39mmax_wait_configserver)\n\u001B[1;32m    363\u001B[0m     r \u001B[38;5;241m=\u001B[39m requests\u001B[38;5;241m.\u001B[39mpost(\n\u001B[1;32m    364\u001B[0m         \u001B[38;5;124m\"\u001B[39m\u001B[38;5;124mhttp://localhost:\u001B[39m\u001B[38;5;132;01m{}\u001B[39;00m\u001B[38;5;124m/application/v2/tenant/default/prepareandactivate\u001B[39m\u001B[38;5;124m\"\u001B[39m\u001B[38;5;241m.\u001B[39mformat(\n\u001B[1;32m    365\u001B[0m             \u001B[38;5;28mself\u001B[39m\u001B[38;5;241m.\u001B[39mcfgsrv_port\n\u001B[0;32m   (...)\u001B[0m\n\u001B[1;32m    369\u001B[0m         verify\u001B[38;5;241m=\u001B[39m\u001B[38;5;28;01mFalse\u001B[39;00m,\n\u001B[1;32m    370\u001B[0m     )\n",
      "File \u001B[0;32m~/p/vespa-nearest-neighbor-corner-cases/.venv/lib/python3.13/site-packages/vespa/deployment.py:393\u001B[0m, in \u001B[0;36mVespaDocker._run_vespa_engine_container\u001B[0;34m(self, application_name, container_memory, volumes, debug, docker_timeout)\u001B[0m\n\u001B[1;32m    385\u001B[0m \u001B[38;5;28;01mdef\u001B[39;00m \u001B[38;5;21m_run_vespa_engine_container\u001B[39m(\n\u001B[1;32m    386\u001B[0m     \u001B[38;5;28mself\u001B[39m,\n\u001B[1;32m    387\u001B[0m     application_name: \u001B[38;5;28mstr\u001B[39m,\n\u001B[0;32m   (...)\u001B[0m\n\u001B[1;32m    391\u001B[0m     docker_timeout: \u001B[38;5;28mint\u001B[39m,\n\u001B[1;32m    392\u001B[0m ) \u001B[38;5;241m-\u001B[39m\u001B[38;5;241m>\u001B[39m \u001B[38;5;28;01mNone\u001B[39;00m:\n\u001B[0;32m--> 393\u001B[0m     client \u001B[38;5;241m=\u001B[39m \u001B[43mdocker\u001B[49m\u001B[38;5;241;43m.\u001B[39;49m\u001B[43mfrom_env\u001B[49m\u001B[43m(\u001B[49m\u001B[43mtimeout\u001B[49m\u001B[38;5;241;43m=\u001B[39;49m\u001B[43mdocker_timeout\u001B[49m\u001B[43m)\u001B[49m\n\u001B[1;32m    394\u001B[0m     \u001B[38;5;28;01mif\u001B[39;00m \u001B[38;5;28mself\u001B[39m\u001B[38;5;241m.\u001B[39mcontainer \u001B[38;5;129;01mis\u001B[39;00m \u001B[38;5;28;01mNone\u001B[39;00m:\n\u001B[1;32m    395\u001B[0m         \u001B[38;5;28;01mtry\u001B[39;00m:\n",
      "File \u001B[0;32m~/p/vespa-nearest-neighbor-corner-cases/.venv/lib/python3.13/site-packages/docker/client.py:94\u001B[0m, in \u001B[0;36mDockerClient.from_env\u001B[0;34m(cls, **kwargs)\u001B[0m\n\u001B[1;32m     92\u001B[0m version \u001B[38;5;241m=\u001B[39m kwargs\u001B[38;5;241m.\u001B[39mpop(\u001B[38;5;124m'\u001B[39m\u001B[38;5;124mversion\u001B[39m\u001B[38;5;124m'\u001B[39m, \u001B[38;5;28;01mNone\u001B[39;00m)\n\u001B[1;32m     93\u001B[0m use_ssh_client \u001B[38;5;241m=\u001B[39m kwargs\u001B[38;5;241m.\u001B[39mpop(\u001B[38;5;124m'\u001B[39m\u001B[38;5;124muse_ssh_client\u001B[39m\u001B[38;5;124m'\u001B[39m, \u001B[38;5;28;01mFalse\u001B[39;00m)\n\u001B[0;32m---> 94\u001B[0m \u001B[38;5;28;01mreturn\u001B[39;00m \u001B[38;5;28;43mcls\u001B[39;49m\u001B[43m(\u001B[49m\n\u001B[1;32m     95\u001B[0m \u001B[43m    \u001B[49m\u001B[43mtimeout\u001B[49m\u001B[38;5;241;43m=\u001B[39;49m\u001B[43mtimeout\u001B[49m\u001B[43m,\u001B[49m\n\u001B[1;32m     96\u001B[0m \u001B[43m    \u001B[49m\u001B[43mmax_pool_size\u001B[49m\u001B[38;5;241;43m=\u001B[39;49m\u001B[43mmax_pool_size\u001B[49m\u001B[43m,\u001B[49m\n\u001B[1;32m     97\u001B[0m \u001B[43m    \u001B[49m\u001B[43mversion\u001B[49m\u001B[38;5;241;43m=\u001B[39;49m\u001B[43mversion\u001B[49m\u001B[43m,\u001B[49m\n\u001B[1;32m     98\u001B[0m \u001B[43m    \u001B[49m\u001B[43muse_ssh_client\u001B[49m\u001B[38;5;241;43m=\u001B[39;49m\u001B[43muse_ssh_client\u001B[49m\u001B[43m,\u001B[49m\n\u001B[1;32m     99\u001B[0m \u001B[43m    \u001B[49m\u001B[38;5;241;43m*\u001B[39;49m\u001B[38;5;241;43m*\u001B[39;49m\u001B[43mkwargs_from_env\u001B[49m\u001B[43m(\u001B[49m\u001B[38;5;241;43m*\u001B[39;49m\u001B[38;5;241;43m*\u001B[39;49m\u001B[43mkwargs\u001B[49m\u001B[43m)\u001B[49m\n\u001B[1;32m    100\u001B[0m \u001B[43m\u001B[49m\u001B[43m)\u001B[49m\n",
      "File \u001B[0;32m~/p/vespa-nearest-neighbor-corner-cases/.venv/lib/python3.13/site-packages/docker/client.py:45\u001B[0m, in \u001B[0;36mDockerClient.__init__\u001B[0;34m(self, *args, **kwargs)\u001B[0m\n\u001B[1;32m     44\u001B[0m \u001B[38;5;28;01mdef\u001B[39;00m \u001B[38;5;21m__init__\u001B[39m(\u001B[38;5;28mself\u001B[39m, \u001B[38;5;241m*\u001B[39margs, \u001B[38;5;241m*\u001B[39m\u001B[38;5;241m*\u001B[39mkwargs):\n\u001B[0;32m---> 45\u001B[0m     \u001B[38;5;28mself\u001B[39m\u001B[38;5;241m.\u001B[39mapi \u001B[38;5;241m=\u001B[39m \u001B[43mAPIClient\u001B[49m\u001B[43m(\u001B[49m\u001B[38;5;241;43m*\u001B[39;49m\u001B[43margs\u001B[49m\u001B[43m,\u001B[49m\u001B[43m \u001B[49m\u001B[38;5;241;43m*\u001B[39;49m\u001B[38;5;241;43m*\u001B[39;49m\u001B[43mkwargs\u001B[49m\u001B[43m)\u001B[49m\n",
      "File \u001B[0;32m~/p/vespa-nearest-neighbor-corner-cases/.venv/lib/python3.13/site-packages/docker/api/client.py:207\u001B[0m, in \u001B[0;36mAPIClient.__init__\u001B[0;34m(self, base_url, version, timeout, tls, user_agent, num_pools, credstore_env, use_ssh_client, max_pool_size)\u001B[0m\n\u001B[1;32m    202\u001B[0m \u001B[38;5;66;03m# version detection needs to be after unix adapter mounting\u001B[39;00m\n\u001B[1;32m    203\u001B[0m \u001B[38;5;28;01mif\u001B[39;00m version \u001B[38;5;129;01mis\u001B[39;00m \u001B[38;5;28;01mNone\u001B[39;00m \u001B[38;5;129;01mor\u001B[39;00m (\u001B[38;5;28misinstance\u001B[39m(\n\u001B[1;32m    204\u001B[0m                         version,\n\u001B[1;32m    205\u001B[0m                         \u001B[38;5;28mstr\u001B[39m\n\u001B[1;32m    206\u001B[0m                         ) \u001B[38;5;129;01mand\u001B[39;00m version\u001B[38;5;241m.\u001B[39mlower() \u001B[38;5;241m==\u001B[39m \u001B[38;5;124m'\u001B[39m\u001B[38;5;124mauto\u001B[39m\u001B[38;5;124m'\u001B[39m):\n\u001B[0;32m--> 207\u001B[0m     \u001B[38;5;28mself\u001B[39m\u001B[38;5;241m.\u001B[39m_version \u001B[38;5;241m=\u001B[39m \u001B[38;5;28;43mself\u001B[39;49m\u001B[38;5;241;43m.\u001B[39;49m\u001B[43m_retrieve_server_version\u001B[49m\u001B[43m(\u001B[49m\u001B[43m)\u001B[49m\n\u001B[1;32m    208\u001B[0m \u001B[38;5;28;01melse\u001B[39;00m:\n\u001B[1;32m    209\u001B[0m     \u001B[38;5;28mself\u001B[39m\u001B[38;5;241m.\u001B[39m_version \u001B[38;5;241m=\u001B[39m version\n",
      "File \u001B[0;32m~/p/vespa-nearest-neighbor-corner-cases/.venv/lib/python3.13/site-packages/docker/api/client.py:230\u001B[0m, in \u001B[0;36mAPIClient._retrieve_server_version\u001B[0;34m(self)\u001B[0m\n\u001B[1;32m    225\u001B[0m     \u001B[38;5;28;01mraise\u001B[39;00m DockerException(\n\u001B[1;32m    226\u001B[0m         \u001B[38;5;124m'\u001B[39m\u001B[38;5;124mInvalid response from docker daemon: key \u001B[39m\u001B[38;5;124m\"\u001B[39m\u001B[38;5;124mApiVersion\u001B[39m\u001B[38;5;124m\"\u001B[39m\u001B[38;5;124m'\u001B[39m\n\u001B[1;32m    227\u001B[0m         \u001B[38;5;124m'\u001B[39m\u001B[38;5;124m is missing.\u001B[39m\u001B[38;5;124m'\u001B[39m\n\u001B[1;32m    228\u001B[0m     ) \u001B[38;5;28;01mfrom\u001B[39;00m \u001B[38;5;21;01mke\u001B[39;00m\n\u001B[1;32m    229\u001B[0m \u001B[38;5;28;01mexcept\u001B[39;00m \u001B[38;5;167;01mException\u001B[39;00m \u001B[38;5;28;01mas\u001B[39;00m e:\n\u001B[0;32m--> 230\u001B[0m     \u001B[38;5;28;01mraise\u001B[39;00m DockerException(\n\u001B[1;32m    231\u001B[0m         \u001B[38;5;124mf\u001B[39m\u001B[38;5;124m'\u001B[39m\u001B[38;5;124mError while fetching server API version: \u001B[39m\u001B[38;5;132;01m{\u001B[39;00me\u001B[38;5;132;01m}\u001B[39;00m\u001B[38;5;124m'\u001B[39m\n\u001B[1;32m    232\u001B[0m     ) \u001B[38;5;28;01mfrom\u001B[39;00m \u001B[38;5;21;01me\u001B[39;00m\n",
      "\u001B[0;31mDockerException\u001B[0m: Error while fetching server API version: ('Connection aborted.', FileNotFoundError(2, 'No such file or directory'))"
     ]
    }
   ],
   "execution_count": 12
  },
  {
   "metadata": {},
   "cell_type": "code",
   "outputs": [],
   "execution_count": null,
   "source": "",
   "id": "70c6ce76381010d9"
  }
 ],
 "metadata": {
  "kernelspec": {
   "name": "python3",
   "language": "python",
   "display_name": "Python 3 (ipykernel)"
  }
 },
 "nbformat": 5,
 "nbformat_minor": 9
}
