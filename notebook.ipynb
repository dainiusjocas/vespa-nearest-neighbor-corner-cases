{
 "cells": [
  {
   "metadata": {},
   "cell_type": "markdown",
   "source": [
    "# Adventures with the Approximate Nearest Neighbor Search in Vespa\n",
    "\n",
    "TL;DR: when using `targetHits` << `hits` in `nearestNeighbor` in Vespa, the hit count depends on the actual query embedding value and filters. \n",
    "\n",
    "\n",
    "## Context\n",
    "\n",
    "Recently, I've been working on introducing the approximate nearest neighbor (ANN) search using Vespa for an eCommerce search application.\n",
    "Overall, it was a lot of fun and the search experience has improved: latencies are low and relevance is \"better\".\n",
    "\n",
    "However, one corner case was a bit unexpected: when searching with an applied filter there were more hits than without a filter.\n",
    "In other words, more restrictive query returns more hits than a less restrictive one.\n",
    "Crazy, right?\n",
    "\n",
    "\n",
    "## Setup\n",
    "\n",
    "When defining the AB test we've tried to be as conservative as possible.\n",
    "This was primarily to reduce the risk of matching too many \"irrelevant\" documents by ANN.\n",
    "One requirement then became to limit the number of hits from ANN in the overall list of search results.\n",
    "To achieve that we've set the `targetHits=1` while `hits` was set to a lot bigger value.\n",
    "\n",
    "Intuitively, one would expect that in the final search results there would be at most `targetHits * N` (where `N` is the number of Vespa content nodes handling the search) hits that are `matched` with the `nearestNeighbor` operator.\n",
    "\n",
    "The overall query looks like this: `select * from ann where _filters_ AND (_lexical_matches_ OR _ann_)`.\n",
    "\n",
    "\n",
    "## Problem\n",
    "\n",
    "During the AB test we've got a complaint from a user that after applying a filter the number of hits increases instead of decreasing!\n",
    "The ticket even contained a video that showed exactly that.\n",
    "And the problem is reproducible.\n",
    "Exciting! Let's get to work.\n",
    "\n",
    "\n",
    "## Investigation\n",
    "\n",
    "The very first thing that came to my mind was that some consistent partial timeouts are happening for the ANN query without a filter and, therefore, fewer hits are being returned.\n",
    "But the timeout hypothesis was quickly ruled out because both queries were returning results way faster than the set timeout.\n",
    "\n",
    "Next, we've checked how many hits there were from the ANN.\n",
    "It turned out that all hits were from the ANN query, i.e. no lexical matches.\n",
    "But not exactly `1 * N` hits in the filter-less case but a bit less than `2 * N` (probably due to `distanceThreshold` [parameter](https://docs.vespa.ai/en/reference/query-language-reference.html#distancethreshold) and other HNSW settings).\n",
    "The difference can be explained by the fact that the `targetHits` is not a hard limit but only a target, i.e. Vespa promises to get at least `targetHits` hits with ANN, but it can expose more for ranking.\n",
    "\n",
    "Anyway, applying a filter on ANN search should decrease the total number of hits, right?\n",
    "Instead of that, the number of hits increased to 500+ which is way more than `2*N`.\n",
    "\n",
    "Next, followed a session of `changing random stuff and seeing what happens`.\n",
    "Soon, a parameter was identified which changed the behaviour: `ranking.matching.approximateThreshold`.\n",
    "When the parameter value is set to less than 0.11 then the number of hits is as expected: equal to the filter-less query.\n",
    "Having learned that, some guru meditation followed.\n",
    "After which it became clear that different search paths were executed depending on the parameter value.\n",
    "For full overview on different search paths, see this great [blogpost](https://blog.vespa.ai/constrained-approximate-nearest-neighbor-search/).\n",
    "\n",
    "When the hit count estimate is LESS than set by the `ranking.matching.approximateThreshold` then the **exact search with pre-filters** is executed: all filtered documents are scored by the vector distance metric (HNSW is skipped).\n",
    "And therefore, many hits.\n",
    "\n",
    "When the hit count estimate is MORE than set by the `ranking.matching.approximateThreshold` then the **ANN search using HNSW with pre-filters** is executed: having a list of filtered documents the HNSW is being searched for `targetHits` nearest neighbors.\n",
    "And therefore, only few hits due to the fact that `targetHits` hints/limits how many hits are needed.\n",
    "\n",
    "\n",
    "## Mitigation\n",
    "\n",
    "The is no mitigation implemented to that situation yet.\n",
    "The main reason being is that in an index of 100+M docs it is very rare that when a search query returns few hit (less than one webpage) somebody would apply a filter on top.\n",
    "On mobile, this problem is even less visible.\n",
    "Also, as the time goes we'll get more confident with ANN and `targetHits` should increase to a bigger value so that the problem will be even less visible.\n",
    "\n",
    "\n",
    "## Demo\n",
    "\n",
    "I've prepared a small Vespa application that demonstrates what can happen when `targetHits` << `hits`."
   ],
   "id": "a8d88882ec2d1306"
  },
  {
   "metadata": {
    "collapsed": true,
    "ExecuteTime": {
     "end_time": "2024-10-04T07:00:48.625084Z",
     "start_time": "2024-10-04T07:00:48.617486Z"
    }
   },
   "cell_type": "code",
   "source": [
    "from vespa.package import (ApplicationPackage, Field, Schema, Document, RankProfile, HNSW)\n",
    "from vespa.deployment import VespaDocker\n",
    "from vespa.io import VespaResponse\n",
    "\n",
    "vap = ApplicationPackage(\n",
    "    name=\"anncornercase\",\n",
    "    schema=[\n",
    "        Schema(\n",
    "            name=\"ann\",\n",
    "            document=Document(\n",
    "                fields=[\n",
    "                    Field(\n",
    "                        name=\"filter\",\n",
    "                        type=\"int\",\n",
    "                        indexing=[\"attribute\", \"summary\"],\n",
    "                        attribute=[\"fast-search\"],\n",
    "                    ),\n",
    "                    Field(\n",
    "                        name=\"embedding\",\n",
    "                        type=\"tensor<float>(d0[1])\",\n",
    "                        indexing=[\"attribute\", \"index\"],\n",
    "                        ann=HNSW(\n",
    "                            distance_metric=\"euclidean\",\n",
    "                            max_links_per_node=16,\n",
    "                            neighbors_to_explore_at_insert=200,\n",
    "                        ))\n",
    "                ]\n",
    "            ),\n",
    "            rank_profiles=[\n",
    "                RankProfile(\n",
    "                    name=\"ann\",\n",
    "                    inputs=[\n",
    "                        (\"query(q)\", \"tensor<float>(d0[1])\"),\n",
    "                    ],\n",
    "                    first_phase=\"closeness(field, embedding)\"\n",
    "                )\n",
    "            ]\n",
    "        )\n",
    "    ]\n",
    ")"
   ],
   "id": "initial_id",
   "outputs": [],
   "execution_count": 133
  },
  {
   "metadata": {},
   "cell_type": "code",
   "outputs": [],
   "execution_count": null,
   "source": [
    "# Running this cell recreates the Docker container With Vespa\n",
    "# which takes about 1 minute\n",
    "vespa_docker = VespaDocker(container_image=\"vespaengine/vespa:8.411.13\")"
   ],
   "id": "3ab288413e395f86"
  },
  {
   "metadata": {},
   "cell_type": "code",
   "source": "app = vespa_docker.deploy(application_package=vap)",
   "id": "975b94588b78b8e4",
   "outputs": [],
   "execution_count": null
  },
  {
   "metadata": {
    "ExecuteTime": {
     "end_time": "2024-10-03T12:21:21.751988Z",
     "start_time": "2024-10-03T12:21:21.628571Z"
    }
   },
   "cell_type": "code",
   "source": [
    "# Create and feed 100 dummy docs\n",
    "docs = [\n",
    "    {\n",
    "        'id': f'{i}',\n",
    "        'fields': {\n",
    "            'filter': i,\n",
    "            'embedding': [i]\n",
    "        }\n",
    "    } for i in range(100)]\n",
    "def callback(response: VespaResponse, document_id: str):\n",
    "    if not response.is_successful():\n",
    "        print(f\"Error when feeding document {document_id}: {response.get_json()}\")\n",
    "\n",
    "app.feed_iterable(docs, schema=\"ann\", namespace=\"ann\", callback=callback)"
   ],
   "id": "6637b6785b6c1602",
   "outputs": [],
   "execution_count": 104
  },
  {
   "metadata": {
    "ExecuteTime": {
     "end_time": "2024-10-04T07:02:20.656190Z",
     "start_time": "2024-10-04T07:02:20.505532Z"
    }
   },
   "cell_type": "code",
   "source": [
    "resp = app.query(body={\n",
    "    'yql': 'select * from ann where ({targetHits:1}nearestNeighbor(embedding, q))',\n",
    "    'hits': 10,\n",
    "    'ranking': 'ann',\n",
    "    \"input.query(q)\": [2.0]\n",
    "})\n",
    "resp.hits"
   ],
   "id": "e3f7cb954ab408b3",
   "outputs": [
    {
     "data": {
      "text/plain": [
       "[{'id': 'id:ann:ann::2',\n",
       "  'relevance': 1.0,\n",
       "  'source': 'anncornercase_content',\n",
       "  'fields': {'sddocname': 'ann', 'documentid': 'id:ann:ann::2', 'filter': 2}}]"
      ]
     },
     "execution_count": 135,
     "metadata": {},
     "output_type": "execute_result"
    }
   ],
   "execution_count": 135
  },
  {
   "metadata": {},
   "cell_type": "markdown",
   "source": "With an embedding `[2.0]` we get 1 hit, exactly as `targetHits`.",
   "id": "a84031c9ae8125c"
  },
  {
   "metadata": {
    "ExecuteTime": {
     "end_time": "2024-10-04T07:02:24.390937Z",
     "start_time": "2024-10-04T07:02:24.366955Z"
    }
   },
   "cell_type": "code",
   "source": [
    "resp = app.query(body={\n",
    "    'yql': 'select * from ann where ({targetHits:1}nearestNeighbor(embedding, q))',\n",
    "    'hits': 10,\n",
    "    'ranking': 'ann',\n",
    "    \"input.query(q)\": [50.0]\n",
    "})\n",
    "len(resp.hits)"
   ],
   "id": "9de42f19b86d57c1",
   "outputs": [
    {
     "data": {
      "text/plain": [
       "1"
      ]
     },
     "execution_count": 136,
     "metadata": {},
     "output_type": "execute_result"
    }
   ],
   "execution_count": 136
  },
  {
   "metadata": {},
   "cell_type": "markdown",
   "source": [
    "With embedding `[50.0]` we get 1 hits (expected). So, number of hits doesn't depend on the embedding value.\n",
    "\n",
    "Now, let's add a filter `AND filter < 5` to the query."
   ],
   "id": "3d83a070fb7ffa83"
  },
  {
   "metadata": {
    "ExecuteTime": {
     "end_time": "2024-10-04T07:02:29.468265Z",
     "start_time": "2024-10-04T07:02:29.446394Z"
    }
   },
   "cell_type": "code",
   "source": [
    "resp = app.query(body={\n",
    "    'yql': \"\"\"\n",
    "    select * \n",
    "    from ann \n",
    "    where ({targetHits:1}nearestNeighbor(embedding, q)) AND filter < 5\n",
    "    \"\"\",\n",
    "    'hits': 10,\n",
    "    'ranking': 'ann',\n",
    "    'input.query(q)': [2.0]\n",
    "})\n",
    "len(resp.hits)"
   ],
   "id": "186b63ef42abe163",
   "outputs": [
    {
     "data": {
      "text/plain": [
       "2"
      ]
     },
     "execution_count": 137,
     "metadata": {},
     "output_type": "execute_result"
    }
   ],
   "execution_count": 137
  },
  {
   "metadata": {},
   "cell_type": "markdown",
   "source": [
    "Now we get 2 hits (unexpected)! After adding a restrictive filter we get more hits!\n",
    "Anyway, there are clearly 5 documents (ids 0..4) that satisfy the filter but for some reason the `nearestNeighbor` retrieved 2 documents.\n",
    "\n",
    "NOTE: that number is not stable, in other re-feeds, you might get anywhere from 1 to 4 hits. \n",
    "\n",
    "Let's change filter to `filter < 50` and see what happens."
   ],
   "id": "d2b3bc80d18fff0d"
  },
  {
   "metadata": {
    "ExecuteTime": {
     "end_time": "2024-10-04T07:02:32.848128Z",
     "start_time": "2024-10-04T07:02:32.830123Z"
    }
   },
   "cell_type": "code",
   "source": [
    "resp = app.query(body={\n",
    "    'yql': \"\"\"\n",
    "    select * \n",
    "    from ann \n",
    "    where ({targetHits:1}nearestNeighbor(embedding, q)) AND filter < 50\n",
    "    \"\"\",\n",
    "    'hits': 10,\n",
    "    'ranking': 'ann',\n",
    "    'input.query(q)': [2.0]\n",
    "})\n",
    "len(resp.hits)"
   ],
   "id": "434f581065d1d04a",
   "outputs": [
    {
     "data": {
      "text/plain": [
       "1"
      ]
     },
     "execution_count": 138,
     "metadata": {},
     "output_type": "execute_result"
    }
   ],
   "execution_count": 138
  },
  {
   "metadata": {},
   "cell_type": "markdown",
   "source": [
    "Once again unexpected: we get 1 hit while clearly there are 50 filter matching documents.\n",
    "Remember that with a more restrictive `filter < 5` we got 2 hits!\n",
    "Interesting.\n",
    "\n",
    "In the next example, let's go crazy and run the same query with different embeddings from 0 to 99."
   ],
   "id": "4ad14556b5d6c2fe"
  },
  {
   "metadata": {
    "ExecuteTime": {
     "end_time": "2024-10-04T07:02:37.316360Z",
     "start_time": "2024-10-04T07:02:36.532650Z"
    }
   },
   "cell_type": "code",
   "source": [
    "hit_counts = []\n",
    "for i in range(100):\n",
    "    resp = app.query(body={\n",
    "        'yql': \"\"\"\n",
    "        select * \n",
    "        from ann \n",
    "        where ({targetHits:1}nearestNeighbor(embedding, q)) AND filter < 5\n",
    "        \"\"\",\n",
    "        'hits': 10,\n",
    "        'ranking': 'ann',\n",
    "        \"input.query(q)\": [i]\n",
    "    })\n",
    "    hit_counts.append(len(resp.hits))\n",
    "print(hit_counts)"
   ],
   "id": "b2d521864b9dede2",
   "outputs": [
    {
     "name": "stdout",
     "output_type": "stream",
     "text": [
      "[1, 3, 2, 4, 3, 3, 3, 3, 3, 3, 3, 3, 3, 3, 3, 3, 3, 3, 3, 3, 3, 3, 3, 3, 3, 3, 3, 3, 3, 3, 3, 3, 3, 3, 3, 3, 3, 3, 3, 3, 3, 3, 3, 3, 3, 3, 3, 3, 3, 3, 3, 3, 3, 3, 3, 3, 3, 3, 3, 3, 3, 3, 3, 3, 3, 3, 3, 3, 3, 3, 3, 3, 3, 3, 3, 3, 3, 3, 3, 3, 3, 3, 3, 3, 3, 3, 3, 3, 3, 3, 3, 3, 3, 3, 3, 3, 3, 3, 3, 3]\n"
     ]
    }
   ],
   "execution_count": 139
  },
  {
   "metadata": {},
   "cell_type": "markdown",
   "source": [
    "From the results above we see that most of the time it returns 3 hits.\n",
    "But for some reason with embeddings from 0 to 5 we get `[1, 3, 2, 4, 3]` hits.\n",
    "NOTE: the numbers varies from run to run.\n",
    "\n",
    "Now, let's try with `filter < 50`:"
   ],
   "id": "9cf1b98f4e6a6a1d"
  },
  {
   "metadata": {
    "ExecuteTime": {
     "end_time": "2024-10-04T07:02:49.574108Z",
     "start_time": "2024-10-04T07:02:48.866853Z"
    }
   },
   "cell_type": "code",
   "source": [
    "hit_counts = []\n",
    "for i in range(100):\n",
    "    resp = app.query(body={\n",
    "        'yql': \"\"\"\n",
    "        select * \n",
    "        from ann \n",
    "        where ({targetHits:1}nearestNeighbor(embedding, q)) AND filter < 50\n",
    "        \"\"\",\n",
    "        'hits': 10,\n",
    "        'ranking': 'ann',\n",
    "        \"input.query(q)\": [i]\n",
    "    })\n",
    "    hit_counts.append(len(resp.hits))\n",
    "print(hit_counts)"
   ],
   "id": "5703970ac6e5f89c",
   "outputs": [
    {
     "name": "stdout",
     "output_type": "stream",
     "text": [
      "[1, 1, 1, 1, 1, 1, 1, 1, 1, 1, 1, 1, 1, 1, 1, 1, 1, 1, 1, 1, 1, 1, 1, 1, 1, 1, 1, 1, 1, 1, 1, 1, 1, 1, 1, 1, 1, 1, 1, 1, 1, 1, 1, 1, 1, 1, 1, 1, 1, 1, 1, 1, 1, 1, 1, 1, 1, 1, 1, 1, 1, 1, 1, 1, 1, 1, 1, 1, 1, 1, 1, 1, 1, 1, 1, 1, 1, 1, 1, 1, 1, 1, 1, 1, 1, 1, 1, 1, 1, 1, 1, 1, 1, 1, 1, 1, 1, 1, 1, 1]\n"
     ]
    }
   ],
   "execution_count": 140
  },
  {
   "metadata": {},
   "cell_type": "markdown",
   "source": "Let`s try `targetHits=2`:",
   "id": "efdb140db38ef6d4"
  },
  {
   "metadata": {
    "ExecuteTime": {
     "end_time": "2024-10-04T07:02:52.486650Z",
     "start_time": "2024-10-04T07:02:51.860178Z"
    }
   },
   "cell_type": "code",
   "source": [
    "hit_counts = []\n",
    "for i in range(100):\n",
    "    resp = app.query(body={\n",
    "        'yql': \"\"\"\n",
    "        select * \n",
    "        from ann \n",
    "        where ({targetHits:2}nearestNeighbor(embedding, q)) AND filter < 50\n",
    "        \"\"\",\n",
    "        'hits': 10,\n",
    "        'ranking': 'ann',\n",
    "        \"input.query(q)\": [i]\n",
    "    })\n",
    "    hit_counts.append(len(resp.hits))\n",
    "print(hit_counts)"
   ],
   "id": "a9f24584333771f1",
   "outputs": [
    {
     "name": "stdout",
     "output_type": "stream",
     "text": [
      "[2, 2, 2, 2, 2, 2, 2, 2, 2, 2, 2, 2, 2, 2, 2, 2, 2, 2, 2, 2, 2, 2, 2, 2, 2, 2, 2, 2, 2, 2, 2, 2, 2, 2, 2, 2, 2, 2, 2, 2, 2, 2, 2, 2, 2, 2, 2, 2, 2, 2, 2, 2, 2, 2, 2, 2, 2, 2, 2, 2, 2, 2, 2, 2, 2, 2, 2, 2, 2, 2, 2, 2, 2, 2, 2, 2, 2, 2, 2, 2, 2, 2, 2, 2, 2, 2, 2, 2, 2, 2, 2, 2, 2, 2, 2, 2, 2, 2, 2, 2]\n"
     ]
    }
   ],
   "execution_count": 141
  },
  {
   "metadata": {},
   "cell_type": "markdown",
   "source": [
    "We've got 2 hits for all embeddings.\n",
    "\n",
    "We can clearly see that when filter matches large portion of the index we get as many hits as set with `targetHits`.\n",
    "\n",
    "Now, let's try with `targetHits=1`, `filter < 50`, and `ranking.matching.approximateThreshold=0.99`:"
   ],
   "id": "159a8b09a598ab45"
  },
  {
   "metadata": {
    "ExecuteTime": {
     "end_time": "2024-10-04T07:02:58.579592Z",
     "start_time": "2024-10-04T07:02:57.974853Z"
    }
   },
   "cell_type": "code",
   "source": [
    "hit_counts = []\n",
    "for i in range(100):\n",
    "    resp = app.query(body={\n",
    "        'yql': \"\"\"\n",
    "        select * \n",
    "        from ann \n",
    "        where ({targetHits:1}nearestNeighbor(embedding, q)) AND filter < 50\n",
    "        \"\"\",\n",
    "        'hits': 10,\n",
    "        'ranking': 'ann',\n",
    "        \"input.query(q)\": [i],\n",
    "        \"ranking.matching.approximateThreshold\": 0.99,\n",
    "        \n",
    "    })\n",
    "    hit_counts.append(len(resp.hits))\n",
    "print(hit_counts)"
   ],
   "id": "64ae615b8a7670e9",
   "outputs": [
    {
     "name": "stdout",
     "output_type": "stream",
     "text": [
      "[1, 3, 2, 4, 5, 4, 3, 4, 5, 6, 8, 6, 7, 9, 7, 8, 9, 10, 10, 10, 10, 10, 10, 10, 10, 10, 10, 10, 10, 10, 10, 10, 10, 10, 10, 10, 10, 10, 10, 10, 10, 10, 10, 10, 10, 10, 10, 10, 10, 10, 10, 10, 10, 10, 10, 10, 10, 10, 10, 10, 10, 10, 10, 10, 10, 10, 10, 10, 10, 10, 10, 10, 10, 10, 10, 10, 10, 10, 10, 10, 10, 10, 10, 10, 10, 10, 10, 10, 10, 10, 10, 10, 10, 10, 10, 10, 10, 10, 10, 10]\n"
     ]
    }
   ],
   "execution_count": 142
  },
  {
   "metadata": {},
   "cell_type": "markdown",
   "source": [
    "What?! A variety of hits from 1 to 10!\n",
    "\n",
    "In most cases, the number of hits is 10 because our `hits=10`. Why in some cases we get less hits? I don't know for sure but my guess is that the query tensor that is \"closer\" to the tensors that during the HNSW construction were added later can traverse more nodes."
   ],
   "id": "91e51662d0543f56"
  },
  {
   "metadata": {},
   "cell_type": "markdown",
   "source": "In the particular example changing the `ranking.matching.approximateThreshold=0.49` always gives 1 hit. Notice the relation to `filter < 50`.",
   "id": "70b596d6b9d4105d"
  },
  {
   "metadata": {
    "ExecuteTime": {
     "end_time": "2024-10-04T07:03:05.753128Z",
     "start_time": "2024-10-04T07:03:05.173191Z"
    }
   },
   "cell_type": "code",
   "source": [
    "hit_counts = []\n",
    "for i in range(100):\n",
    "    resp = app.query(body={\n",
    "        'yql': \"\"\"\n",
    "        select * \n",
    "        from ann \n",
    "        where ({targetHits:1}nearestNeighbor(embedding, q)) AND filter < 50\n",
    "        \"\"\",\n",
    "        'hits': 10,\n",
    "        'ranking': 'ann',\n",
    "        \"input.query(q)\": [i],\n",
    "        \"ranking.matching.approximateThreshold\": 0.49,\n",
    "        \n",
    "    })\n",
    "    hit_counts.append(len(resp.hits))\n",
    "print(hit_counts)"
   ],
   "id": "c00e3dafa5e33be0",
   "outputs": [
    {
     "name": "stdout",
     "output_type": "stream",
     "text": [
      "[1, 1, 1, 1, 1, 1, 1, 1, 1, 1, 1, 1, 1, 1, 1, 1, 1, 1, 1, 1, 1, 1, 1, 1, 1, 1, 1, 1, 1, 1, 1, 1, 1, 1, 1, 1, 1, 1, 1, 1, 1, 1, 1, 1, 1, 1, 1, 1, 1, 1, 1, 1, 1, 1, 1, 1, 1, 1, 1, 1, 1, 1, 1, 1, 1, 1, 1, 1, 1, 1, 1, 1, 1, 1, 1, 1, 1, 1, 1, 1, 1, 1, 1, 1, 1, 1, 1, 1, 1, 1, 1, 1, 1, 1, 1, 1, 1, 1, 1, 1]\n"
     ]
    }
   ],
   "execution_count": 143
  },
  {
   "metadata": {},
   "cell_type": "markdown",
   "source": [
    "Why would anyone change the `ranking.matching.approximateThreshold`? Sometimes doing exact NN is faster than doing ANN, e.g. when filters match up to 1M docs. Searching through HNSW takes a long time when query is not \"similar\" to the filters, e.g. query='red dress' and filter is for shoes category. \n",
    "\n",
    "In my case that parameter was set to 0.15. Do your own benchmarks to find the optimal value. "
   ],
   "id": "1b81f09d698159a8"
  },
  {
   "metadata": {},
   "cell_type": "markdown",
   "source": [
    "Anyway, that is all for this time.\n",
    "\n",
    "Let's clean our Vespa instance and call it a day."
   ],
   "id": "d7c9ff19e76e93ff"
  },
  {
   "metadata": {
    "ExecuteTime": {
     "end_time": "2024-10-03T12:21:08.239178Z",
     "start_time": "2024-10-03T12:21:08.171064Z"
    }
   },
   "cell_type": "code",
   "source": "app.delete_all_docs(content_cluster_name='anncornercase_content', schema='ann')",
   "id": "6ad88a964031b453",
   "outputs": [],
   "execution_count": 102
  },
  {
   "metadata": {},
   "cell_type": "code",
   "source": [
    "vespa_docker.container.stop()\n",
    "vespa_docker.container.remove()"
   ],
   "id": "ea457d97a984f976",
   "outputs": [],
   "execution_count": null
  },
  {
   "metadata": {},
   "cell_type": "markdown",
   "source": [
    "## Fin\n",
    "\n",
    "Various nuances of ANN search should be advertised a little bit more.\n",
    "That would allow for better planning for introducing ANN into search, prevent some confusion while looking at the actual results, and save some time overall.\n",
    "I hope that the demo was informative.\n",
    "I encourage you to play with the setup and let me know what unexpected results you're getting.\n",
    "That's it for this time. Bye!"
   ],
   "id": "e0b18d132670e0c9"
  }
 ],
 "metadata": {
  "kernelspec": {
   "display_name": "Python 3",
   "language": "python",
   "name": "python3"
  },
  "language_info": {
   "codemirror_mode": {
    "name": "ipython",
    "version": 2
   },
   "file_extension": ".py",
   "mimetype": "text/x-python",
   "name": "python",
   "nbconvert_exporter": "python",
   "pygments_lexer": "ipython2",
   "version": "2.7.6"
  }
 },
 "nbformat": 4,
 "nbformat_minor": 5
}
