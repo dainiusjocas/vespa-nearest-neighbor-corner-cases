{
 "cells": [
  {
   "metadata": {},
   "cell_type": "markdown",
   "source": [
    "# Adventures with the Approximate Nearest Neighbor Search in Vespa\n",
    "\n",
    "TL;DR: when using `targetHits` << `hits` in `nearestNeighbor` in Vespa, the hit count depends on the actual query embedding value and filters. \n",
    "\n",
    "\n",
    "## Context\n",
    "\n",
    "Recently, I've been working on introducing the approximate nearest neighbor (ANN) search using Vespa for an eCommerce search application.\n",
    "Overall, it was a lot of fun and the search experience has improved: latencies are low and relevance is \"better\".\n",
    "\n",
    "However, one corner case was a bit unexpected: when searching with an applied filter there were more hits than without a filter.\n",
    "In other words, more restrictive query returns more hits than a less restrictive one.\n",
    "Crazy, right?\n",
    "\n",
    "\n",
    "## Setup\n",
    "\n",
    "When defining the AB test we've tried to be as conservative as possible.\n",
    "This was primarily to reduce the risk of matching too many \"irrelevant\" documents by ANN.\n",
    "One requirement then became to limit the number of hits from ANN in the overall list of search results.\n",
    "To achieve that we've set the `targetHits=1` while `hits` was set to a lot bigger value.\n",
    "\n",
    "Intuitively, one would expect that in the final search results there would be at most `targetHits * N` (where `N` is the number of Vespa content nodes handling the search) hits that are `matched` with the `nearestNeighbor` operator.\n",
    "\n",
    "The overall query looks like this: `select * from ann where _filters_ AND (_lexical_matches_ OR _ann_)`.\n",
    "\n",
    "\n",
    "## Problem\n",
    "\n",
    "During the AB test we've got a complaint from a user that after applying a filter the number of hits increases instead of decreasing!\n",
    "The ticket even contained a video that showed exactly that.\n",
    "And the problem is reproducible.\n",
    "Exciting! Let's get to work.\n",
    "\n",
    "\n",
    "## Investigation\n",
    "\n",
    "The very first thing that came to my mind was that some consistent partial timeouts are happening for the ANN query without a filter and, therefore, fewer hits are being returned.\n",
    "But the timeout hypothesis was quickly ruled out because both queries were returning results way faster than the set timeout.\n",
    "\n",
    "Next, we've checked how many hits there were from the ANN.\n",
    "It turned out that all hits were from the ANN query.\n",
    "But not exactly `1 * N` hits in the filter-less case but a bit less than `2*N`.\n",
    "The difference can be explained by the fact that the `targetHits` is not a hard limit but a target.\n",
    "In other words, Vespa promises to get at least `targetHits` hits with ANN, but it can expose more for ranking.\n",
    "\n",
    "Anyway, applying a filter on ANN search should decrease the total number of hits, right?\n",
    "Instead of that, the number of hits increased to 500+ which is way more than `2*N`.\n",
    "\n",
    "Next, followed a session of `changing random stuff and seeing what happens`.\n",
    "Soon, a parameter was identified which changed the behaviour: `ranking.matching.approximateThreshold`.\n",
    "When the parameter value is set to less than 0.11 then the number of hits is as expected: equal to the filter-less query.\n",
    "Having that, some guru meditation followed.\n",
    "After which it became clear that different search paths were executed depending on the parameter value.\n",
    "For full overview on different search paths, see this great [blogpost](https://blog.vespa.ai/constrained-approximate-nearest-neighbor-search/).\n",
    "\n",
    "When the hit count estimate is LESS than set by the `ranking.matching.approximateThreshold` then the **exact search with pre-filters** is executed: all filtered documents are scored by the vector distance metric (HNSW is skipped).\n",
    "And therefore, many hits.\n",
    "\n",
    "When the hit count estimate is MORE than set by the `ranking.matching.approximateThreshold` then the **ANN search using HNSW with pre-filters** is executed: having a list of filtered documents the HNWS is being searched for `targetHits` nearest neighbors.\n",
    "And therefore, only few hits due to the fact that `targetHits` limits how many hits are needed.\n",
    "\n",
    "\n",
    "## Mitigation\n",
    "\n",
    "The is no mitigation implemented to that situation yet.\n",
    "The main reason being is that in an index of 100+M docs it is very rare that when a search query returns few hit (less than one webpage) somebody would apply a filter on top.\n",
    "On mobile, this problem is even less visible.\n",
    "Also, as the time goes we'll get more confident with ANN and `targetHits` should increase to a bigger value so that the problem will be even less visible.\n",
    "\n",
    "\n",
    "## Demo\n",
    "\n",
    "I've prepared a small Vespa application that demonstrates that demonstrates what can happen when `targetHits` << `hits`.\n",
    "\n",
    "\n"
   ],
   "id": "a8d88882ec2d1306"
  },
  {
   "metadata": {
    "collapsed": true,
    "ExecuteTime": {
     "end_time": "2024-09-26T07:02:38.346574Z",
     "start_time": "2024-09-26T07:02:12.027450Z"
    }
   },
   "cell_type": "code",
   "source": [
    "from vespa.package import (ApplicationPackage, Field, Schema, Document, RankProfile)\n",
    "from vespa.deployment import VespaDocker\n",
    "from vespa.io import VespaResponse\n",
    "\n",
    "vap = ApplicationPackage(\n",
    "    name=\"anncornercase\",\n",
    "    schema=[\n",
    "        Schema(\n",
    "            name=\"ann\",\n",
    "            document=Document(\n",
    "                fields=[\n",
    "                    Field(\n",
    "                        name=\"filter\",\n",
    "                        type=\"int\",\n",
    "                        indexing=[\"attribute\", \"summary\"]\n",
    "                    ),\n",
    "                    Field(\n",
    "                        name=\"embedding\",\n",
    "                        type=\"tensor<float>(d0[1])\",\n",
    "                        indexing=[\"attribute\"])\n",
    "                ]\n",
    "            ),\n",
    "            rank_profiles=[\n",
    "                RankProfile(\n",
    "                    name=\"ann\",\n",
    "                    inputs=[\n",
    "                        (\"query(q)\", \"tensor<float>(d0[1])\"),\n",
    "                    ],\n",
    "                    first_phase=\"closeness(field, embedding)\"\n",
    "                )\n",
    "            ]\n",
    "        )\n",
    "    ]\n",
    ")\n",
    "\n",
    "vespa_docker = VespaDocker(container_image=\"vespaengine/vespa:8.411.13\")\n",
    "app = vespa_docker.deploy(application_package=vap)"
   ],
   "id": "initial_id",
   "outputs": [
    {
     "name": "stdout",
     "output_type": "stream",
     "text": [
      "Waiting for configuration server, 0/60 seconds...\n",
      "Waiting for configuration server, 5/60 seconds...\n"
     ]
    },
    {
     "name": "stderr",
     "output_type": "stream",
     "text": [
      "WARNING:urllib3.connectionpool:Retrying (Retry(total=9, connect=None, read=None, redirect=None, status=None)) after connection broken by 'ConnectionResetError(54, 'Connection reset by peer')': /ApplicationStatus\n",
      "WARNING:urllib3.connectionpool:Retrying (Retry(total=8, connect=None, read=None, redirect=None, status=None)) after connection broken by 'ConnectionResetError(54, 'Connection reset by peer')': /ApplicationStatus\n",
      "WARNING:urllib3.connectionpool:Retrying (Retry(total=7, connect=None, read=None, redirect=None, status=None)) after connection broken by 'ConnectionResetError(54, 'Connection reset by peer')': /ApplicationStatus\n",
      "WARNING:urllib3.connectionpool:Retrying (Retry(total=6, connect=None, read=None, redirect=None, status=None)) after connection broken by 'ConnectionResetError(54, 'Connection reset by peer')': /ApplicationStatus\n",
      "WARNING:urllib3.connectionpool:Retrying (Retry(total=5, connect=None, read=None, redirect=None, status=None)) after connection broken by 'ConnectionResetError(54, 'Connection reset by peer')': /ApplicationStatus\n",
      "WARNING:urllib3.connectionpool:Retrying (Retry(total=4, connect=None, read=None, redirect=None, status=None)) after connection broken by 'ConnectionResetError(54, 'Connection reset by peer')': /ApplicationStatus\n",
      "WARNING:urllib3.connectionpool:Retrying (Retry(total=3, connect=None, read=None, redirect=None, status=None)) after connection broken by 'ConnectionResetError(54, 'Connection reset by peer')': /ApplicationStatus\n",
      "WARNING:urllib3.connectionpool:Retrying (Retry(total=2, connect=None, read=None, redirect=None, status=None)) after connection broken by 'ConnectionResetError(54, 'Connection reset by peer')': /ApplicationStatus\n",
      "WARNING:urllib3.connectionpool:Retrying (Retry(total=1, connect=None, read=None, redirect=None, status=None)) after connection broken by 'ConnectionResetError(54, 'Connection reset by peer')': /ApplicationStatus\n",
      "WARNING:urllib3.connectionpool:Retrying (Retry(total=0, connect=None, read=None, redirect=None, status=None)) after connection broken by 'ConnectionResetError(54, 'Connection reset by peer')': /ApplicationStatus\n"
     ]
    },
    {
     "name": "stdout",
     "output_type": "stream",
     "text": [
      "Waiting for application to come up, 0/300 seconds.\n"
     ]
    },
    {
     "name": "stderr",
     "output_type": "stream",
     "text": [
      "WARNING:urllib3.connectionpool:Retrying (Retry(total=9, connect=None, read=None, redirect=None, status=None)) after connection broken by 'ConnectionResetError(54, 'Connection reset by peer')': /ApplicationStatus\n",
      "WARNING:urllib3.connectionpool:Retrying (Retry(total=8, connect=None, read=None, redirect=None, status=None)) after connection broken by 'ConnectionResetError(54, 'Connection reset by peer')': /ApplicationStatus\n",
      "WARNING:urllib3.connectionpool:Retrying (Retry(total=7, connect=None, read=None, redirect=None, status=None)) after connection broken by 'ConnectionResetError(54, 'Connection reset by peer')': /ApplicationStatus\n",
      "WARNING:urllib3.connectionpool:Retrying (Retry(total=6, connect=None, read=None, redirect=None, status=None)) after connection broken by 'ConnectionResetError(54, 'Connection reset by peer')': /ApplicationStatus\n",
      "WARNING:urllib3.connectionpool:Retrying (Retry(total=5, connect=None, read=None, redirect=None, status=None)) after connection broken by 'ConnectionResetError(54, 'Connection reset by peer')': /ApplicationStatus\n",
      "WARNING:urllib3.connectionpool:Retrying (Retry(total=4, connect=None, read=None, redirect=None, status=None)) after connection broken by 'ConnectionResetError(54, 'Connection reset by peer')': /ApplicationStatus\n",
      "WARNING:urllib3.connectionpool:Retrying (Retry(total=3, connect=None, read=None, redirect=None, status=None)) after connection broken by 'ConnectionResetError(54, 'Connection reset by peer')': /ApplicationStatus\n",
      "WARNING:urllib3.connectionpool:Retrying (Retry(total=2, connect=None, read=None, redirect=None, status=None)) after connection broken by 'ConnectionResetError(54, 'Connection reset by peer')': /ApplicationStatus\n",
      "WARNING:urllib3.connectionpool:Retrying (Retry(total=1, connect=None, read=None, redirect=None, status=None)) after connection broken by 'ConnectionResetError(54, 'Connection reset by peer')': /ApplicationStatus\n",
      "WARNING:urllib3.connectionpool:Retrying (Retry(total=0, connect=None, read=None, redirect=None, status=None)) after connection broken by 'ConnectionResetError(54, 'Connection reset by peer')': /ApplicationStatus\n",
      "WARNING:urllib3.connectionpool:Retrying (Retry(total=9, connect=None, read=None, redirect=None, status=None)) after connection broken by 'ConnectionResetError(54, 'Connection reset by peer')': /ApplicationStatus\n",
      "WARNING:urllib3.connectionpool:Retrying (Retry(total=8, connect=None, read=None, redirect=None, status=None)) after connection broken by 'ConnectionResetError(54, 'Connection reset by peer')': /ApplicationStatus\n",
      "WARNING:urllib3.connectionpool:Retrying (Retry(total=7, connect=None, read=None, redirect=None, status=None)) after connection broken by 'ConnectionResetError(54, 'Connection reset by peer')': /ApplicationStatus\n",
      "WARNING:urllib3.connectionpool:Retrying (Retry(total=6, connect=None, read=None, redirect=None, status=None)) after connection broken by 'ConnectionResetError(54, 'Connection reset by peer')': /ApplicationStatus\n",
      "WARNING:urllib3.connectionpool:Retrying (Retry(total=5, connect=None, read=None, redirect=None, status=None)) after connection broken by 'ConnectionResetError(54, 'Connection reset by peer')': /ApplicationStatus\n",
      "WARNING:urllib3.connectionpool:Retrying (Retry(total=4, connect=None, read=None, redirect=None, status=None)) after connection broken by 'ConnectionResetError(54, 'Connection reset by peer')': /ApplicationStatus\n",
      "WARNING:urllib3.connectionpool:Retrying (Retry(total=3, connect=None, read=None, redirect=None, status=None)) after connection broken by 'ConnectionResetError(54, 'Connection reset by peer')': /ApplicationStatus\n",
      "WARNING:urllib3.connectionpool:Retrying (Retry(total=2, connect=None, read=None, redirect=None, status=None)) after connection broken by 'ConnectionResetError(54, 'Connection reset by peer')': /ApplicationStatus\n",
      "WARNING:urllib3.connectionpool:Retrying (Retry(total=1, connect=None, read=None, redirect=None, status=None)) after connection broken by 'ConnectionResetError(54, 'Connection reset by peer')': /ApplicationStatus\n",
      "WARNING:urllib3.connectionpool:Retrying (Retry(total=0, connect=None, read=None, redirect=None, status=None)) after connection broken by 'ConnectionResetError(54, 'Connection reset by peer')': /ApplicationStatus\n",
      "WARNING:urllib3.connectionpool:Retrying (Retry(total=9, connect=None, read=None, redirect=None, status=None)) after connection broken by 'ConnectionResetError(54, 'Connection reset by peer')': /ApplicationStatus\n",
      "WARNING:urllib3.connectionpool:Retrying (Retry(total=8, connect=None, read=None, redirect=None, status=None)) after connection broken by 'ConnectionResetError(54, 'Connection reset by peer')': /ApplicationStatus\n",
      "WARNING:urllib3.connectionpool:Retrying (Retry(total=7, connect=None, read=None, redirect=None, status=None)) after connection broken by 'ConnectionResetError(54, 'Connection reset by peer')': /ApplicationStatus\n",
      "WARNING:urllib3.connectionpool:Retrying (Retry(total=6, connect=None, read=None, redirect=None, status=None)) after connection broken by 'ConnectionResetError(54, 'Connection reset by peer')': /ApplicationStatus\n",
      "WARNING:urllib3.connectionpool:Retrying (Retry(total=5, connect=None, read=None, redirect=None, status=None)) after connection broken by 'ConnectionResetError(54, 'Connection reset by peer')': /ApplicationStatus\n",
      "WARNING:urllib3.connectionpool:Retrying (Retry(total=4, connect=None, read=None, redirect=None, status=None)) after connection broken by 'ConnectionResetError(54, 'Connection reset by peer')': /ApplicationStatus\n",
      "WARNING:urllib3.connectionpool:Retrying (Retry(total=3, connect=None, read=None, redirect=None, status=None)) after connection broken by 'ConnectionResetError(54, 'Connection reset by peer')': /ApplicationStatus\n",
      "WARNING:urllib3.connectionpool:Retrying (Retry(total=2, connect=None, read=None, redirect=None, status=None)) after connection broken by 'ConnectionResetError(54, 'Connection reset by peer')': /ApplicationStatus\n",
      "WARNING:urllib3.connectionpool:Retrying (Retry(total=1, connect=None, read=None, redirect=None, status=None)) after connection broken by 'ConnectionResetError(54, 'Connection reset by peer')': /ApplicationStatus\n",
      "WARNING:urllib3.connectionpool:Retrying (Retry(total=0, connect=None, read=None, redirect=None, status=None)) after connection broken by 'ConnectionResetError(54, 'Connection reset by peer')': /ApplicationStatus\n",
      "WARNING:urllib3.connectionpool:Retrying (Retry(total=9, connect=None, read=None, redirect=None, status=None)) after connection broken by 'ConnectionResetError(54, 'Connection reset by peer')': /ApplicationStatus\n",
      "WARNING:urllib3.connectionpool:Retrying (Retry(total=8, connect=None, read=None, redirect=None, status=None)) after connection broken by 'ConnectionResetError(54, 'Connection reset by peer')': /ApplicationStatus\n",
      "WARNING:urllib3.connectionpool:Retrying (Retry(total=7, connect=None, read=None, redirect=None, status=None)) after connection broken by 'ConnectionResetError(54, 'Connection reset by peer')': /ApplicationStatus\n",
      "WARNING:urllib3.connectionpool:Retrying (Retry(total=6, connect=None, read=None, redirect=None, status=None)) after connection broken by 'ConnectionResetError(54, 'Connection reset by peer')': /ApplicationStatus\n",
      "WARNING:urllib3.connectionpool:Retrying (Retry(total=5, connect=None, read=None, redirect=None, status=None)) after connection broken by 'ConnectionResetError(54, 'Connection reset by peer')': /ApplicationStatus\n",
      "WARNING:urllib3.connectionpool:Retrying (Retry(total=4, connect=None, read=None, redirect=None, status=None)) after connection broken by 'ConnectionResetError(54, 'Connection reset by peer')': /ApplicationStatus\n",
      "WARNING:urllib3.connectionpool:Retrying (Retry(total=3, connect=None, read=None, redirect=None, status=None)) after connection broken by 'ConnectionResetError(54, 'Connection reset by peer')': /ApplicationStatus\n",
      "WARNING:urllib3.connectionpool:Retrying (Retry(total=2, connect=None, read=None, redirect=None, status=None)) after connection broken by 'ConnectionResetError(54, 'Connection reset by peer')': /ApplicationStatus\n",
      "WARNING:urllib3.connectionpool:Retrying (Retry(total=1, connect=None, read=None, redirect=None, status=None)) after connection broken by 'ConnectionResetError(54, 'Connection reset by peer')': /ApplicationStatus\n",
      "WARNING:urllib3.connectionpool:Retrying (Retry(total=0, connect=None, read=None, redirect=None, status=None)) after connection broken by 'ConnectionResetError(54, 'Connection reset by peer')': /ApplicationStatus\n",
      "WARNING:urllib3.connectionpool:Retrying (Retry(total=9, connect=None, read=None, redirect=None, status=None)) after connection broken by 'ConnectionResetError(54, 'Connection reset by peer')': /ApplicationStatus\n",
      "WARNING:urllib3.connectionpool:Retrying (Retry(total=8, connect=None, read=None, redirect=None, status=None)) after connection broken by 'ConnectionResetError(54, 'Connection reset by peer')': /ApplicationStatus\n",
      "WARNING:urllib3.connectionpool:Retrying (Retry(total=7, connect=None, read=None, redirect=None, status=None)) after connection broken by 'ConnectionResetError(54, 'Connection reset by peer')': /ApplicationStatus\n",
      "WARNING:urllib3.connectionpool:Retrying (Retry(total=6, connect=None, read=None, redirect=None, status=None)) after connection broken by 'ConnectionResetError(54, 'Connection reset by peer')': /ApplicationStatus\n",
      "WARNING:urllib3.connectionpool:Retrying (Retry(total=5, connect=None, read=None, redirect=None, status=None)) after connection broken by 'ConnectionResetError(54, 'Connection reset by peer')': /ApplicationStatus\n",
      "WARNING:urllib3.connectionpool:Retrying (Retry(total=4, connect=None, read=None, redirect=None, status=None)) after connection broken by 'ConnectionResetError(54, 'Connection reset by peer')': /ApplicationStatus\n",
      "WARNING:urllib3.connectionpool:Retrying (Retry(total=3, connect=None, read=None, redirect=None, status=None)) after connection broken by 'ConnectionResetError(54, 'Connection reset by peer')': /ApplicationStatus\n",
      "WARNING:urllib3.connectionpool:Retrying (Retry(total=2, connect=None, read=None, redirect=None, status=None)) after connection broken by 'ConnectionResetError(54, 'Connection reset by peer')': /ApplicationStatus\n",
      "WARNING:urllib3.connectionpool:Retrying (Retry(total=1, connect=None, read=None, redirect=None, status=None)) after connection broken by 'ConnectionResetError(54, 'Connection reset by peer')': /ApplicationStatus\n",
      "WARNING:urllib3.connectionpool:Retrying (Retry(total=0, connect=None, read=None, redirect=None, status=None)) after connection broken by 'ConnectionResetError(54, 'Connection reset by peer')': /ApplicationStatus\n"
     ]
    },
    {
     "name": "stdout",
     "output_type": "stream",
     "text": [
      "Waiting for application to come up, 5/300 seconds.\n"
     ]
    },
    {
     "name": "stderr",
     "output_type": "stream",
     "text": [
      "WARNING:urllib3.connectionpool:Retrying (Retry(total=9, connect=None, read=None, redirect=None, status=None)) after connection broken by 'ConnectionResetError(54, 'Connection reset by peer')': /ApplicationStatus\n",
      "WARNING:urllib3.connectionpool:Retrying (Retry(total=8, connect=None, read=None, redirect=None, status=None)) after connection broken by 'ConnectionResetError(54, 'Connection reset by peer')': /ApplicationStatus\n",
      "WARNING:urllib3.connectionpool:Retrying (Retry(total=7, connect=None, read=None, redirect=None, status=None)) after connection broken by 'ConnectionResetError(54, 'Connection reset by peer')': /ApplicationStatus\n",
      "WARNING:urllib3.connectionpool:Retrying (Retry(total=6, connect=None, read=None, redirect=None, status=None)) after connection broken by 'ConnectionResetError(54, 'Connection reset by peer')': /ApplicationStatus\n",
      "WARNING:urllib3.connectionpool:Retrying (Retry(total=5, connect=None, read=None, redirect=None, status=None)) after connection broken by 'ConnectionResetError(54, 'Connection reset by peer')': /ApplicationStatus\n",
      "WARNING:urllib3.connectionpool:Retrying (Retry(total=4, connect=None, read=None, redirect=None, status=None)) after connection broken by 'ConnectionResetError(54, 'Connection reset by peer')': /ApplicationStatus\n",
      "WARNING:urllib3.connectionpool:Retrying (Retry(total=3, connect=None, read=None, redirect=None, status=None)) after connection broken by 'ConnectionResetError(54, 'Connection reset by peer')': /ApplicationStatus\n",
      "WARNING:urllib3.connectionpool:Retrying (Retry(total=2, connect=None, read=None, redirect=None, status=None)) after connection broken by 'ConnectionResetError(54, 'Connection reset by peer')': /ApplicationStatus\n",
      "WARNING:urllib3.connectionpool:Retrying (Retry(total=1, connect=None, read=None, redirect=None, status=None)) after connection broken by 'ConnectionResetError(54, 'Connection reset by peer')': /ApplicationStatus\n",
      "WARNING:urllib3.connectionpool:Retrying (Retry(total=0, connect=None, read=None, redirect=None, status=None)) after connection broken by 'ConnectionResetError(54, 'Connection reset by peer')': /ApplicationStatus\n",
      "WARNING:urllib3.connectionpool:Retrying (Retry(total=9, connect=None, read=None, redirect=None, status=None)) after connection broken by 'ConnectionResetError(54, 'Connection reset by peer')': /ApplicationStatus\n",
      "WARNING:urllib3.connectionpool:Retrying (Retry(total=8, connect=None, read=None, redirect=None, status=None)) after connection broken by 'ConnectionResetError(54, 'Connection reset by peer')': /ApplicationStatus\n",
      "WARNING:urllib3.connectionpool:Retrying (Retry(total=7, connect=None, read=None, redirect=None, status=None)) after connection broken by 'ConnectionResetError(54, 'Connection reset by peer')': /ApplicationStatus\n",
      "WARNING:urllib3.connectionpool:Retrying (Retry(total=6, connect=None, read=None, redirect=None, status=None)) after connection broken by 'ConnectionResetError(54, 'Connection reset by peer')': /ApplicationStatus\n",
      "WARNING:urllib3.connectionpool:Retrying (Retry(total=5, connect=None, read=None, redirect=None, status=None)) after connection broken by 'ConnectionResetError(54, 'Connection reset by peer')': /ApplicationStatus\n",
      "WARNING:urllib3.connectionpool:Retrying (Retry(total=4, connect=None, read=None, redirect=None, status=None)) after connection broken by 'ConnectionResetError(54, 'Connection reset by peer')': /ApplicationStatus\n",
      "WARNING:urllib3.connectionpool:Retrying (Retry(total=3, connect=None, read=None, redirect=None, status=None)) after connection broken by 'ConnectionResetError(54, 'Connection reset by peer')': /ApplicationStatus\n",
      "WARNING:urllib3.connectionpool:Retrying (Retry(total=2, connect=None, read=None, redirect=None, status=None)) after connection broken by 'ConnectionResetError(54, 'Connection reset by peer')': /ApplicationStatus\n",
      "WARNING:urllib3.connectionpool:Retrying (Retry(total=1, connect=None, read=None, redirect=None, status=None)) after connection broken by 'ConnectionResetError(54, 'Connection reset by peer')': /ApplicationStatus\n",
      "WARNING:urllib3.connectionpool:Retrying (Retry(total=0, connect=None, read=None, redirect=None, status=None)) after connection broken by 'ConnectionResetError(54, 'Connection reset by peer')': /ApplicationStatus\n",
      "WARNING:urllib3.connectionpool:Retrying (Retry(total=9, connect=None, read=None, redirect=None, status=None)) after connection broken by 'ConnectionResetError(54, 'Connection reset by peer')': /ApplicationStatus\n",
      "WARNING:urllib3.connectionpool:Retrying (Retry(total=8, connect=None, read=None, redirect=None, status=None)) after connection broken by 'ConnectionResetError(54, 'Connection reset by peer')': /ApplicationStatus\n",
      "WARNING:urllib3.connectionpool:Retrying (Retry(total=7, connect=None, read=None, redirect=None, status=None)) after connection broken by 'ConnectionResetError(54, 'Connection reset by peer')': /ApplicationStatus\n",
      "WARNING:urllib3.connectionpool:Retrying (Retry(total=6, connect=None, read=None, redirect=None, status=None)) after connection broken by 'ConnectionResetError(54, 'Connection reset by peer')': /ApplicationStatus\n",
      "WARNING:urllib3.connectionpool:Retrying (Retry(total=5, connect=None, read=None, redirect=None, status=None)) after connection broken by 'ConnectionResetError(54, 'Connection reset by peer')': /ApplicationStatus\n",
      "WARNING:urllib3.connectionpool:Retrying (Retry(total=4, connect=None, read=None, redirect=None, status=None)) after connection broken by 'ConnectionResetError(54, 'Connection reset by peer')': /ApplicationStatus\n",
      "WARNING:urllib3.connectionpool:Retrying (Retry(total=3, connect=None, read=None, redirect=None, status=None)) after connection broken by 'ConnectionResetError(54, 'Connection reset by peer')': /ApplicationStatus\n",
      "WARNING:urllib3.connectionpool:Retrying (Retry(total=2, connect=None, read=None, redirect=None, status=None)) after connection broken by 'ConnectionResetError(54, 'Connection reset by peer')': /ApplicationStatus\n",
      "WARNING:urllib3.connectionpool:Retrying (Retry(total=1, connect=None, read=None, redirect=None, status=None)) after connection broken by 'ConnectionResetError(54, 'Connection reset by peer')': /ApplicationStatus\n",
      "WARNING:urllib3.connectionpool:Retrying (Retry(total=0, connect=None, read=None, redirect=None, status=None)) after connection broken by 'ConnectionResetError(54, 'Connection reset by peer')': /ApplicationStatus\n",
      "WARNING:urllib3.connectionpool:Retrying (Retry(total=9, connect=None, read=None, redirect=None, status=None)) after connection broken by 'ConnectionResetError(54, 'Connection reset by peer')': /ApplicationStatus\n",
      "WARNING:urllib3.connectionpool:Retrying (Retry(total=8, connect=None, read=None, redirect=None, status=None)) after connection broken by 'ConnectionResetError(54, 'Connection reset by peer')': /ApplicationStatus\n",
      "WARNING:urllib3.connectionpool:Retrying (Retry(total=7, connect=None, read=None, redirect=None, status=None)) after connection broken by 'ConnectionResetError(54, 'Connection reset by peer')': /ApplicationStatus\n",
      "WARNING:urllib3.connectionpool:Retrying (Retry(total=6, connect=None, read=None, redirect=None, status=None)) after connection broken by 'ConnectionResetError(54, 'Connection reset by peer')': /ApplicationStatus\n",
      "WARNING:urllib3.connectionpool:Retrying (Retry(total=5, connect=None, read=None, redirect=None, status=None)) after connection broken by 'ConnectionResetError(54, 'Connection reset by peer')': /ApplicationStatus\n",
      "WARNING:urllib3.connectionpool:Retrying (Retry(total=4, connect=None, read=None, redirect=None, status=None)) after connection broken by 'ConnectionResetError(54, 'Connection reset by peer')': /ApplicationStatus\n",
      "WARNING:urllib3.connectionpool:Retrying (Retry(total=3, connect=None, read=None, redirect=None, status=None)) after connection broken by 'ConnectionResetError(54, 'Connection reset by peer')': /ApplicationStatus\n",
      "WARNING:urllib3.connectionpool:Retrying (Retry(total=2, connect=None, read=None, redirect=None, status=None)) after connection broken by 'ConnectionResetError(54, 'Connection reset by peer')': /ApplicationStatus\n",
      "WARNING:urllib3.connectionpool:Retrying (Retry(total=1, connect=None, read=None, redirect=None, status=None)) after connection broken by 'ConnectionResetError(54, 'Connection reset by peer')': /ApplicationStatus\n",
      "WARNING:urllib3.connectionpool:Retrying (Retry(total=0, connect=None, read=None, redirect=None, status=None)) after connection broken by 'ConnectionResetError(54, 'Connection reset by peer')': /ApplicationStatus\n",
      "WARNING:urllib3.connectionpool:Retrying (Retry(total=9, connect=None, read=None, redirect=None, status=None)) after connection broken by 'ConnectionResetError(54, 'Connection reset by peer')': /ApplicationStatus\n",
      "WARNING:urllib3.connectionpool:Retrying (Retry(total=8, connect=None, read=None, redirect=None, status=None)) after connection broken by 'ConnectionResetError(54, 'Connection reset by peer')': /ApplicationStatus\n",
      "WARNING:urllib3.connectionpool:Retrying (Retry(total=7, connect=None, read=None, redirect=None, status=None)) after connection broken by 'ConnectionResetError(54, 'Connection reset by peer')': /ApplicationStatus\n",
      "WARNING:urllib3.connectionpool:Retrying (Retry(total=6, connect=None, read=None, redirect=None, status=None)) after connection broken by 'ConnectionResetError(54, 'Connection reset by peer')': /ApplicationStatus\n",
      "WARNING:urllib3.connectionpool:Retrying (Retry(total=5, connect=None, read=None, redirect=None, status=None)) after connection broken by 'ConnectionResetError(54, 'Connection reset by peer')': /ApplicationStatus\n",
      "WARNING:urllib3.connectionpool:Retrying (Retry(total=4, connect=None, read=None, redirect=None, status=None)) after connection broken by 'ConnectionResetError(54, 'Connection reset by peer')': /ApplicationStatus\n",
      "WARNING:urllib3.connectionpool:Retrying (Retry(total=3, connect=None, read=None, redirect=None, status=None)) after connection broken by 'ConnectionResetError(54, 'Connection reset by peer')': /ApplicationStatus\n",
      "WARNING:urllib3.connectionpool:Retrying (Retry(total=2, connect=None, read=None, redirect=None, status=None)) after connection broken by 'ConnectionResetError(54, 'Connection reset by peer')': /ApplicationStatus\n",
      "WARNING:urllib3.connectionpool:Retrying (Retry(total=1, connect=None, read=None, redirect=None, status=None)) after connection broken by 'ConnectionResetError(54, 'Connection reset by peer')': /ApplicationStatus\n",
      "WARNING:urllib3.connectionpool:Retrying (Retry(total=0, connect=None, read=None, redirect=None, status=None)) after connection broken by 'ConnectionResetError(54, 'Connection reset by peer')': /ApplicationStatus\n"
     ]
    },
    {
     "name": "stdout",
     "output_type": "stream",
     "text": [
      "Waiting for application to come up, 10/300 seconds.\n"
     ]
    },
    {
     "name": "stderr",
     "output_type": "stream",
     "text": [
      "WARNING:urllib3.connectionpool:Retrying (Retry(total=9, connect=None, read=None, redirect=None, status=None)) after connection broken by 'ConnectionResetError(54, 'Connection reset by peer')': /ApplicationStatus\n",
      "WARNING:urllib3.connectionpool:Retrying (Retry(total=8, connect=None, read=None, redirect=None, status=None)) after connection broken by 'ConnectionResetError(54, 'Connection reset by peer')': /ApplicationStatus\n",
      "WARNING:urllib3.connectionpool:Retrying (Retry(total=7, connect=None, read=None, redirect=None, status=None)) after connection broken by 'ConnectionResetError(54, 'Connection reset by peer')': /ApplicationStatus\n",
      "WARNING:urllib3.connectionpool:Retrying (Retry(total=6, connect=None, read=None, redirect=None, status=None)) after connection broken by 'ConnectionResetError(54, 'Connection reset by peer')': /ApplicationStatus\n",
      "WARNING:urllib3.connectionpool:Retrying (Retry(total=5, connect=None, read=None, redirect=None, status=None)) after connection broken by 'ConnectionResetError(54, 'Connection reset by peer')': /ApplicationStatus\n",
      "WARNING:urllib3.connectionpool:Retrying (Retry(total=4, connect=None, read=None, redirect=None, status=None)) after connection broken by 'ConnectionResetError(54, 'Connection reset by peer')': /ApplicationStatus\n",
      "WARNING:urllib3.connectionpool:Retrying (Retry(total=3, connect=None, read=None, redirect=None, status=None)) after connection broken by 'ConnectionResetError(54, 'Connection reset by peer')': /ApplicationStatus\n",
      "WARNING:urllib3.connectionpool:Retrying (Retry(total=2, connect=None, read=None, redirect=None, status=None)) after connection broken by 'ConnectionResetError(54, 'Connection reset by peer')': /ApplicationStatus\n",
      "WARNING:urllib3.connectionpool:Retrying (Retry(total=1, connect=None, read=None, redirect=None, status=None)) after connection broken by 'ConnectionResetError(54, 'Connection reset by peer')': /ApplicationStatus\n",
      "WARNING:urllib3.connectionpool:Retrying (Retry(total=0, connect=None, read=None, redirect=None, status=None)) after connection broken by 'ConnectionResetError(54, 'Connection reset by peer')': /ApplicationStatus\n"
     ]
    },
    {
     "name": "stdout",
     "output_type": "stream",
     "text": [
      "Application is up!\n",
      "Finished deployment.\n"
     ]
    }
   ],
   "execution_count": 31
  },
  {
   "metadata": {
    "ExecuteTime": {
     "end_time": "2024-09-26T07:02:44.792521Z",
     "start_time": "2024-09-26T07:02:44.292827Z"
    }
   },
   "cell_type": "code",
   "source": [
    "# Create and feed 100 dummy docs\n",
    "docs = [\n",
    "    {\n",
    "        'id': f'{i}',\n",
    "        'fields': {\n",
    "            'filter': i,\n",
    "            'embedding': [i]\n",
    "        }\n",
    "    } for i in range(100)]\n",
    "def callback(response: VespaResponse, document_id: str):\n",
    "    if not response.is_successful():\n",
    "        print(f\"Error when feeding document {document_id}: {response.get_json()}\")\n",
    "\n",
    "app.feed_iterable(docs, schema=\"ann\", namespace=\"ann\", callback=callback)"
   ],
   "id": "6637b6785b6c1602",
   "outputs": [],
   "execution_count": 32
  },
  {
   "metadata": {
    "ExecuteTime": {
     "end_time": "2024-09-26T07:14:42.887932Z",
     "start_time": "2024-09-26T07:14:42.867351Z"
    }
   },
   "cell_type": "code",
   "source": [
    "resp = app.query(body={\n",
    "    'yql': 'select * from ann where ({targetHits:1}nearestNeighbor(embedding, q))',\n",
    "    'hits': 10,\n",
    "    'ranking': 'ann',\n",
    "    \"input.query(q)\": [2.0]\n",
    "})\n",
    "resp.hits"
   ],
   "id": "e3f7cb954ab408b3",
   "outputs": [
    {
     "data": {
      "text/plain": [
       "[{'id': 'id:ann:ann::2',\n",
       "  'relevance': 1.0,\n",
       "  'source': 'anncornercase_content',\n",
       "  'fields': {'sddocname': 'ann', 'documentid': 'id:ann:ann::2', 'filter': 2}}]"
      ]
     },
     "execution_count": 69,
     "metadata": {},
     "output_type": "execute_result"
    }
   ],
   "execution_count": 69
  },
  {
   "metadata": {},
   "cell_type": "markdown",
   "source": "With an embedding `[2.0]` we get 1 hit: exactly the `targetHits`.",
   "id": "a84031c9ae8125c"
  },
  {
   "metadata": {
    "ExecuteTime": {
     "end_time": "2024-09-26T07:13:30.983559Z",
     "start_time": "2024-09-26T07:13:30.963127Z"
    }
   },
   "cell_type": "code",
   "source": [
    "resp = app.query(body={\n",
    "    'yql': 'select * from ann where ({targetHits:1}nearestNeighbor(embedding, q))',\n",
    "    'hits': 10,\n",
    "    'ranking': 'ann',\n",
    "    \"input.query(q)\": [50.0]\n",
    "})\n",
    "len(resp.hits)"
   ],
   "id": "9de42f19b86d57c1",
   "outputs": [
    {
     "data": {
      "text/plain": [
       "10"
      ]
     },
     "execution_count": 64,
     "metadata": {},
     "output_type": "execute_result"
    }
   ],
   "execution_count": 64
  },
  {
   "metadata": {},
   "cell_type": "markdown",
   "source": "However, with embedding `[50.0]` we get 10 hits (unexpected), somehow much more than set with `targetHits`.",
   "id": "3d83a070fb7ffa83"
  },
  {
   "metadata": {
    "ExecuteTime": {
     "end_time": "2024-09-26T07:32:04.782832Z",
     "start_time": "2024-09-26T07:32:04.770357Z"
    }
   },
   "cell_type": "code",
   "source": [
    "resp = app.query(body={\n",
    "    'yql': 'select * from ann where ({targetHits:1}nearestNeighbor(embedding, q))',\n",
    "    'hits': 10,\n",
    "    'ranking': 'ann',\n",
    "    \"input.query(q)\": [95.0]\n",
    "})\n",
    "len(resp.hits)"
   ],
   "id": "49a378e15d6b4264",
   "outputs": [
    {
     "data": {
      "text/plain": [
       "10"
      ]
     },
     "execution_count": 99,
     "metadata": {},
     "output_type": "execute_result"
    }
   ],
   "execution_count": 99
  },
  {
   "metadata": {},
   "cell_type": "markdown",
   "source": [
    "With embedding `[95.0]` we also get 10 hits.\n",
    "It seems that docs in HNSW that were inserted later are \"more discoverable\" than the ones inserted earlier. Similar effects are reported in a blogpost [here](https://www.marqo.ai/blog/understanding-recall-in-hnsw-search).\n",
    "\n",
    "\n",
    "Let's try searching with `ranking.matching.approximateThreshold=0.1` and a filter."
   ],
   "id": "9ce0776c6027287f"
  },
  {
   "metadata": {
    "ExecuteTime": {
     "end_time": "2024-09-26T07:32:17.654146Z",
     "start_time": "2024-09-26T07:32:17.639404Z"
    }
   },
   "cell_type": "code",
   "source": [
    "resp = app.query(body={\n",
    "    'yql': 'select * from ann where ({targetHits:1, approximate:false}nearestNeighbor(embedding, q)) AND filter < 5',\n",
    "    'hits': 10,\n",
    "    'ranking': 'ann',\n",
    "    'input.query(q)': [50.0],\n",
    "    \n",
    "})\n",
    "len(resp.hits)"
   ],
   "id": "186b63ef42abe163",
   "outputs": [
    {
     "data": {
      "text/plain": [
       "3"
      ]
     },
     "execution_count": 100,
     "metadata": {},
     "output_type": "execute_result"
    }
   ],
   "execution_count": 100
  },
  {
   "metadata": {},
   "cell_type": "markdown",
   "source": [
    "While searching with a filter `filter < 5` and `hits=10` for some reason we get 3 hits (unexpected).\n",
    "There are clearly 5 documents (ids 0..4) that satisfy the filter but for some reason the `nearestNeighbor` retrieved 3 documents.\n",
    "\n",
    "In the next example, let's go crazy and run the same query with different embeddings from 0 to 99."
   ],
   "id": "745a4130b7043988"
  },
  {
   "metadata": {
    "ExecuteTime": {
     "end_time": "2024-09-26T07:21:17.955711Z",
     "start_time": "2024-09-26T07:21:17.388647Z"
    }
   },
   "cell_type": "code",
   "source": [
    "hit_counts = []\n",
    "for i in range(100):\n",
    "    resp = app.query(body={\n",
    "        'yql': 'select * from ann where ({targetHits:1, approximate:false}nearestNeighbor(embedding, q)) AND filter < 5',\n",
    "        'hits': 10,\n",
    "        'ranking': 'ann',\n",
    "        \"input.query(q)\": [i],\n",
    "        'ranking.matching.approximateThreshold': 0.05\n",
    "    })\n",
    "    hit_counts.append(len(resp.hits))\n",
    "print(hit_counts)"
   ],
   "id": "b2d521864b9dede2",
   "outputs": [
    {
     "name": "stdout",
     "output_type": "stream",
     "text": [
      "[3, 2, 1, 2, 3, 3, 3, 3, 3, 3, 3, 3, 3, 3, 3, 3, 3, 3, 3, 3, 3, 3, 3, 3, 3, 3, 3, 3, 3, 3, 3, 3, 3, 3, 3, 3, 3, 3, 3, 3, 3, 3, 3, 3, 3, 3, 3, 3, 3, 3, 3, 3, 3, 3, 3, 3, 3, 3, 3, 3, 3, 3, 3, 3, 3, 3, 3, 3, 3, 3, 3, 3, 3, 3, 3, 3, 3, 3, 3, 3, 3, 3, 3, 3, 3, 3, 3, 3, 3, 3, 3, 3, 3, 3, 3, 3, 3, 3, 3, 3]\n"
     ]
    }
   ],
   "execution_count": 95
  },
  {
   "metadata": {},
   "cell_type": "markdown",
   "source": [
    "From the results above we see that most of the time it returns 3 hits.\n",
    "But for some reason with embeddings from 0 to 5 we get `[3, 2, 1, 2, 3]` hits.\n",
    "Interesting.\n",
    "\n",
    "Anyway, that is all for this time.\n",
    "Let's clean our Vespa instance and call it a day."
   ],
   "id": "9cf1b98f4e6a6a1d"
  },
  {
   "metadata": {
    "ExecuteTime": {
     "end_time": "2024-09-25T13:29:55.225074Z",
     "start_time": "2024-09-25T13:29:55.042713Z"
    }
   },
   "cell_type": "code",
   "source": "app.delete_all_docs(content_cluster_name='anncornercase_content', schema='ann')",
   "id": "6ad88a964031b453",
   "outputs": [],
   "execution_count": 9
  },
  {
   "metadata": {
    "ExecuteTime": {
     "end_time": "2024-09-24T07:30:18.087379Z",
     "start_time": "2024-09-24T07:30:16.869736Z"
    }
   },
   "cell_type": "code",
   "source": [
    "vespa_docker.container.stop()\n",
    "vespa_docker.container.remove()"
   ],
   "id": "ea457d97a984f976",
   "outputs": [],
   "execution_count": 149
  },
  {
   "metadata": {},
   "cell_type": "markdown",
   "source": [
    "## Fin\n",
    "\n",
    "Various nuances of ANN search should be advertised a little bit more.\n",
    "That would allow for better planning for introducing ANN into search, prevent some confusion while looking at the results, and save some time overall.\n",
    "Even though with the demo setup I haven't reproduced the exact issue from the production, I hope that the demo was informative.\n",
    "I encourage you to play with the setup and let me know what unexpected results you're getting.\n",
    "That's it for this time. Bye!"
   ],
   "id": "e0b18d132670e0c9"
  }
 ],
 "metadata": {
  "kernelspec": {
   "display_name": "Python 3",
   "language": "python",
   "name": "python3"
  },
  "language_info": {
   "codemirror_mode": {
    "name": "ipython",
    "version": 2
   },
   "file_extension": ".py",
   "mimetype": "text/x-python",
   "name": "python",
   "nbconvert_exporter": "python",
   "pygments_lexer": "ipython2",
   "version": "2.7.6"
  }
 },
 "nbformat": 4,
 "nbformat_minor": 5
}
