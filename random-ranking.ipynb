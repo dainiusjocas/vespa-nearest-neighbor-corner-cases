{
 "cells": [
  {
   "cell_type": "code",
   "id": "initial_id",
   "metadata": {
    "collapsed": true,
    "ExecuteTime": {
     "end_time": "2025-07-14T08:17:10.691009Z",
     "start_time": "2025-07-14T08:17:10.689117Z"
    }
   },
   "source": "# The goal is to show that when using a random ranking feature the final `relevance` score is not equal to the last ranking phase.",
   "outputs": [],
   "execution_count": 1
  },
  {
   "metadata": {
    "ExecuteTime": {
     "end_time": "2025-07-14T08:17:49.319855Z",
     "start_time": "2025-07-14T08:17:48.989918Z"
    }
   },
   "cell_type": "code",
   "source": "!docker run --detach --rm --name vespa-randrank --hostname vespa-randrank --publish 0.0.0.0:8080:8080 --publish 0.0.0.0:19050:19050 --publish 0.0.0.0:19071:19071 vespaengine/vespa:8.548.23",
   "id": "6defa3664e272418",
   "outputs": [
    {
     "name": "stdout",
     "output_type": "stream",
     "text": [
      "07901bf2c87a7ee2bca341053474ee83d74814e997c69aab222bf0fa00d47e96\r\n"
     ]
    }
   ],
   "execution_count": 2
  },
  {
   "metadata": {
    "ExecuteTime": {
     "end_time": "2025-07-14T08:24:13.905056Z",
     "start_time": "2025-07-14T08:24:13.902025Z"
    }
   },
   "cell_type": "code",
   "source": [
    "# Setup a simple Vespa application package\n",
    "from vespa.package import (ApplicationPackage, Field, Schema, Document, RankProfile, Function,\n",
    "                           QueryProfile, QueryProfileType, FirstPhaseRanking)\n",
    "from vespa.io import VespaResponse\n",
    "\n",
    "vap = ApplicationPackage(\n",
    "    name=\"randrank\",\n",
    "    query_profile_type=QueryProfileType(\n",
    "        fields=[]\n",
    "    ),\n",
    "    query_profile=QueryProfile(\n",
    "        fields=[]\n",
    "    ),\n",
    "    schema=[\n",
    "        Schema(\n",
    "            name=\"doc\",\n",
    "            document=Document(\n",
    "                fields=[\n",
    "                    Field(\n",
    "                        name=\"id\",\n",
    "                        type=\"int\",\n",
    "                        indexing=[\"attribute\", \"summary\"],\n",
    "                        attribute=[\"fast-search\"],\n",
    "                    ),\n",
    "                ]\n",
    "            ),\n",
    "            rank_profiles=[\n",
    "                RankProfile(\n",
    "                    name=\"randrank\",\n",
    "                    functions=[\n",
    "                        Function(\n",
    "                            name='fuzziness_boost',\n",
    "                            expression='random(attribute(filter))',\n",
    "                        ),\n",
    "                        Function(\n",
    "                            name='final_ranking_score',\n",
    "                            expression='fuzziness_boost + 1'\n",
    "                        )\n",
    "                    ],\n",
    "                    first_phase=FirstPhaseRanking(\n",
    "                        expression='final_ranking_score',\n",
    "                    ),\n",
    "                    match_features=['final_ranking_score', 'fuzziness_boost', 'firstPhase'],\n",
    "                    summary_features=['final_ranking_score', 'fuzziness_boost', 'firstPhase'],\n",
    "                ),\n",
    "            ]\n",
    "        )\n",
    "    ]\n",
    ")"
   ],
   "id": "f9cfeba6039486",
   "outputs": [],
   "execution_count": 8
  },
  {
   "metadata": {
    "ExecuteTime": {
     "end_time": "2025-07-14T08:24:16.902090Z",
     "start_time": "2025-07-14T08:24:16.114503Z"
    }
   },
   "cell_type": "code",
   "source": [
    "vap_file_name = \"randrank.zip\"\n",
    "vap.to_zipfile(vap_file_name)\n",
    "! vespa deploy {vap_file_name} -t http://localhost:19071"
   ],
   "id": "1f79bb90e3eddab7",
   "outputs": [
    {
     "name": "stdout",
     "output_type": "stream",
     "text": [
      "Uploading application package... done;1m⣟\u001B[0;22m\r\n",
      "\u001B[32mSuccess:\u001B[0m Deployed \u001B[36m'randrank.zip'\u001B[0m with session ID \u001B[36m3\u001B[0m\r\n"
     ]
    }
   ],
   "execution_count": 9
  },
  {
   "metadata": {
    "ExecuteTime": {
     "end_time": "2025-07-14T08:24:19.684649Z",
     "start_time": "2025-07-14T08:24:19.682296Z"
    }
   },
   "cell_type": "code",
   "source": [
    "from vespa.application import Vespa\n",
    "\n",
    "prod_vespa_host = \"http://localhost\"\n",
    "app = Vespa(url=prod_vespa_host, port=8080)"
   ],
   "id": "1acd5efea89e1ae3",
   "outputs": [],
   "execution_count": 10
  },
  {
   "metadata": {
    "ExecuteTime": {
     "end_time": "2025-07-14T08:24:20.528691Z",
     "start_time": "2025-07-14T08:24:20.501048Z"
    }
   },
   "cell_type": "code",
   "source": [
    "# Create and feed 5 docs\n",
    "docs = [\n",
    "    {\n",
    "        'id': f'{i}',\n",
    "        'fields': {\n",
    "            'id': i,\n",
    "        }\n",
    "    } for i in range(5)]\n",
    "\n",
    "\n",
    "def callback(response: VespaResponse, document_id: str):\n",
    "    if not response.is_successful():\n",
    "        print(f\"Error when feeding document {document_id}: {response.get_json()}\")\n",
    "\n",
    "\n",
    "app.feed_iterable(docs, schema=\"doc\", namespace=\"doc\", callback=callback)"
   ],
   "id": "96d99b764bd2d0d8",
   "outputs": [],
   "execution_count": 11
  },
  {
   "metadata": {
    "ExecuteTime": {
     "end_time": "2025-07-14T08:24:23.244842Z",
     "start_time": "2025-07-14T08:24:23.211392Z"
    }
   },
   "cell_type": "code",
   "source": [
    "app.query(body={\n",
    "    'yql': 'select matchfeatures, summaryfeatures '\n",
    "           'from sources * '\n",
    "           'where true',\n",
    "    'ranking.profile': 'randrank',\n",
    "}).json"
   ],
   "id": "6e28856629fd957b",
   "outputs": [
    {
     "data": {
      "text/plain": [
       "{'root': {'id': 'toplevel',\n",
       "  'relevance': 1.0,\n",
       "  'fields': {'totalCount': 5},\n",
       "  'coverage': {'coverage': 100,\n",
       "   'documents': 5,\n",
       "   'full': True,\n",
       "   'nodes': 1,\n",
       "   'results': 1,\n",
       "   'resultsFull': 1},\n",
       "  'children': [{'id': 'index:randrank_content/0/c81e728d3cb3a054bb332a60',\n",
       "    'relevance': 1.6379597610794008,\n",
       "    'source': 'randrank_content',\n",
       "    'fields': {'matchfeatures': {'firstPhase': 1.6886327285319567,\n",
       "      'final_ranking_score': 1.6886327285319567,\n",
       "      'fuzziness_boost': 0.6886327285319567},\n",
       "     'summaryfeatures': {'firstPhase': 1.0899378973990679,\n",
       "      'final_ranking_score': 1.0899378973990679,\n",
       "      'fuzziness_boost': 0.08993789739906788,\n",
       "      'vespa.summaryFeatures.cached': 0.0}}},\n",
       "   {'id': 'index:randrank_content/0/a87ff679afc128dfacf8e944',\n",
       "    'relevance': 1.4935250622220337,\n",
       "    'source': 'randrank_content',\n",
       "    'fields': {'matchfeatures': {'firstPhase': 1.1759059918113053,\n",
       "      'final_ranking_score': 1.1759059918113053,\n",
       "      'fuzziness_boost': 0.17590599181130528},\n",
       "     'summaryfeatures': {'firstPhase': 1.0144132534042,\n",
       "      'final_ranking_score': 1.0144132534042,\n",
       "      'fuzziness_boost': 0.014413253404200077,\n",
       "      'vespa.summaryFeatures.cached': 0.0}}},\n",
       "   {'id': 'index:randrank_content/0/eccbc87e2d7737d4534a0eda',\n",
       "    'relevance': 1.4176753754727542,\n",
       "    'source': 'randrank_content',\n",
       "    'fields': {'matchfeatures': {'firstPhase': 1.6751019759103656,\n",
       "      'final_ranking_score': 1.6751019759103656,\n",
       "      'fuzziness_boost': 0.6751019759103656},\n",
       "     'summaryfeatures': {'firstPhase': 1.5759262312203646,\n",
       "      'final_ranking_score': 1.5759262312203646,\n",
       "      'fuzziness_boost': 0.5759262312203646,\n",
       "      'vespa.summaryFeatures.cached': 0.0}}},\n",
       "   {'id': 'index:randrank_content/0/cfcd2084057104fe36b740cf',\n",
       "    'relevance': 1.1942980126477778,\n",
       "    'source': 'randrank_content',\n",
       "    'fields': {'matchfeatures': {'firstPhase': 1.0378158325329423,\n",
       "      'final_ranking_score': 1.0378158325329423,\n",
       "      'fuzziness_boost': 0.037815832532942295},\n",
       "     'summaryfeatures': {'firstPhase': 1.6533197006210685,\n",
       "      'final_ranking_score': 1.6533197006210685,\n",
       "      'fuzziness_boost': 0.6533197006210685,\n",
       "      'vespa.summaryFeatures.cached': 0.0}}},\n",
       "   {'id': 'index:randrank_content/0/c4ca42388ce70a10b392b401',\n",
       "    'relevance': 1.0148840434849262,\n",
       "    'source': 'randrank_content',\n",
       "    'fields': {'matchfeatures': {'firstPhase': 1.8258165577426553,\n",
       "      'final_ranking_score': 1.8258165577426553,\n",
       "      'fuzziness_boost': 0.8258165577426553},\n",
       "     'summaryfeatures': {'firstPhase': 1.0805630483664572,\n",
       "      'final_ranking_score': 1.0805630483664572,\n",
       "      'fuzziness_boost': 0.08056304836645722,\n",
       "      'vespa.summaryFeatures.cached': 0.0}}}]}}"
      ]
     },
     "execution_count": 12,
     "metadata": {},
     "output_type": "execute_result"
    }
   ],
   "execution_count": 12
  },
  {
   "metadata": {},
   "cell_type": "code",
   "outputs": [],
   "execution_count": null,
   "source": "!docker stop vespa-randrank",
   "id": "982eca540756e987"
  }
 ],
 "metadata": {
  "kernelspec": {
   "display_name": "Python 3",
   "language": "python",
   "name": "python3"
  },
  "language_info": {
   "codemirror_mode": {
    "name": "ipython",
    "version": 2
   },
   "file_extension": ".py",
   "mimetype": "text/x-python",
   "name": "python",
   "nbconvert_exporter": "python",
   "pygments_lexer": "ipython2",
   "version": "2.7.6"
  }
 },
 "nbformat": 4,
 "nbformat_minor": 5
}
